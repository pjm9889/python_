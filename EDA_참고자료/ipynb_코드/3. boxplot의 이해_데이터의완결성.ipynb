{
 "cells": [
  {
   "cell_type": "code",
   "execution_count": 23,
   "id": "portable-resource",
   "metadata": {
    "id": "portable-resource",
    "outputId": "81bf3cea-8c10-4762-a286-66f107498049"
   },
   "outputs": [
    {
     "data": {
      "text/html": [
       "<div>\n",
       "<style scoped>\n",
       "    .dataframe tbody tr th:only-of-type {\n",
       "        vertical-align: middle;\n",
       "    }\n",
       "\n",
       "    .dataframe tbody tr th {\n",
       "        vertical-align: top;\n",
       "    }\n",
       "\n",
       "    .dataframe thead th {\n",
       "        text-align: right;\n",
       "    }\n",
       "</style>\n",
       "<table border=\"1\" class=\"dataframe\">\n",
       "  <thead>\n",
       "    <tr style=\"text-align: right;\">\n",
       "      <th></th>\n",
       "      <th>abv</th>\n",
       "      <th>ibu</th>\n",
       "      <th>id</th>\n",
       "      <th>name</th>\n",
       "      <th>style</th>\n",
       "      <th>brewery_id</th>\n",
       "      <th>ounces</th>\n",
       "    </tr>\n",
       "  </thead>\n",
       "  <tbody>\n",
       "    <tr>\n",
       "      <th>0</th>\n",
       "      <td>0.050</td>\n",
       "      <td>NaN</td>\n",
       "      <td>1436</td>\n",
       "      <td>Pub Beer</td>\n",
       "      <td>American Pale Lager</td>\n",
       "      <td>408</td>\n",
       "      <td>12.0</td>\n",
       "    </tr>\n",
       "    <tr>\n",
       "      <th>1</th>\n",
       "      <td>0.066</td>\n",
       "      <td>NaN</td>\n",
       "      <td>2265</td>\n",
       "      <td>Devil's Cup</td>\n",
       "      <td>American Pale Ale (APA)</td>\n",
       "      <td>177</td>\n",
       "      <td>12.0</td>\n",
       "    </tr>\n",
       "    <tr>\n",
       "      <th>2</th>\n",
       "      <td>0.071</td>\n",
       "      <td>NaN</td>\n",
       "      <td>2264</td>\n",
       "      <td>Rise of the Phoenix</td>\n",
       "      <td>American IPA</td>\n",
       "      <td>177</td>\n",
       "      <td>12.0</td>\n",
       "    </tr>\n",
       "    <tr>\n",
       "      <th>3</th>\n",
       "      <td>0.075</td>\n",
       "      <td>NaN</td>\n",
       "      <td>2262</td>\n",
       "      <td>Sex and Candy</td>\n",
       "      <td>American IPA</td>\n",
       "      <td>177</td>\n",
       "      <td>12.0</td>\n",
       "    </tr>\n",
       "    <tr>\n",
       "      <th>4</th>\n",
       "      <td>0.077</td>\n",
       "      <td>NaN</td>\n",
       "      <td>2261</td>\n",
       "      <td>Black Exodus</td>\n",
       "      <td>Oatmeal Stout</td>\n",
       "      <td>177</td>\n",
       "      <td>12.0</td>\n",
       "    </tr>\n",
       "  </tbody>\n",
       "</table>\n",
       "</div>"
      ],
      "text/plain": [
       "     abv  ibu    id                 name                    style  brewery_id  \\\n",
       "0  0.050  NaN  1436             Pub Beer      American Pale Lager         408   \n",
       "1  0.066  NaN  2265          Devil's Cup  American Pale Ale (APA)         177   \n",
       "2  0.071  NaN  2264  Rise of the Phoenix             American IPA         177   \n",
       "3  0.075  NaN  2262        Sex and Candy             American IPA         177   \n",
       "4  0.077  NaN  2261         Black Exodus            Oatmeal Stout         177   \n",
       "\n",
       "   ounces  \n",
       "0    12.0  \n",
       "1    12.0  \n",
       "2    12.0  \n",
       "3    12.0  \n",
       "4    12.0  "
      ]
     },
     "execution_count": 23,
     "metadata": {},
     "output_type": "execute_result"
    }
   ],
   "source": [
    "import pandas as pd\n",
    "df=pd.read_csv('csv_데이터의완결성.csv',index_col=0)\n",
    "df.head()"
   ]
  },
  {
   "cell_type": "code",
   "execution_count": 24,
   "id": "laden-albania",
   "metadata": {
    "id": "laden-albania",
    "outputId": "a8e72425-73bd-4cfa-9b9a-aabcd688bb55",
    "scrolled": true
   },
   "outputs": [
    {
     "data": {
      "text/plain": [
       "<Axes: >"
      ]
     },
     "execution_count": 24,
     "metadata": {},
     "output_type": "execute_result"
    },
    {
     "data": {
      "image/png": "[encoded data removed]",
      "text/plain": [
       "<Figure size 640x480 with 1 Axes>"
      ]
     },
     "metadata": {},
     "output_type": "display_data"
    }
   ],
   "source": [
    "df.plot(kind='box',y='abv')"
   ]
  },
  {
   "cell_type": "code",
   "execution_count": 25,
   "id": "chubby-consequence",
   "metadata": {
    "id": "chubby-consequence",
    "outputId": "caeb56c6-e349-4b6f-9b36-b98d864ff827"
   },
   "outputs": [
    {
     "data": {
      "text/plain": [
       "count    2190.000000\n",
       "mean        0.060186\n",
       "std         0.117010\n",
       "min         0.032000\n",
       "25%         0.050000\n",
       "50%         0.055000\n",
       "75%         0.065000\n",
       "max         5.500000\n",
       "Name: abv, dtype: float64"
      ]
     },
     "execution_count": 25,
     "metadata": {},
     "output_type": "execute_result"
    }
   ],
   "source": [
    "df['abv'].describe()\n"
   ]
  },
  {
   "cell_type": "code",
   "execution_count": 36,
   "id": "norwegian-wyoming",
   "metadata": {
    "colab": {
     "base_uri": "https://localhost:8080/"
    },
    "executionInfo": {
     "elapsed": 253,
     "status": "ok",
     "timestamp": 1631251182139,
     "user": {
      "displayName": "so pj",
      "photoUrl": "https://lh3.googleusercontent.com/a/default-user=s64",
      "userId": "02574474388741964814"
     },
     "user_tz": -540
    },
    "id": "norwegian-wyoming",
    "outputId": "06b08805-a998-4f50-c1f2-75f97e2c30a7"
   },
   "outputs": [
    {
     "data": {
      "text/plain": [
       "0.05"
      ]
     },
     "execution_count": 36,
     "metadata": {},
     "output_type": "execute_result"
    }
   ],
   "source": [
    "Q1=df['abv'].quantile(0.25)\n",
    "Q1"
   ]
  },
  {
   "cell_type": "code",
   "execution_count": 37,
   "id": "59c81ed9-f0e3-4546-aaf5-409dce3a0da3",
   "metadata": {},
   "outputs": [
    {
     "data": {
      "text/plain": [
       "0.065"
      ]
     },
     "execution_count": 37,
     "metadata": {},
     "output_type": "execute_result"
    }
   ],
   "source": [
    "Q3=df['abv'].quantile(0.75)\n",
    "Q3"
   ]
  },
  {
   "cell_type": "code",
   "execution_count": 39,
   "id": "9b786150-0655-40a6-8a3d-b64b25206b91",
   "metadata": {},
   "outputs": [
    {
     "data": {
      "text/html": [
       "<div>\n",
       "<style scoped>\n",
       "    .dataframe tbody tr th:only-of-type {\n",
       "        vertical-align: middle;\n",
       "    }\n",
       "\n",
       "    .dataframe tbody tr th {\n",
       "        vertical-align: top;\n",
       "    }\n",
       "\n",
       "    .dataframe thead th {\n",
       "        text-align: right;\n",
       "    }\n",
       "</style>\n",
       "<table border=\"1\" class=\"dataframe\">\n",
       "  <thead>\n",
       "    <tr style=\"text-align: right;\">\n",
       "      <th></th>\n",
       "      <th>abv</th>\n",
       "      <th>ibu</th>\n",
       "      <th>id</th>\n",
       "      <th>name</th>\n",
       "      <th>style</th>\n",
       "      <th>brewery_id</th>\n",
       "      <th>ounces</th>\n",
       "    </tr>\n",
       "  </thead>\n",
       "  <tbody>\n",
       "    <tr>\n",
       "      <th>963</th>\n",
       "      <td>0.172</td>\n",
       "      <td>NaN</td>\n",
       "      <td>3691</td>\n",
       "      <td>Chamisul Fresh</td>\n",
       "      <td>Soju</td>\n",
       "      <td>993</td>\n",
       "      <td>12.17</td>\n",
       "    </tr>\n",
       "    <tr>\n",
       "      <th>1856</th>\n",
       "      <td>0.400</td>\n",
       "      <td>NaN</td>\n",
       "      <td>3012</td>\n",
       "      <td>Grey Goose</td>\n",
       "      <td>Vodka</td>\n",
       "      <td>893</td>\n",
       "      <td>25.26</td>\n",
       "    </tr>\n",
       "    <tr>\n",
       "      <th>2250</th>\n",
       "      <td>5.500</td>\n",
       "      <td>40.0</td>\n",
       "      <td>145</td>\n",
       "      <td>Silverback Pale Ale</td>\n",
       "      <td>American Pale Ale (APA)</td>\n",
       "      <td>424</td>\n",
       "      <td>12.00</td>\n",
       "    </tr>\n",
       "  </tbody>\n",
       "</table>\n",
       "</div>"
      ],
      "text/plain": [
       "        abv   ibu    id                 name                    style  \\\n",
       "963   0.172   NaN  3691       Chamisul Fresh                     Soju   \n",
       "1856  0.400   NaN  3012           Grey Goose                    Vodka   \n",
       "2250  5.500  40.0   145  Silverback Pale Ale  American Pale Ale (APA)   \n",
       "\n",
       "      brewery_id  ounces  \n",
       "963          993   12.17  \n",
       "1856         893   25.26  \n",
       "2250         424   12.00  "
      ]
     },
     "execution_count": 39,
     "metadata": {},
     "output_type": "execute_result"
    }
   ],
   "source": [
    "IQR=Q3-Q1\n",
    "\n",
    "# 25%지점의 1.5 지점 아래 있거나\n",
    "re=(df['abv']<Q1-1.5*IQR)| (df['abv']>Q3+1.5*IQR)\n",
    "df[re]"
   ]
  },
  {
   "cell_type": "code",
   "execution_count": 40,
   "id": "competent-enzyme",
   "metadata": {
    "id": "competent-enzyme",
    "outputId": "060f92b0-edf5-46a7-8882-54449213f3d5"
   },
   "outputs": [
    {
     "data": {
      "text/plain": [
       "abv                             0.055\n",
       "ibu                              40.0\n",
       "id                                145\n",
       "name              Silverback Pale Ale\n",
       "style         American Pale Ale (APA)\n",
       "brewery_id                        424\n",
       "ounces                           12.0\n",
       "Name: 2250, dtype: object"
      ]
     },
     "execution_count": 40,
     "metadata": {},
     "output_type": "execute_result"
    }
   ],
   "source": [
    "df.loc[2250,'abv']=0.055\n",
    "df.loc[2250]"
   ]
  },
  {
   "cell_type": "code",
   "execution_count": 11,
   "id": "specified-theta",
   "metadata": {
    "id": "specified-theta",
    "outputId": "398f89e7-e6b1-4572-cce2-843cc90d1901"
   },
   "outputs": [
    {
     "data": {
      "text/plain": [
       "abv                             0.055\n",
       "ibu                              40.0\n",
       "id                                145\n",
       "name              Silverback Pale Ale\n",
       "style         American Pale Ale (APA)\n",
       "brewery_id                        424\n",
       "ounces                           12.0\n",
       "Name: 2250, dtype: object"
      ]
     },
     "execution_count": 11,
     "metadata": {},
     "output_type": "execute_result"
    }
   ],
   "source": [
    "df.loc[2250,'abv']=0.055\n",
    "df.loc[2250]"
   ]
  },
  {
   "cell_type": "code",
   "execution_count": 41,
   "id": "665c2685-7308-4d9e-b4de-e1b77cfd5ac8",
   "metadata": {},
   "outputs": [
    {
     "data": {
      "text/html": [
       "<div>\n",
       "<style scoped>\n",
       "    .dataframe tbody tr th:only-of-type {\n",
       "        vertical-align: middle;\n",
       "    }\n",
       "\n",
       "    .dataframe tbody tr th {\n",
       "        vertical-align: top;\n",
       "    }\n",
       "\n",
       "    .dataframe thead th {\n",
       "        text-align: right;\n",
       "    }\n",
       "</style>\n",
       "<table border=\"1\" class=\"dataframe\">\n",
       "  <thead>\n",
       "    <tr style=\"text-align: right;\">\n",
       "      <th></th>\n",
       "      <th>abv</th>\n",
       "      <th>ibu</th>\n",
       "      <th>id</th>\n",
       "      <th>name</th>\n",
       "      <th>style</th>\n",
       "      <th>brewery_id</th>\n",
       "      <th>ounces</th>\n",
       "    </tr>\n",
       "  </thead>\n",
       "  <tbody>\n",
       "    <tr>\n",
       "      <th>963</th>\n",
       "      <td>0.172</td>\n",
       "      <td>NaN</td>\n",
       "      <td>3691</td>\n",
       "      <td>Chamisul Fresh</td>\n",
       "      <td>Soju</td>\n",
       "      <td>993</td>\n",
       "      <td>12.17</td>\n",
       "    </tr>\n",
       "    <tr>\n",
       "      <th>1856</th>\n",
       "      <td>0.400</td>\n",
       "      <td>NaN</td>\n",
       "      <td>3012</td>\n",
       "      <td>Grey Goose</td>\n",
       "      <td>Vodka</td>\n",
       "      <td>893</td>\n",
       "      <td>25.26</td>\n",
       "    </tr>\n",
       "  </tbody>\n",
       "</table>\n",
       "</div>"
      ],
      "text/plain": [
       "        abv  ibu    id            name  style  brewery_id  ounces\n",
       "963   0.172  NaN  3691  Chamisul Fresh   Soju         993   12.17\n",
       "1856  0.400  NaN  3012      Grey Goose  Vodka         893   25.26"
      ]
     },
     "execution_count": 41,
     "metadata": {},
     "output_type": "execute_result"
    }
   ],
   "source": [
    "re=(df['abv']<Q1-1.5*IQR)| (df['abv']>Q3+1.5*IQR)\n",
    "df[re]"
   ]
  },
  {
   "cell_type": "code",
   "execution_count": 42,
   "id": "d5a3cfa6-5ee8-4138-8c38-4a25d011864b",
   "metadata": {},
   "outputs": [
    {
     "data": {
      "text/plain": [
       "Index([963, 1856], dtype='int64')"
      ]
     },
     "execution_count": 42,
     "metadata": {},
     "output_type": "execute_result"
    }
   ],
   "source": [
    "df[re].index"
   ]
  },
  {
   "cell_type": "code",
   "execution_count": 43,
   "id": "db89bbaf-70f3-4c42-b6f2-a00c20969464",
   "metadata": {},
   "outputs": [],
   "source": [
    "df.drop(df[re].index,inplace=True)"
   ]
  },
  {
   "cell_type": "code",
   "execution_count": 44,
   "id": "2b136a68-4eea-43f6-b43c-2eb8d380289e",
   "metadata": {},
   "outputs": [
    {
     "data": {
      "text/html": [
       "<div>\n",
       "<style scoped>\n",
       "    .dataframe tbody tr th:only-of-type {\n",
       "        vertical-align: middle;\n",
       "    }\n",
       "\n",
       "    .dataframe tbody tr th {\n",
       "        vertical-align: top;\n",
       "    }\n",
       "\n",
       "    .dataframe thead th {\n",
       "        text-align: right;\n",
       "    }\n",
       "</style>\n",
       "<table border=\"1\" class=\"dataframe\">\n",
       "  <thead>\n",
       "    <tr style=\"text-align: right;\">\n",
       "      <th></th>\n",
       "      <th>abv</th>\n",
       "      <th>ibu</th>\n",
       "      <th>id</th>\n",
       "      <th>name</th>\n",
       "      <th>style</th>\n",
       "      <th>brewery_id</th>\n",
       "      <th>ounces</th>\n",
       "    </tr>\n",
       "  </thead>\n",
       "  <tbody>\n",
       "  </tbody>\n",
       "</table>\n",
       "</div>"
      ],
      "text/plain": [
       "Empty DataFrame\n",
       "Columns: [abv, ibu, id, name, style, brewery_id, ounces]\n",
       "Index: []"
      ]
     },
     "execution_count": 44,
     "metadata": {},
     "output_type": "execute_result"
    }
   ],
   "source": [
    "re=(df['abv']<Q1-1.5*IQR)| (df['abv']>Q3+1.5*IQR)\n",
    "df[re]"
   ]
  }
 ],
 "metadata": {
  "colab": {
   "name": "3-1데이터의정확성.ipynb",
   "provenance": []
  },
  "kernelspec": {
   "display_name": "Python 3 (ipykernel)",
   "language": "python",
   "name": "python3"
  },
  "language_info": {
   "codemirror_mode": {
    "name": "ipython",
    "version": 3
   },
   "file_extension": ".py",
   "mimetype": "text/x-python",
   "name": "python",
   "nbconvert_exporter": "python",
   "pygments_lexer": "ipython3",
   "version": "3.11.5"
  }
 },
 "nbformat": 4,
 "nbformat_minor": 5
}
