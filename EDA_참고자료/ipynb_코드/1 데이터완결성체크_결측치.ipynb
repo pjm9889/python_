{
 "cells": [
  {
   "cell_type": "markdown",
   "id": "P5LXc-CkVj2k",
   "metadata": {
    "id": "P5LXc-CkVj2k"
   },
   "source": [
    "### [탐색적 데이터분석(EDA:Exploratory Data Analysis)]\n",
    "-  본격적인 모델링에 들어가기에 앞서, 반드시 선행되어야 하는 과정\n",
    "-  데이터의 분포나 변수간 관계를 파악\n",
    "   - 히스토그램, 산점도, 상관관계표 등 다양한 시각화 방법이 동원"
   ]
  },
  {
   "cell_type": "markdown",
   "id": "correct-career",
   "metadata": {
    "id": "correct-career"
   },
   "source": [
    "### Part1. 데이터 완결성 체크\n",
    "- 결측치: Missing feature, NA(Not Available)값을 처리하는 방법\n",
    "- 결측치 처리 전략\n",
    "  - 제거 (Deletion)\n",
    "  - 대치 (Imputation)\n",
    "  - 예측 모델 (Prediction model)"
   ]
  },
  {
   "cell_type": "markdown",
   "id": "YjecVBFHW9DJ",
   "metadata": {
    "id": "YjecVBFHW9DJ"
   },
   "source": [
    "####  [데이터 만들기]\n",
    "-  데이터 만들기\n",
    "-  리스트로 데이터를 작성하고 데이터 프레임으로 변경합니다."
   ]
  },
  {
   "cell_type": "markdown",
   "id": "zwnV7ke6vKXN",
   "metadata": {
    "id": "zwnV7ke6vKXN"
   },
   "source": [
    "### 리스트는 [ ] 로 제작함.\n",
    "- 데이터프레임은 pandas 모듈\n"
   ]
  },
  {
   "cell_type": "code",
   "execution_count": 1,
   "id": "to3TxqWcW2VB",
   "metadata": {
    "colab": {
     "base_uri": "https://localhost:8080/"
    },
    "executionInfo": {
     "elapsed": 247,
     "status": "ok",
     "timestamp": 1621648262521,
     "user": {
      "displayName": "so pj",
      "photoUrl": "",
      "userId": "02574474388741964814"
     },
     "user_tz": -540
    },
    "id": "to3TxqWcW2VB",
    "outputId": "6a9699cc-7e54-4621-d508-ce378728f9f2"
   },
   "outputs": [
    {
     "name": "stdout",
     "output_type": "stream",
     "text": [
      "<class 'list'>\n"
     ]
    },
    {
     "data": {
      "text/plain": [
       "[2001, 30, '홍길동']"
      ]
     },
     "execution_count": 1,
     "metadata": {},
     "output_type": "execute_result"
    }
   ],
   "source": [
    "\n",
    "year=[2001,2002,2003]\n",
    "value=[30,20,50]\n",
    "name=['홍길동','김을동','박일동']\n",
    "\n",
    "print(type(year))\n",
    "\n",
    "dfList=[[2001,30,'홍길동'],\n",
    "        [2002,20,'김을동']]\n",
    "\n",
    "dfList[0]"
   ]
  },
  {
   "cell_type": "code",
   "execution_count": 4,
   "id": "WH7xduWJXiZ-",
   "metadata": {
    "colab": {
     "base_uri": "https://localhost:8080/"
    },
    "executionInfo": {
     "elapsed": 252,
     "status": "ok",
     "timestamp": 1621648283004,
     "user": {
      "displayName": "so pj",
      "photoUrl": "",
      "userId": "02574474388741964814"
     },
     "user_tz": -540
    },
    "id": "WH7xduWJXiZ-",
    "outputId": "33629dc0-26fb-4ddc-fc7d-0c7479c7691a"
   },
   "outputs": [
    {
     "name": "stdout",
     "output_type": "stream",
     "text": [
      "<class 'pandas.core.frame.DataFrame'>\n"
     ]
    },
    {
     "data": {
      "text/plain": [
       "0    홍길동\n",
       "1    김을동\n",
       "2    박일동\n",
       "Name: 이름, dtype: object"
      ]
     },
     "execution_count": 4,
     "metadata": {},
     "output_type": "execute_result"
    }
   ],
   "source": [
    "# 파이썬에서는 작업하고자 하는 내용에 따라 제공되는 라이브러리(모듈, 패키지, API)를 설치하여 사용해야함.\n",
    "# 코렙에서는 거의대부분 설치하지 않고 라이브러리를 사용할 수 있음.\n",
    "# 주피터노트북에서 설치는 !pip install 라이브러리명\n",
    "# 설치된 라이브러리는 명령에 따라 import 라이브러리명 as 별명    또는 from 라이브러리모음폴더명 import 라이브러리명\n",
    "\n",
    "# 테이블형식(엑셀과 같은)으로 불러와서 열의 제목으로 처리가능한 구조를 데이터프레임이라고 함.\n",
    "# 파이썬에서는 pandas(판다스) 라이브러리를 사용함\n",
    "\n",
    "# 파이썬 자료구조에는 딕셔너리( key: value)구조가 있음.\n",
    "# 리스트 -> 딕셔너리 -> 데이터 프레임 구조로 작업해야함.\n",
    "# \n",
    "\n",
    "import pandas as pd\n",
    "\n",
    "dict구조=({'이름':name, '년도':year,'매출':value})   # 외부자료연결하는 API에서는 이렇게 최종 사용해야 함.\n",
    "df=pd.DataFrame(dict구조)\n",
    "print(type(df))\n",
    "\n",
    "df['이름']\n",
    "\n"
   ]
  },
  {
   "cell_type": "code",
   "execution_count": 5,
   "id": "tNRdg2pkZXrO",
   "metadata": {
    "colab": {
     "base_uri": "https://localhost:8080/",
     "height": 136
    },
    "executionInfo": {
     "elapsed": 257,
     "status": "ok",
     "timestamp": 1621648364702,
     "user": {
      "displayName": "so pj",
      "photoUrl": "",
      "userId": "02574474388741964814"
     },
     "user_tz": -540
    },
    "id": "tNRdg2pkZXrO",
    "outputId": "0c847da5-6c81-42fd-ead1-7fe617fd8dd4"
   },
   "outputs": [
    {
     "data": {
      "text/html": [
       "<div>\n",
       "<style scoped>\n",
       "    .dataframe tbody tr th:only-of-type {\n",
       "        vertical-align: middle;\n",
       "    }\n",
       "\n",
       "    .dataframe tbody tr th {\n",
       "        vertical-align: top;\n",
       "    }\n",
       "\n",
       "    .dataframe thead th {\n",
       "        text-align: right;\n",
       "    }\n",
       "</style>\n",
       "<table border=\"1\" class=\"dataframe\">\n",
       "  <thead>\n",
       "    <tr style=\"text-align: right;\">\n",
       "      <th></th>\n",
       "      <th>이름</th>\n",
       "      <th>년도</th>\n",
       "      <th>매출</th>\n",
       "      <th>부가세</th>\n",
       "    </tr>\n",
       "  </thead>\n",
       "  <tbody>\n",
       "    <tr>\n",
       "      <th>0</th>\n",
       "      <td>홍길동</td>\n",
       "      <td>2001</td>\n",
       "      <td>30</td>\n",
       "      <td>3.0</td>\n",
       "    </tr>\n",
       "    <tr>\n",
       "      <th>1</th>\n",
       "      <td>김을동</td>\n",
       "      <td>2002</td>\n",
       "      <td>20</td>\n",
       "      <td>2.0</td>\n",
       "    </tr>\n",
       "    <tr>\n",
       "      <th>2</th>\n",
       "      <td>박일동</td>\n",
       "      <td>2003</td>\n",
       "      <td>50</td>\n",
       "      <td>5.0</td>\n",
       "    </tr>\n",
       "  </tbody>\n",
       "</table>\n",
       "</div>"
      ],
      "text/plain": [
       "    이름    년도  매출  부가세\n",
       "0  홍길동  2001  30  3.0\n",
       "1  김을동  2002  20  2.0\n",
       "2  박일동  2003  50  5.0"
      ]
     },
     "execution_count": 5,
     "metadata": {},
     "output_type": "execute_result"
    }
   ],
   "source": [
    "df['부가세']=df['매출']*0.1\n",
    "df"
   ]
  },
  {
   "cell_type": "code",
   "execution_count": 6,
   "id": "XOPt4POYqOE4",
   "metadata": {
    "colab": {
     "base_uri": "https://localhost:8080/"
    },
    "executionInfo": {
     "elapsed": 250,
     "status": "ok",
     "timestamp": 1621648371870,
     "user": {
      "displayName": "so pj",
      "photoUrl": "",
      "userId": "02574474388741964814"
     },
     "user_tz": -540
    },
    "id": "XOPt4POYqOE4",
    "outputId": "28f54c21-1f12-4eb9-cc56-8716d0138277"
   },
   "outputs": [
    {
     "name": "stdout",
     "output_type": "stream",
     "text": [
      "<class 'pandas.core.frame.DataFrame'>\n",
      "RangeIndex: 3 entries, 0 to 2\n",
      "Data columns (total 4 columns):\n",
      " #   Column  Non-Null Count  Dtype  \n",
      "---  ------  --------------  -----  \n",
      " 0   이름      3 non-null      object \n",
      " 1   년도      3 non-null      int64  \n",
      " 2   매출      3 non-null      int64  \n",
      " 3   부가세     3 non-null      float64\n",
      "dtypes: float64(1), int64(2), object(1)\n",
      "memory usage: 228.0+ bytes\n"
     ]
    }
   ],
   "source": [
    "# 데이터 정보확인\n",
    "df.info()"
   ]
  },
  {
   "cell_type": "code",
   "execution_count": 7,
   "id": "kBcpd187qVi-",
   "metadata": {
    "colab": {
     "base_uri": "https://localhost:8080/",
     "height": 284
    },
    "executionInfo": {
     "elapsed": 262,
     "status": "ok",
     "timestamp": 1621648450466,
     "user": {
      "displayName": "so pj",
      "photoUrl": "",
      "userId": "02574474388741964814"
     },
     "user_tz": -540
    },
    "id": "kBcpd187qVi-",
    "outputId": "92011124-6d6f-4296-bd34-419bd833f1d6"
   },
   "outputs": [
    {
     "data": {
      "text/html": [
       "<div>\n",
       "<style scoped>\n",
       "    .dataframe tbody tr th:only-of-type {\n",
       "        vertical-align: middle;\n",
       "    }\n",
       "\n",
       "    .dataframe tbody tr th {\n",
       "        vertical-align: top;\n",
       "    }\n",
       "\n",
       "    .dataframe thead th {\n",
       "        text-align: right;\n",
       "    }\n",
       "</style>\n",
       "<table border=\"1\" class=\"dataframe\">\n",
       "  <thead>\n",
       "    <tr style=\"text-align: right;\">\n",
       "      <th></th>\n",
       "      <th>년도</th>\n",
       "      <th>매출</th>\n",
       "      <th>부가세</th>\n",
       "    </tr>\n",
       "  </thead>\n",
       "  <tbody>\n",
       "    <tr>\n",
       "      <th>count</th>\n",
       "      <td>3.0</td>\n",
       "      <td>3.000000</td>\n",
       "      <td>3.000000</td>\n",
       "    </tr>\n",
       "    <tr>\n",
       "      <th>mean</th>\n",
       "      <td>2002.0</td>\n",
       "      <td>33.333333</td>\n",
       "      <td>3.333333</td>\n",
       "    </tr>\n",
       "    <tr>\n",
       "      <th>std</th>\n",
       "      <td>1.0</td>\n",
       "      <td>15.275252</td>\n",
       "      <td>1.527525</td>\n",
       "    </tr>\n",
       "    <tr>\n",
       "      <th>min</th>\n",
       "      <td>2001.0</td>\n",
       "      <td>20.000000</td>\n",
       "      <td>2.000000</td>\n",
       "    </tr>\n",
       "    <tr>\n",
       "      <th>25%</th>\n",
       "      <td>2001.5</td>\n",
       "      <td>25.000000</td>\n",
       "      <td>2.500000</td>\n",
       "    </tr>\n",
       "    <tr>\n",
       "      <th>50%</th>\n",
       "      <td>2002.0</td>\n",
       "      <td>30.000000</td>\n",
       "      <td>3.000000</td>\n",
       "    </tr>\n",
       "    <tr>\n",
       "      <th>75%</th>\n",
       "      <td>2002.5</td>\n",
       "      <td>40.000000</td>\n",
       "      <td>4.000000</td>\n",
       "    </tr>\n",
       "    <tr>\n",
       "      <th>max</th>\n",
       "      <td>2003.0</td>\n",
       "      <td>50.000000</td>\n",
       "      <td>5.000000</td>\n",
       "    </tr>\n",
       "  </tbody>\n",
       "</table>\n",
       "</div>"
      ],
      "text/plain": [
       "           년도         매출       부가세\n",
       "count     3.0   3.000000  3.000000\n",
       "mean   2002.0  33.333333  3.333333\n",
       "std       1.0  15.275252  1.527525\n",
       "min    2001.0  20.000000  2.000000\n",
       "25%    2001.5  25.000000  2.500000\n",
       "50%    2002.0  30.000000  3.000000\n",
       "75%    2002.5  40.000000  4.000000\n",
       "max    2003.0  50.000000  5.000000"
      ]
     },
     "execution_count": 7,
     "metadata": {},
     "output_type": "execute_result"
    }
   ],
   "source": [
    "# 데이터 기술통계확인\n",
    "df.describe()"
   ]
  },
  {
   "cell_type": "code",
   "execution_count": 8,
   "id": "yk-eagNIqR2p",
   "metadata": {
    "colab": {
     "base_uri": "https://localhost:8080/",
     "height": 136
    },
    "executionInfo": {
     "elapsed": 349,
     "status": "ok",
     "timestamp": 1621648674846,
     "user": {
      "displayName": "so pj",
      "photoUrl": "",
      "userId": "02574474388741964814"
     },
     "user_tz": -540
    },
    "id": "yk-eagNIqR2p",
    "outputId": "d565bd25-1fcf-413a-83fb-58d4441f7a07"
   },
   "outputs": [
    {
     "data": {
      "text/html": [
       "<div>\n",
       "<style scoped>\n",
       "    .dataframe tbody tr th:only-of-type {\n",
       "        vertical-align: middle;\n",
       "    }\n",
       "\n",
       "    .dataframe tbody tr th {\n",
       "        vertical-align: top;\n",
       "    }\n",
       "\n",
       "    .dataframe thead th {\n",
       "        text-align: right;\n",
       "    }\n",
       "</style>\n",
       "<table border=\"1\" class=\"dataframe\">\n",
       "  <thead>\n",
       "    <tr style=\"text-align: right;\">\n",
       "      <th></th>\n",
       "      <th>이름</th>\n",
       "      <th>년도</th>\n",
       "      <th>매출</th>\n",
       "      <th>부가세</th>\n",
       "    </tr>\n",
       "  </thead>\n",
       "  <tbody>\n",
       "    <tr>\n",
       "      <th>0</th>\n",
       "      <td>False</td>\n",
       "      <td>False</td>\n",
       "      <td>False</td>\n",
       "      <td>False</td>\n",
       "    </tr>\n",
       "    <tr>\n",
       "      <th>1</th>\n",
       "      <td>False</td>\n",
       "      <td>False</td>\n",
       "      <td>False</td>\n",
       "      <td>False</td>\n",
       "    </tr>\n",
       "    <tr>\n",
       "      <th>2</th>\n",
       "      <td>False</td>\n",
       "      <td>False</td>\n",
       "      <td>False</td>\n",
       "      <td>False</td>\n",
       "    </tr>\n",
       "  </tbody>\n",
       "</table>\n",
       "</div>"
      ],
      "text/plain": [
       "      이름     년도     매출    부가세\n",
       "0  False  False  False  False\n",
       "1  False  False  False  False\n",
       "2  False  False  False  False"
      ]
     },
     "execution_count": 8,
     "metadata": {},
     "output_type": "execute_result"
    }
   ],
   "source": [
    "# 결측치 확인\n",
    "df.isna()  # df.isnull()"
   ]
  },
  {
   "cell_type": "code",
   "execution_count": 9,
   "id": "R-ksCpO1qnId",
   "metadata": {
    "colab": {
     "base_uri": "https://localhost:8080/"
    },
    "executionInfo": {
     "elapsed": 712,
     "status": "ok",
     "timestamp": 1621478767505,
     "user": {
      "displayName": "so pj",
      "photoUrl": "",
      "userId": "02574474388741964814"
     },
     "user_tz": -540
    },
    "id": "R-ksCpO1qnId",
    "outputId": "7f23f78f-c92e-4fdb-c59b-a06298f29c89"
   },
   "outputs": [
    {
     "data": {
      "text/plain": [
       "이름     0\n",
       "년도     0\n",
       "매출     0\n",
       "부가세    0\n",
       "dtype: int64"
      ]
     },
     "execution_count": 9,
     "metadata": {},
     "output_type": "execute_result"
    }
   ],
   "source": [
    "df.isna().sum()"
   ]
  },
  {
   "cell_type": "code",
   "execution_count": null,
   "id": "CzKWbGjRqoYY",
   "metadata": {
    "id": "CzKWbGjRqoYY"
   },
   "outputs": [],
   "source": [
    "# 구글 검색 결측치 시각화\n"
   ]
  },
  {
   "cell_type": "markdown",
   "id": "kN06g-l6qr76",
   "metadata": {
    "id": "kN06g-l6qr76"
   },
   "source": [
    "## [외부데이터를 읽어서 결측치를 확인합니다.]"
   ]
  },
  {
   "cell_type": "code",
   "execution_count": null,
   "id": "DXiPmWXsq6U4",
   "metadata": {
    "id": "DXiPmWXsq6U4"
   },
   "outputs": [],
   "source": [
    "# 코렙에서는 드라이브 마운트를 통해 클라우드 기반의 드라이브를 연결해야함."
   ]
  },
  {
   "cell_type": "code",
   "execution_count": 10,
   "id": "substantial-coast",
   "metadata": {
    "colab": {
     "base_uri": "https://localhost:8080/",
     "height": 348
    },
    "executionInfo": {
     "elapsed": 249,
     "status": "ok",
     "timestamp": 1621649518851,
     "user": {
      "displayName": "so pj",
      "photoUrl": "",
      "userId": "02574474388741964814"
     },
     "user_tz": -540
    },
    "id": "substantial-coast",
    "outputId": "19bea140-6634-4b96-814f-1cb42bd0d257"
   },
   "outputs": [
    {
     "data": {
      "text/html": [
       "<div>\n",
       "<style scoped>\n",
       "    .dataframe tbody tr th:only-of-type {\n",
       "        vertical-align: middle;\n",
       "    }\n",
       "\n",
       "    .dataframe tbody tr th {\n",
       "        vertical-align: top;\n",
       "    }\n",
       "\n",
       "    .dataframe thead th {\n",
       "        text-align: right;\n",
       "    }\n",
       "</style>\n",
       "<table border=\"1\" class=\"dataframe\">\n",
       "  <thead>\n",
       "    <tr style=\"text-align: right;\">\n",
       "      <th></th>\n",
       "      <th>연도</th>\n",
       "      <th>야구</th>\n",
       "      <th>축구</th>\n",
       "      <th>배구</th>\n",
       "      <th>남자농구</th>\n",
       "      <th>여자농구</th>\n",
       "    </tr>\n",
       "  </thead>\n",
       "  <tbody>\n",
       "    <tr>\n",
       "      <th>0</th>\n",
       "      <td>2008</td>\n",
       "      <td>10881</td>\n",
       "      <td>11642</td>\n",
       "      <td>1253.0</td>\n",
       "      <td>4208</td>\n",
       "      <td>1329</td>\n",
       "    </tr>\n",
       "    <tr>\n",
       "      <th>1</th>\n",
       "      <td>2009</td>\n",
       "      <td>11562</td>\n",
       "      <td>10983</td>\n",
       "      <td>1471.0</td>\n",
       "      <td>4152</td>\n",
       "      <td>1206</td>\n",
       "    </tr>\n",
       "    <tr>\n",
       "      <th>2</th>\n",
       "      <td>2010</td>\n",
       "      <td>11402</td>\n",
       "      <td>12873</td>\n",
       "      <td>NaN</td>\n",
       "      <td>3870</td>\n",
       "      <td>705</td>\n",
       "    </tr>\n",
       "    <tr>\n",
       "      <th>3</th>\n",
       "      <td>2011</td>\n",
       "      <td>13055</td>\n",
       "      <td>10709</td>\n",
       "      <td>1774.0</td>\n",
       "      <td>3955</td>\n",
       "      <td>1445</td>\n",
       "    </tr>\n",
       "    <tr>\n",
       "      <th>4</th>\n",
       "      <td>2012</td>\n",
       "      <td>13747</td>\n",
       "      <td>7157</td>\n",
       "      <td>NaN</td>\n",
       "      <td>4537</td>\n",
       "      <td>1150</td>\n",
       "    </tr>\n",
       "    <tr>\n",
       "      <th>5</th>\n",
       "      <td>2013</td>\n",
       "      <td>11373</td>\n",
       "      <td>7656</td>\n",
       "      <td>NaN</td>\n",
       "      <td>4092</td>\n",
       "      <td>1237</td>\n",
       "    </tr>\n",
       "    <tr>\n",
       "      <th>6</th>\n",
       "      <td>2014</td>\n",
       "      <td>11429</td>\n",
       "      <td>8115</td>\n",
       "      <td>1967.0</td>\n",
       "      <td>4458</td>\n",
       "      <td>1417</td>\n",
       "    </tr>\n",
       "    <tr>\n",
       "      <th>7</th>\n",
       "      <td>2015</td>\n",
       "      <td>10357</td>\n",
       "      <td>7720</td>\n",
       "      <td>2311.0</td>\n",
       "      <td>3953</td>\n",
       "      <td>1480</td>\n",
       "    </tr>\n",
       "    <tr>\n",
       "      <th>8</th>\n",
       "      <td>2016</td>\n",
       "      <td>11583</td>\n",
       "      <td>7854</td>\n",
       "      <td>2336.0</td>\n",
       "      <td>3543</td>\n",
       "      <td>1425</td>\n",
       "    </tr>\n",
       "    <tr>\n",
       "      <th>9</th>\n",
       "      <td>2017</td>\n",
       "      <td>11668</td>\n",
       "      <td>6502</td>\n",
       "      <td>2425.0</td>\n",
       "      <td>3188</td>\n",
       "      <td>1097</td>\n",
       "    </tr>\n",
       "  </tbody>\n",
       "</table>\n",
       "</div>"
      ],
      "text/plain": [
       "     연도     야구     축구      배구  남자농구  여자농구\n",
       "0  2008  10881  11642  1253.0  4208  1329\n",
       "1  2009  11562  10983  1471.0  4152  1206\n",
       "2  2010  11402  12873     NaN  3870   705\n",
       "3  2011  13055  10709  1774.0  3955  1445\n",
       "4  2012  13747   7157     NaN  4537  1150\n",
       "5  2013  11373   7656     NaN  4092  1237\n",
       "6  2014  11429   8115  1967.0  4458  1417\n",
       "7  2015  10357   7720  2311.0  3953  1480\n",
       "8  2016  11583   7854  2336.0  3543  1425\n",
       "9  2017  11668   6502  2425.0  3188  1097"
      ]
     },
     "execution_count": 10,
     "metadata": {},
     "output_type": "execute_result"
    }
   ],
   "source": [
    "import pandas as pd\n",
    "df=pd.read_csv('csv_데이터결측치.csv')\n",
    "df"
   ]
  },
  {
   "cell_type": "code",
   "execution_count": 11,
   "id": "MOpfgvka1_aj",
   "metadata": {
    "colab": {
     "base_uri": "https://localhost:8080/"
    },
    "executionInfo": {
     "elapsed": 3,
     "status": "ok",
     "timestamp": 1621649525588,
     "user": {
      "displayName": "so pj",
      "photoUrl": "",
      "userId": "02574474388741964814"
     },
     "user_tz": -540
    },
    "id": "MOpfgvka1_aj",
    "outputId": "93e48337-2f36-4979-b5f8-59c3d7e2c094"
   },
   "outputs": [
    {
     "name": "stdout",
     "output_type": "stream",
     "text": [
      "<class 'pandas.core.frame.DataFrame'>\n",
      "RangeIndex: 10 entries, 0 to 9\n",
      "Data columns (total 6 columns):\n",
      " #   Column  Non-Null Count  Dtype  \n",
      "---  ------  --------------  -----  \n",
      " 0   연도      10 non-null     int64  \n",
      " 1   야구      10 non-null     int64  \n",
      " 2   축구      10 non-null     int64  \n",
      " 3   배구      7 non-null      float64\n",
      " 4   남자농구    10 non-null     int64  \n",
      " 5   여자농구    10 non-null     int64  \n",
      "dtypes: float64(1), int64(5)\n",
      "memory usage: 612.0 bytes\n"
     ]
    }
   ],
   "source": [
    "df.info()"
   ]
  },
  {
   "cell_type": "code",
   "execution_count": 12,
   "id": "simplified-biotechnology",
   "metadata": {
    "colab": {
     "base_uri": "https://localhost:8080/",
     "height": 348
    },
    "executionInfo": {
     "elapsed": 391,
     "status": "ok",
     "timestamp": 1621649614193,
     "user": {
      "displayName": "so pj",
      "photoUrl": "",
      "userId": "02574474388741964814"
     },
     "user_tz": -540
    },
    "id": "simplified-biotechnology",
    "outputId": "39916749-4c9a-4a09-b033-6dbe55e2548d"
   },
   "outputs": [
    {
     "data": {
      "text/html": [
       "<div>\n",
       "<style scoped>\n",
       "    .dataframe tbody tr th:only-of-type {\n",
       "        vertical-align: middle;\n",
       "    }\n",
       "\n",
       "    .dataframe tbody tr th {\n",
       "        vertical-align: top;\n",
       "    }\n",
       "\n",
       "    .dataframe thead th {\n",
       "        text-align: right;\n",
       "    }\n",
       "</style>\n",
       "<table border=\"1\" class=\"dataframe\">\n",
       "  <thead>\n",
       "    <tr style=\"text-align: right;\">\n",
       "      <th></th>\n",
       "      <th>연도</th>\n",
       "      <th>야구</th>\n",
       "      <th>축구</th>\n",
       "      <th>배구</th>\n",
       "      <th>남자농구</th>\n",
       "      <th>여자농구</th>\n",
       "    </tr>\n",
       "  </thead>\n",
       "  <tbody>\n",
       "    <tr>\n",
       "      <th>0</th>\n",
       "      <td>False</td>\n",
       "      <td>False</td>\n",
       "      <td>False</td>\n",
       "      <td>False</td>\n",
       "      <td>False</td>\n",
       "      <td>False</td>\n",
       "    </tr>\n",
       "    <tr>\n",
       "      <th>1</th>\n",
       "      <td>False</td>\n",
       "      <td>False</td>\n",
       "      <td>False</td>\n",
       "      <td>False</td>\n",
       "      <td>False</td>\n",
       "      <td>False</td>\n",
       "    </tr>\n",
       "    <tr>\n",
       "      <th>2</th>\n",
       "      <td>False</td>\n",
       "      <td>False</td>\n",
       "      <td>False</td>\n",
       "      <td>True</td>\n",
       "      <td>False</td>\n",
       "      <td>False</td>\n",
       "    </tr>\n",
       "    <tr>\n",
       "      <th>3</th>\n",
       "      <td>False</td>\n",
       "      <td>False</td>\n",
       "      <td>False</td>\n",
       "      <td>False</td>\n",
       "      <td>False</td>\n",
       "      <td>False</td>\n",
       "    </tr>\n",
       "    <tr>\n",
       "      <th>4</th>\n",
       "      <td>False</td>\n",
       "      <td>False</td>\n",
       "      <td>False</td>\n",
       "      <td>True</td>\n",
       "      <td>False</td>\n",
       "      <td>False</td>\n",
       "    </tr>\n",
       "    <tr>\n",
       "      <th>5</th>\n",
       "      <td>False</td>\n",
       "      <td>False</td>\n",
       "      <td>False</td>\n",
       "      <td>True</td>\n",
       "      <td>False</td>\n",
       "      <td>False</td>\n",
       "    </tr>\n",
       "    <tr>\n",
       "      <th>6</th>\n",
       "      <td>False</td>\n",
       "      <td>False</td>\n",
       "      <td>False</td>\n",
       "      <td>False</td>\n",
       "      <td>False</td>\n",
       "      <td>False</td>\n",
       "    </tr>\n",
       "    <tr>\n",
       "      <th>7</th>\n",
       "      <td>False</td>\n",
       "      <td>False</td>\n",
       "      <td>False</td>\n",
       "      <td>False</td>\n",
       "      <td>False</td>\n",
       "      <td>False</td>\n",
       "    </tr>\n",
       "    <tr>\n",
       "      <th>8</th>\n",
       "      <td>False</td>\n",
       "      <td>False</td>\n",
       "      <td>False</td>\n",
       "      <td>False</td>\n",
       "      <td>False</td>\n",
       "      <td>False</td>\n",
       "    </tr>\n",
       "    <tr>\n",
       "      <th>9</th>\n",
       "      <td>False</td>\n",
       "      <td>False</td>\n",
       "      <td>False</td>\n",
       "      <td>False</td>\n",
       "      <td>False</td>\n",
       "      <td>False</td>\n",
       "    </tr>\n",
       "  </tbody>\n",
       "</table>\n",
       "</div>"
      ],
      "text/plain": [
       "      연도     야구     축구     배구   남자농구   여자농구\n",
       "0  False  False  False  False  False  False\n",
       "1  False  False  False  False  False  False\n",
       "2  False  False  False   True  False  False\n",
       "3  False  False  False  False  False  False\n",
       "4  False  False  False   True  False  False\n",
       "5  False  False  False   True  False  False\n",
       "6  False  False  False  False  False  False\n",
       "7  False  False  False  False  False  False\n",
       "8  False  False  False  False  False  False\n",
       "9  False  False  False  False  False  False"
      ]
     },
     "execution_count": 12,
     "metadata": {},
     "output_type": "execute_result"
    }
   ],
   "source": [
    "df.isna()  #df.isnull()"
   ]
  },
  {
   "cell_type": "code",
   "execution_count": 13,
   "id": "capital-plaintiff",
   "metadata": {
    "colab": {
     "base_uri": "https://localhost:8080/"
    },
    "executionInfo": {
     "elapsed": 248,
     "status": "ok",
     "timestamp": 1621649617823,
     "user": {
      "displayName": "so pj",
      "photoUrl": "",
      "userId": "02574474388741964814"
     },
     "user_tz": -540
    },
    "id": "capital-plaintiff",
    "outputId": "d1131901-d87d-46cc-eef1-89f9b747b076"
   },
   "outputs": [
    {
     "data": {
      "text/plain": [
       "연도      0\n",
       "야구      0\n",
       "축구      0\n",
       "배구      3\n",
       "남자농구    0\n",
       "여자농구    0\n",
       "dtype: int64"
      ]
     },
     "execution_count": 13,
     "metadata": {},
     "output_type": "execute_result"
    }
   ],
   "source": [
    "df.isna().sum()"
   ]
  },
  {
   "cell_type": "code",
   "execution_count": null,
   "id": "controversial-cleveland",
   "metadata": {
    "id": "controversial-cleveland"
   },
   "outputs": [],
   "source": [
    "# na시각화"
   ]
  },
  {
   "cell_type": "markdown",
   "id": "ideal-iraqi",
   "metadata": {
    "id": "ideal-iraqi"
   },
   "source": [
    "## [NA값 대체]\n",
    "- 삭제"
   ]
  },
  {
   "cell_type": "code",
   "execution_count": 14,
   "id": "trying-reverse",
   "metadata": {
    "colab": {
     "base_uri": "https://localhost:8080/",
     "height": 254
    },
    "executionInfo": {
     "elapsed": 769,
     "status": "ok",
     "timestamp": 1621479045273,
     "user": {
      "displayName": "so pj",
      "photoUrl": "",
      "userId": "02574474388741964814"
     },
     "user_tz": -540
    },
    "id": "trying-reverse",
    "outputId": "8a1e6544-756a-4832-f05d-bfb18a3b4339"
   },
   "outputs": [
    {
     "data": {
      "text/html": [
       "<div>\n",
       "<style scoped>\n",
       "    .dataframe tbody tr th:only-of-type {\n",
       "        vertical-align: middle;\n",
       "    }\n",
       "\n",
       "    .dataframe tbody tr th {\n",
       "        vertical-align: top;\n",
       "    }\n",
       "\n",
       "    .dataframe thead th {\n",
       "        text-align: right;\n",
       "    }\n",
       "</style>\n",
       "<table border=\"1\" class=\"dataframe\">\n",
       "  <thead>\n",
       "    <tr style=\"text-align: right;\">\n",
       "      <th></th>\n",
       "      <th>연도</th>\n",
       "      <th>야구</th>\n",
       "      <th>축구</th>\n",
       "      <th>배구</th>\n",
       "      <th>남자농구</th>\n",
       "      <th>여자농구</th>\n",
       "    </tr>\n",
       "  </thead>\n",
       "  <tbody>\n",
       "    <tr>\n",
       "      <th>0</th>\n",
       "      <td>2008</td>\n",
       "      <td>10881</td>\n",
       "      <td>11642</td>\n",
       "      <td>1253.0</td>\n",
       "      <td>4208</td>\n",
       "      <td>1329</td>\n",
       "    </tr>\n",
       "    <tr>\n",
       "      <th>1</th>\n",
       "      <td>2009</td>\n",
       "      <td>11562</td>\n",
       "      <td>10983</td>\n",
       "      <td>1471.0</td>\n",
       "      <td>4152</td>\n",
       "      <td>1206</td>\n",
       "    </tr>\n",
       "    <tr>\n",
       "      <th>3</th>\n",
       "      <td>2011</td>\n",
       "      <td>13055</td>\n",
       "      <td>10709</td>\n",
       "      <td>1774.0</td>\n",
       "      <td>3955</td>\n",
       "      <td>1445</td>\n",
       "    </tr>\n",
       "    <tr>\n",
       "      <th>6</th>\n",
       "      <td>2014</td>\n",
       "      <td>11429</td>\n",
       "      <td>8115</td>\n",
       "      <td>1967.0</td>\n",
       "      <td>4458</td>\n",
       "      <td>1417</td>\n",
       "    </tr>\n",
       "    <tr>\n",
       "      <th>7</th>\n",
       "      <td>2015</td>\n",
       "      <td>10357</td>\n",
       "      <td>7720</td>\n",
       "      <td>2311.0</td>\n",
       "      <td>3953</td>\n",
       "      <td>1480</td>\n",
       "    </tr>\n",
       "    <tr>\n",
       "      <th>8</th>\n",
       "      <td>2016</td>\n",
       "      <td>11583</td>\n",
       "      <td>7854</td>\n",
       "      <td>2336.0</td>\n",
       "      <td>3543</td>\n",
       "      <td>1425</td>\n",
       "    </tr>\n",
       "    <tr>\n",
       "      <th>9</th>\n",
       "      <td>2017</td>\n",
       "      <td>11668</td>\n",
       "      <td>6502</td>\n",
       "      <td>2425.0</td>\n",
       "      <td>3188</td>\n",
       "      <td>1097</td>\n",
       "    </tr>\n",
       "  </tbody>\n",
       "</table>\n",
       "</div>"
      ],
      "text/plain": [
       "     연도     야구     축구      배구  남자농구  여자농구\n",
       "0  2008  10881  11642  1253.0  4208  1329\n",
       "1  2009  11562  10983  1471.0  4152  1206\n",
       "3  2011  13055  10709  1774.0  3955  1445\n",
       "6  2014  11429   8115  1967.0  4458  1417\n",
       "7  2015  10357   7720  2311.0  3953  1480\n",
       "8  2016  11583   7854  2336.0  3543  1425\n",
       "9  2017  11668   6502  2425.0  3188  1097"
      ]
     },
     "execution_count": 14,
     "metadata": {},
     "output_type": "execute_result"
    }
   ],
   "source": [
    "df.dropna() #실제 df에 적용되지는 않음."
   ]
  },
  {
   "cell_type": "code",
   "execution_count": 15,
   "id": "featured-heavy",
   "metadata": {
    "id": "featured-heavy"
   },
   "outputs": [],
   "source": [
    "df.dropna(inplace=True)  #df에 적용하면서 실행됨"
   ]
  },
  {
   "cell_type": "code",
   "execution_count": 16,
   "id": "private-clinton",
   "metadata": {
    "colab": {
     "base_uri": "https://localhost:8080/",
     "height": 254
    },
    "executionInfo": {
     "elapsed": 685,
     "status": "ok",
     "timestamp": 1621479053865,
     "user": {
      "displayName": "so pj",
      "photoUrl": "",
      "userId": "02574474388741964814"
     },
     "user_tz": -540
    },
    "id": "private-clinton",
    "outputId": "8d3c036e-d3b7-4112-c37c-659f8450b7f9"
   },
   "outputs": [
    {
     "data": {
      "text/html": [
       "<div>\n",
       "<style scoped>\n",
       "    .dataframe tbody tr th:only-of-type {\n",
       "        vertical-align: middle;\n",
       "    }\n",
       "\n",
       "    .dataframe tbody tr th {\n",
       "        vertical-align: top;\n",
       "    }\n",
       "\n",
       "    .dataframe thead th {\n",
       "        text-align: right;\n",
       "    }\n",
       "</style>\n",
       "<table border=\"1\" class=\"dataframe\">\n",
       "  <thead>\n",
       "    <tr style=\"text-align: right;\">\n",
       "      <th></th>\n",
       "      <th>연도</th>\n",
       "      <th>야구</th>\n",
       "      <th>축구</th>\n",
       "      <th>배구</th>\n",
       "      <th>남자농구</th>\n",
       "      <th>여자농구</th>\n",
       "    </tr>\n",
       "  </thead>\n",
       "  <tbody>\n",
       "    <tr>\n",
       "      <th>0</th>\n",
       "      <td>2008</td>\n",
       "      <td>10881</td>\n",
       "      <td>11642</td>\n",
       "      <td>1253.0</td>\n",
       "      <td>4208</td>\n",
       "      <td>1329</td>\n",
       "    </tr>\n",
       "    <tr>\n",
       "      <th>1</th>\n",
       "      <td>2009</td>\n",
       "      <td>11562</td>\n",
       "      <td>10983</td>\n",
       "      <td>1471.0</td>\n",
       "      <td>4152</td>\n",
       "      <td>1206</td>\n",
       "    </tr>\n",
       "    <tr>\n",
       "      <th>3</th>\n",
       "      <td>2011</td>\n",
       "      <td>13055</td>\n",
       "      <td>10709</td>\n",
       "      <td>1774.0</td>\n",
       "      <td>3955</td>\n",
       "      <td>1445</td>\n",
       "    </tr>\n",
       "    <tr>\n",
       "      <th>6</th>\n",
       "      <td>2014</td>\n",
       "      <td>11429</td>\n",
       "      <td>8115</td>\n",
       "      <td>1967.0</td>\n",
       "      <td>4458</td>\n",
       "      <td>1417</td>\n",
       "    </tr>\n",
       "    <tr>\n",
       "      <th>7</th>\n",
       "      <td>2015</td>\n",
       "      <td>10357</td>\n",
       "      <td>7720</td>\n",
       "      <td>2311.0</td>\n",
       "      <td>3953</td>\n",
       "      <td>1480</td>\n",
       "    </tr>\n",
       "    <tr>\n",
       "      <th>8</th>\n",
       "      <td>2016</td>\n",
       "      <td>11583</td>\n",
       "      <td>7854</td>\n",
       "      <td>2336.0</td>\n",
       "      <td>3543</td>\n",
       "      <td>1425</td>\n",
       "    </tr>\n",
       "    <tr>\n",
       "      <th>9</th>\n",
       "      <td>2017</td>\n",
       "      <td>11668</td>\n",
       "      <td>6502</td>\n",
       "      <td>2425.0</td>\n",
       "      <td>3188</td>\n",
       "      <td>1097</td>\n",
       "    </tr>\n",
       "  </tbody>\n",
       "</table>\n",
       "</div>"
      ],
      "text/plain": [
       "     연도     야구     축구      배구  남자농구  여자농구\n",
       "0  2008  10881  11642  1253.0  4208  1329\n",
       "1  2009  11562  10983  1471.0  4152  1206\n",
       "3  2011  13055  10709  1774.0  3955  1445\n",
       "6  2014  11429   8115  1967.0  4458  1417\n",
       "7  2015  10357   7720  2311.0  3953  1480\n",
       "8  2016  11583   7854  2336.0  3543  1425\n",
       "9  2017  11668   6502  2425.0  3188  1097"
      ]
     },
     "execution_count": 16,
     "metadata": {},
     "output_type": "execute_result"
    }
   ],
   "source": [
    "df"
   ]
  },
  {
   "cell_type": "markdown",
   "id": "d8154d09-d55e-41a1-b8b1-afc37a1e56f6",
   "metadata": {},
   "source": [
    "#### 다시 읽어서 작업"
   ]
  },
  {
   "cell_type": "markdown",
   "id": "convenient-selling",
   "metadata": {
    "id": "convenient-selling"
   },
   "source": [
    "## [NA값 대체]\n",
    "- 대체"
   ]
  },
  {
   "cell_type": "code",
   "execution_count": 20,
   "id": "stupid-authority",
   "metadata": {
    "colab": {
     "base_uri": "https://localhost:8080/",
     "height": 195
    },
    "executionInfo": {
     "elapsed": 785,
     "status": "ok",
     "timestamp": 1621486959917,
     "user": {
      "displayName": "so pj",
      "photoUrl": "",
      "userId": "02574474388741964814"
     },
     "user_tz": -540
    },
    "id": "stupid-authority",
    "outputId": "63cf502f-66d2-44aa-b693-628ded10ee43"
   },
   "outputs": [
    {
     "data": {
      "text/html": [
       "<div>\n",
       "<style scoped>\n",
       "    .dataframe tbody tr th:only-of-type {\n",
       "        vertical-align: middle;\n",
       "    }\n",
       "\n",
       "    .dataframe tbody tr th {\n",
       "        vertical-align: top;\n",
       "    }\n",
       "\n",
       "    .dataframe thead th {\n",
       "        text-align: right;\n",
       "    }\n",
       "</style>\n",
       "<table border=\"1\" class=\"dataframe\">\n",
       "  <thead>\n",
       "    <tr style=\"text-align: right;\">\n",
       "      <th></th>\n",
       "      <th>연도</th>\n",
       "      <th>야구</th>\n",
       "      <th>축구</th>\n",
       "      <th>배구</th>\n",
       "      <th>남자농구</th>\n",
       "      <th>여자농구</th>\n",
       "    </tr>\n",
       "  </thead>\n",
       "  <tbody>\n",
       "    <tr>\n",
       "      <th>0</th>\n",
       "      <td>2008</td>\n",
       "      <td>10881</td>\n",
       "      <td>11642</td>\n",
       "      <td>1253.0</td>\n",
       "      <td>4208</td>\n",
       "      <td>1329</td>\n",
       "    </tr>\n",
       "    <tr>\n",
       "      <th>1</th>\n",
       "      <td>2009</td>\n",
       "      <td>11562</td>\n",
       "      <td>10983</td>\n",
       "      <td>1471.0</td>\n",
       "      <td>4152</td>\n",
       "      <td>1206</td>\n",
       "    </tr>\n",
       "    <tr>\n",
       "      <th>2</th>\n",
       "      <td>2010</td>\n",
       "      <td>11402</td>\n",
       "      <td>12873</td>\n",
       "      <td>NaN</td>\n",
       "      <td>3870</td>\n",
       "      <td>705</td>\n",
       "    </tr>\n",
       "    <tr>\n",
       "      <th>3</th>\n",
       "      <td>2011</td>\n",
       "      <td>13055</td>\n",
       "      <td>10709</td>\n",
       "      <td>1774.0</td>\n",
       "      <td>3955</td>\n",
       "      <td>1445</td>\n",
       "    </tr>\n",
       "    <tr>\n",
       "      <th>4</th>\n",
       "      <td>2012</td>\n",
       "      <td>13747</td>\n",
       "      <td>7157</td>\n",
       "      <td>NaN</td>\n",
       "      <td>4537</td>\n",
       "      <td>1150</td>\n",
       "    </tr>\n",
       "  </tbody>\n",
       "</table>\n",
       "</div>"
      ],
      "text/plain": [
       "     연도     야구     축구      배구  남자농구  여자농구\n",
       "0  2008  10881  11642  1253.0  4208  1329\n",
       "1  2009  11562  10983  1471.0  4152  1206\n",
       "2  2010  11402  12873     NaN  3870   705\n",
       "3  2011  13055  10709  1774.0  3955  1445\n",
       "4  2012  13747   7157     NaN  4537  1150"
      ]
     },
     "execution_count": 20,
     "metadata": {},
     "output_type": "execute_result"
    }
   ],
   "source": [
    "df=pd.read_csv('csv_데이터결측치.csv')\n",
    "df.head()"
   ]
  },
  {
   "cell_type": "code",
   "execution_count": 21,
   "id": "racial-bread",
   "metadata": {
    "id": "racial-bread",
    "outputId": "904376a6-11fc-467e-f574-9eb32bbbd08d"
   },
   "outputs": [
    {
     "data": {
      "text/html": [
       "<div>\n",
       "<style scoped>\n",
       "    .dataframe tbody tr th:only-of-type {\n",
       "        vertical-align: middle;\n",
       "    }\n",
       "\n",
       "    .dataframe tbody tr th {\n",
       "        vertical-align: top;\n",
       "    }\n",
       "\n",
       "    .dataframe thead th {\n",
       "        text-align: right;\n",
       "    }\n",
       "</style>\n",
       "<table border=\"1\" class=\"dataframe\">\n",
       "  <thead>\n",
       "    <tr style=\"text-align: right;\">\n",
       "      <th></th>\n",
       "      <th>연도</th>\n",
       "      <th>야구</th>\n",
       "      <th>축구</th>\n",
       "      <th>배구</th>\n",
       "      <th>남자농구</th>\n",
       "      <th>여자농구</th>\n",
       "    </tr>\n",
       "  </thead>\n",
       "  <tbody>\n",
       "    <tr>\n",
       "      <th>0</th>\n",
       "      <td>2008</td>\n",
       "      <td>10881</td>\n",
       "      <td>11642</td>\n",
       "      <td>1253.0</td>\n",
       "      <td>4208</td>\n",
       "      <td>1329</td>\n",
       "    </tr>\n",
       "    <tr>\n",
       "      <th>1</th>\n",
       "      <td>2009</td>\n",
       "      <td>11562</td>\n",
       "      <td>10983</td>\n",
       "      <td>1471.0</td>\n",
       "      <td>4152</td>\n",
       "      <td>1206</td>\n",
       "    </tr>\n",
       "    <tr>\n",
       "      <th>2</th>\n",
       "      <td>2010</td>\n",
       "      <td>11402</td>\n",
       "      <td>12873</td>\n",
       "      <td>0.0</td>\n",
       "      <td>3870</td>\n",
       "      <td>705</td>\n",
       "    </tr>\n",
       "    <tr>\n",
       "      <th>3</th>\n",
       "      <td>2011</td>\n",
       "      <td>13055</td>\n",
       "      <td>10709</td>\n",
       "      <td>1774.0</td>\n",
       "      <td>3955</td>\n",
       "      <td>1445</td>\n",
       "    </tr>\n",
       "    <tr>\n",
       "      <th>4</th>\n",
       "      <td>2012</td>\n",
       "      <td>13747</td>\n",
       "      <td>7157</td>\n",
       "      <td>0.0</td>\n",
       "      <td>4537</td>\n",
       "      <td>1150</td>\n",
       "    </tr>\n",
       "    <tr>\n",
       "      <th>5</th>\n",
       "      <td>2013</td>\n",
       "      <td>11373</td>\n",
       "      <td>7656</td>\n",
       "      <td>0.0</td>\n",
       "      <td>4092</td>\n",
       "      <td>1237</td>\n",
       "    </tr>\n",
       "    <tr>\n",
       "      <th>6</th>\n",
       "      <td>2014</td>\n",
       "      <td>11429</td>\n",
       "      <td>8115</td>\n",
       "      <td>1967.0</td>\n",
       "      <td>4458</td>\n",
       "      <td>1417</td>\n",
       "    </tr>\n",
       "    <tr>\n",
       "      <th>7</th>\n",
       "      <td>2015</td>\n",
       "      <td>10357</td>\n",
       "      <td>7720</td>\n",
       "      <td>2311.0</td>\n",
       "      <td>3953</td>\n",
       "      <td>1480</td>\n",
       "    </tr>\n",
       "    <tr>\n",
       "      <th>8</th>\n",
       "      <td>2016</td>\n",
       "      <td>11583</td>\n",
       "      <td>7854</td>\n",
       "      <td>2336.0</td>\n",
       "      <td>3543</td>\n",
       "      <td>1425</td>\n",
       "    </tr>\n",
       "    <tr>\n",
       "      <th>9</th>\n",
       "      <td>2017</td>\n",
       "      <td>11668</td>\n",
       "      <td>6502</td>\n",
       "      <td>2425.0</td>\n",
       "      <td>3188</td>\n",
       "      <td>1097</td>\n",
       "    </tr>\n",
       "  </tbody>\n",
       "</table>\n",
       "</div>"
      ],
      "text/plain": [
       "     연도     야구     축구      배구  남자농구  여자농구\n",
       "0  2008  10881  11642  1253.0  4208  1329\n",
       "1  2009  11562  10983  1471.0  4152  1206\n",
       "2  2010  11402  12873     0.0  3870   705\n",
       "3  2011  13055  10709  1774.0  3955  1445\n",
       "4  2012  13747   7157     0.0  4537  1150\n",
       "5  2013  11373   7656     0.0  4092  1237\n",
       "6  2014  11429   8115  1967.0  4458  1417\n",
       "7  2015  10357   7720  2311.0  3953  1480\n",
       "8  2016  11583   7854  2336.0  3543  1425\n",
       "9  2017  11668   6502  2425.0  3188  1097"
      ]
     },
     "execution_count": 21,
     "metadata": {},
     "output_type": "execute_result"
    }
   ],
   "source": [
    "df.fillna(0)"
   ]
  },
  {
   "cell_type": "code",
   "execution_count": 22,
   "id": "brazilian-sunrise",
   "metadata": {
    "id": "brazilian-sunrise",
    "outputId": "35cc596e-59b9-4812-a7a1-e64891e818b8"
   },
   "outputs": [
    {
     "data": {
      "text/plain": [
       "연도      0\n",
       "야구      0\n",
       "축구      0\n",
       "배구      3\n",
       "남자농구    0\n",
       "여자농구    0\n",
       "dtype: int64"
      ]
     },
     "execution_count": 22,
     "metadata": {},
     "output_type": "execute_result"
    }
   ],
   "source": [
    "df.isna().sum()"
   ]
  },
  {
   "cell_type": "code",
   "execution_count": 23,
   "id": "acknowledged-covering",
   "metadata": {
    "id": "acknowledged-covering",
    "outputId": "246431d9-3f74-4c7f-ce3f-8c82e09d1158"
   },
   "outputs": [
    {
     "data": {
      "text/plain": [
       "연도       2012.500000\n",
       "야구      11705.700000\n",
       "축구       9121.100000\n",
       "배구       1933.857143\n",
       "남자농구     3995.600000\n",
       "여자농구     1249.100000\n",
       "dtype: float64"
      ]
     },
     "execution_count": 23,
     "metadata": {},
     "output_type": "execute_result"
    }
   ],
   "source": [
    "df.mean()"
   ]
  },
  {
   "cell_type": "code",
   "execution_count": 24,
   "id": "popular-rwanda",
   "metadata": {
    "id": "popular-rwanda",
    "outputId": "4575f80d-f4ac-488b-a86f-28be0090cc94"
   },
   "outputs": [
    {
     "data": {
      "text/html": [
       "<div>\n",
       "<style scoped>\n",
       "    .dataframe tbody tr th:only-of-type {\n",
       "        vertical-align: middle;\n",
       "    }\n",
       "\n",
       "    .dataframe tbody tr th {\n",
       "        vertical-align: top;\n",
       "    }\n",
       "\n",
       "    .dataframe thead th {\n",
       "        text-align: right;\n",
       "    }\n",
       "</style>\n",
       "<table border=\"1\" class=\"dataframe\">\n",
       "  <thead>\n",
       "    <tr style=\"text-align: right;\">\n",
       "      <th></th>\n",
       "      <th>연도</th>\n",
       "      <th>야구</th>\n",
       "      <th>축구</th>\n",
       "      <th>배구</th>\n",
       "      <th>남자농구</th>\n",
       "      <th>여자농구</th>\n",
       "    </tr>\n",
       "  </thead>\n",
       "  <tbody>\n",
       "    <tr>\n",
       "      <th>0</th>\n",
       "      <td>2008</td>\n",
       "      <td>10881</td>\n",
       "      <td>11642</td>\n",
       "      <td>1253.000000</td>\n",
       "      <td>4208</td>\n",
       "      <td>1329</td>\n",
       "    </tr>\n",
       "    <tr>\n",
       "      <th>1</th>\n",
       "      <td>2009</td>\n",
       "      <td>11562</td>\n",
       "      <td>10983</td>\n",
       "      <td>1471.000000</td>\n",
       "      <td>4152</td>\n",
       "      <td>1206</td>\n",
       "    </tr>\n",
       "    <tr>\n",
       "      <th>2</th>\n",
       "      <td>2010</td>\n",
       "      <td>11402</td>\n",
       "      <td>12873</td>\n",
       "      <td>1933.857143</td>\n",
       "      <td>3870</td>\n",
       "      <td>705</td>\n",
       "    </tr>\n",
       "    <tr>\n",
       "      <th>3</th>\n",
       "      <td>2011</td>\n",
       "      <td>13055</td>\n",
       "      <td>10709</td>\n",
       "      <td>1774.000000</td>\n",
       "      <td>3955</td>\n",
       "      <td>1445</td>\n",
       "    </tr>\n",
       "    <tr>\n",
       "      <th>4</th>\n",
       "      <td>2012</td>\n",
       "      <td>13747</td>\n",
       "      <td>7157</td>\n",
       "      <td>1933.857143</td>\n",
       "      <td>4537</td>\n",
       "      <td>1150</td>\n",
       "    </tr>\n",
       "    <tr>\n",
       "      <th>5</th>\n",
       "      <td>2013</td>\n",
       "      <td>11373</td>\n",
       "      <td>7656</td>\n",
       "      <td>1933.857143</td>\n",
       "      <td>4092</td>\n",
       "      <td>1237</td>\n",
       "    </tr>\n",
       "    <tr>\n",
       "      <th>6</th>\n",
       "      <td>2014</td>\n",
       "      <td>11429</td>\n",
       "      <td>8115</td>\n",
       "      <td>1967.000000</td>\n",
       "      <td>4458</td>\n",
       "      <td>1417</td>\n",
       "    </tr>\n",
       "    <tr>\n",
       "      <th>7</th>\n",
       "      <td>2015</td>\n",
       "      <td>10357</td>\n",
       "      <td>7720</td>\n",
       "      <td>2311.000000</td>\n",
       "      <td>3953</td>\n",
       "      <td>1480</td>\n",
       "    </tr>\n",
       "    <tr>\n",
       "      <th>8</th>\n",
       "      <td>2016</td>\n",
       "      <td>11583</td>\n",
       "      <td>7854</td>\n",
       "      <td>2336.000000</td>\n",
       "      <td>3543</td>\n",
       "      <td>1425</td>\n",
       "    </tr>\n",
       "    <tr>\n",
       "      <th>9</th>\n",
       "      <td>2017</td>\n",
       "      <td>11668</td>\n",
       "      <td>6502</td>\n",
       "      <td>2425.000000</td>\n",
       "      <td>3188</td>\n",
       "      <td>1097</td>\n",
       "    </tr>\n",
       "  </tbody>\n",
       "</table>\n",
       "</div>"
      ],
      "text/plain": [
       "     연도     야구     축구           배구  남자농구  여자농구\n",
       "0  2008  10881  11642  1253.000000  4208  1329\n",
       "1  2009  11562  10983  1471.000000  4152  1206\n",
       "2  2010  11402  12873  1933.857143  3870   705\n",
       "3  2011  13055  10709  1774.000000  3955  1445\n",
       "4  2012  13747   7157  1933.857143  4537  1150\n",
       "5  2013  11373   7656  1933.857143  4092  1237\n",
       "6  2014  11429   8115  1967.000000  4458  1417\n",
       "7  2015  10357   7720  2311.000000  3953  1480\n",
       "8  2016  11583   7854  2336.000000  3543  1425\n",
       "9  2017  11668   6502  2425.000000  3188  1097"
      ]
     },
     "execution_count": 24,
     "metadata": {},
     "output_type": "execute_result"
    }
   ],
   "source": [
    "df.fillna(df.mean())"
   ]
  },
  {
   "cell_type": "code",
   "execution_count": 25,
   "id": "continued-airport",
   "metadata": {
    "id": "continued-airport",
    "outputId": "6d9ab3d3-b6bf-4745-e6b5-a837ca5ca7ac"
   },
   "outputs": [
    {
     "data": {
      "text/plain": [
       "연도       2012.5\n",
       "야구      11495.5\n",
       "축구       7984.5\n",
       "배구       1967.0\n",
       "남자농구     4023.5\n",
       "여자농구     1283.0\n",
       "dtype: float64"
      ]
     },
     "execution_count": 25,
     "metadata": {},
     "output_type": "execute_result"
    }
   ],
   "source": [
    "df.median() #중앙값"
   ]
  },
  {
   "cell_type": "code",
   "execution_count": 26,
   "id": "biological-compound",
   "metadata": {
    "id": "biological-compound",
    "outputId": "6c3669a7-a714-42c1-8d19-804786215c7b"
   },
   "outputs": [
    {
     "data": {
      "text/plain": [
       "연도      0\n",
       "야구      0\n",
       "축구      0\n",
       "배구      0\n",
       "남자농구    0\n",
       "여자농구    0\n",
       "dtype: int64"
      ]
     },
     "execution_count": 26,
     "metadata": {},
     "output_type": "execute_result"
    }
   ],
   "source": [
    "df.fillna(df.median(),inplace=True)\n",
    "df.isna().sum()"
   ]
  },
  {
   "cell_type": "markdown",
   "id": "peaceful-venezuela",
   "metadata": {
    "id": "peaceful-venezuela"
   },
   "source": [
    "## 데이터 결측치 시각화"
   ]
  },
  {
   "cell_type": "code",
   "execution_count": 27,
   "id": "cosmetic-bloom",
   "metadata": {
    "id": "cosmetic-bloom",
    "outputId": "f656478f-57e2-46ed-d1fd-f52fe46f5193"
   },
   "outputs": [
    {
     "data": {
      "text/html": [
       "<div>\n",
       "<style scoped>\n",
       "    .dataframe tbody tr th:only-of-type {\n",
       "        vertical-align: middle;\n",
       "    }\n",
       "\n",
       "    .dataframe tbody tr th {\n",
       "        vertical-align: top;\n",
       "    }\n",
       "\n",
       "    .dataframe thead th {\n",
       "        text-align: right;\n",
       "    }\n",
       "</style>\n",
       "<table border=\"1\" class=\"dataframe\">\n",
       "  <thead>\n",
       "    <tr style=\"text-align: right;\">\n",
       "      <th></th>\n",
       "      <th>연도</th>\n",
       "      <th>야구</th>\n",
       "      <th>축구</th>\n",
       "      <th>배구</th>\n",
       "      <th>남자농구</th>\n",
       "      <th>여자농구</th>\n",
       "    </tr>\n",
       "  </thead>\n",
       "  <tbody>\n",
       "    <tr>\n",
       "      <th>0</th>\n",
       "      <td>2008</td>\n",
       "      <td>10881</td>\n",
       "      <td>11642</td>\n",
       "      <td>1253.0</td>\n",
       "      <td>4208</td>\n",
       "      <td>1329</td>\n",
       "    </tr>\n",
       "    <tr>\n",
       "      <th>1</th>\n",
       "      <td>2009</td>\n",
       "      <td>11562</td>\n",
       "      <td>10983</td>\n",
       "      <td>1471.0</td>\n",
       "      <td>4152</td>\n",
       "      <td>1206</td>\n",
       "    </tr>\n",
       "    <tr>\n",
       "      <th>2</th>\n",
       "      <td>2010</td>\n",
       "      <td>11402</td>\n",
       "      <td>12873</td>\n",
       "      <td>NaN</td>\n",
       "      <td>3870</td>\n",
       "      <td>705</td>\n",
       "    </tr>\n",
       "    <tr>\n",
       "      <th>3</th>\n",
       "      <td>2011</td>\n",
       "      <td>13055</td>\n",
       "      <td>10709</td>\n",
       "      <td>1774.0</td>\n",
       "      <td>3955</td>\n",
       "      <td>1445</td>\n",
       "    </tr>\n",
       "    <tr>\n",
       "      <th>4</th>\n",
       "      <td>2012</td>\n",
       "      <td>13747</td>\n",
       "      <td>7157</td>\n",
       "      <td>NaN</td>\n",
       "      <td>4537</td>\n",
       "      <td>1150</td>\n",
       "    </tr>\n",
       "  </tbody>\n",
       "</table>\n",
       "</div>"
      ],
      "text/plain": [
       "     연도     야구     축구      배구  남자농구  여자농구\n",
       "0  2008  10881  11642  1253.0  4208  1329\n",
       "1  2009  11562  10983  1471.0  4152  1206\n",
       "2  2010  11402  12873     NaN  3870   705\n",
       "3  2011  13055  10709  1774.0  3955  1445\n",
       "4  2012  13747   7157     NaN  4537  1150"
      ]
     },
     "execution_count": 27,
     "metadata": {},
     "output_type": "execute_result"
    }
   ],
   "source": [
    "df=pd.read_csv('csv_데이터결측치.csv')\n",
    "df.head()"
   ]
  },
  {
   "cell_type": "code",
   "execution_count": 28,
   "id": "radical-robertson",
   "metadata": {
    "id": "radical-robertson"
   },
   "outputs": [],
   "source": [
    "import numpy as np\n",
    "import matplotlib.pyplot as plt\n",
    "import seaborn as sns"
   ]
  },
  {
   "cell_type": "code",
   "execution_count": 29,
   "id": "general-place",
   "metadata": {
    "id": "general-place",
    "outputId": "cb679e5e-8e43-43d2-8890-cd8fd1db5003"
   },
   "outputs": [
    {
     "data": {
      "text/plain": [
       "<Axes: >"
      ]
     },
     "execution_count": 29,
     "metadata": {},
     "output_type": "execute_result"
    },
    {
     "data": {
      "image/png": "[encoded data removed]",
      "text/plain": [
       "<Figure size 640x480 with 1 Axes>"
      ]
     },
     "metadata": {},
     "output_type": "display_data"
    }
   ],
   "source": [
    "plt.rcParams['font.family'] = 'Malgun Gothic'\n",
    "sns.heatmap(df.isnull(), cbar=False)"
   ]
  },
  {
   "cell_type": "markdown",
   "id": "lightweight-allocation",
   "metadata": {
    "id": "lightweight-allocation"
   },
   "source": [
    "## 결측치 비율 확인"
   ]
  },
  {
   "cell_type": "code",
   "execution_count": 30,
   "id": "ideal-russian",
   "metadata": {
    "id": "ideal-russian",
    "outputId": "77920a99-2c32-4a5f-eab2-350d0d030a75"
   },
   "outputs": [
    {
     "data": {
      "text/plain": [
       "배구    3\n",
       "dtype: int64"
      ]
     },
     "execution_count": 30,
     "metadata": {},
     "output_type": "execute_result"
    }
   ],
   "source": [
    "tmp=df.isna().sum()\n",
    "tmp1=tmp[tmp>0]\n",
    "tmp1"
   ]
  },
  {
   "cell_type": "code",
   "execution_count": 32,
   "id": "trying-profile",
   "metadata": {
    "id": "trying-profile",
    "outputId": "e1337c09-598a-46b1-bcb9-c35380c1237e"
   },
   "outputs": [
    {
     "name": "stdout",
     "output_type": "stream",
     "text": [
      "예측값으로대체\n"
     ]
    },
    {
     "name": "stderr",
     "output_type": "stream",
     "text": [
      "C:\\Users\\hrPark\\AppData\\Local\\Temp\\ipykernel_12512\\2393728743.py:1: FutureWarning: Series.__getitem__ treating keys as positions is deprecated. In a future version, integer keys will always be treated as labels (consistent with DataFrame behavior). To access a value by position, use `ser.iloc[pos]`\n",
      "  naCnt=tmp1[0]\n"
     ]
    }
   ],
   "source": [
    "naCnt=tmp1[0]\n",
    "if len(df)*0.1>=naCnt:\n",
    "    print('제거')\n",
    "if len(df)*0.1<naCnt<len(df)*0.2:\n",
    "    print('임의로대체')\n",
    "else:\n",
    "    print('예측값으로대체')"
   ]
  }
 ],
 "metadata": {
  "colab": {
   "name": "1 데이터완결성체크_결측치.ipynb",
   "provenance": []
  },
  "kernelspec": {
   "display_name": "Python 3 (ipykernel)",
   "language": "python",
   "name": "python3"
  },
  "language_info": {
   "codemirror_mode": {
    "name": "ipython",
    "version": 3
   },
   "file_extension": ".py",
   "mimetype": "text/x-python",
   "name": "python",
   "nbconvert_exporter": "python",
   "pygments_lexer": "ipython3",
   "version": "3.11.5"
  }
 },
 "nbformat": 4,
 "nbformat_minor": 5
}
