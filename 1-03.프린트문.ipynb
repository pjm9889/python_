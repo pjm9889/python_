{
 "cells": [
  {
   "cell_type": "markdown",
   "id": "d1d6305d",
   "metadata": {},
   "source": [
    "### [1]  print문 샘플"
   ]
  },
  {
   "cell_type": "code",
   "execution_count": 1,
   "id": "bfaf096a",
   "metadata": {},
   "outputs": [
    {
     "name": "stdout",
     "output_type": "stream",
     "text": [
      "3\n"
     ]
    }
   ],
   "source": [
    "print(1+2)"
   ]
  },
  {
   "cell_type": "code",
   "execution_count": 2,
   "id": "1e125e90",
   "metadata": {},
   "outputs": [
    {
     "name": "stdout",
     "output_type": "stream",
     "text": [
      "1+2\n"
     ]
    }
   ],
   "source": [
    "print('1+2')"
   ]
  },
  {
   "cell_type": "code",
   "execution_count": 3,
   "id": "9921e12a",
   "metadata": {},
   "outputs": [
    {
     "name": "stdout",
     "output_type": "stream",
     "text": [
      "안녕하세요\n"
     ]
    }
   ],
   "source": [
    "print('안녕'+'하세요')"
   ]
  },
  {
   "cell_type": "code",
   "execution_count": 13,
   "id": "89f25ad2",
   "metadata": {},
   "outputs": [
    {
     "data": {
      "text/plain": [
       "'하세요'"
      ]
     },
     "execution_count": 13,
     "metadata": {},
     "output_type": "execute_result"
    }
   ],
   "source": [
    "# print문 없으면\n",
    "# 주피터노트북에서는\n",
    "# 마지막행 자료만 출력함\n",
    "'안녕'\n",
    "'하세요'"
   ]
  },
  {
   "cell_type": "code",
   "execution_count": 14,
   "id": "76c356f9",
   "metadata": {},
   "outputs": [
    {
     "name": "stdout",
     "output_type": "stream",
     "text": [
      "안녕\n",
      "하세요\n"
     ]
    }
   ],
   "source": [
    "print('안녕')\n",
    "print('하세요')"
   ]
  },
  {
   "cell_type": "code",
   "execution_count": 4,
   "id": "f78246a4",
   "metadata": {},
   "outputs": [
    {
     "ename": "TypeError",
     "evalue": "can only concatenate str (not \"int\") to str",
     "output_type": "error",
     "traceback": [
      "\u001b[1;31m---------------------------------------------------------------------------\u001b[0m",
      "\u001b[1;31mTypeError\u001b[0m                                 Traceback (most recent call last)",
      "Cell \u001b[1;32mIn[4], line 1\u001b[0m\n\u001b[1;32m----> 1\u001b[0m \u001b[38;5;28mprint\u001b[39m(\u001b[38;5;124m'\u001b[39m\u001b[38;5;124m안녕\u001b[39m\u001b[38;5;124m'\u001b[39m\u001b[38;5;241m+\u001b[39m\u001b[38;5;241m1\u001b[39m\u001b[38;5;241m+\u001b[39m\u001b[38;5;124m'\u001b[39m\u001b[38;5;124m하세요\u001b[39m\u001b[38;5;124m'\u001b[39m)\n",
      "\u001b[1;31mTypeError\u001b[0m: can only concatenate str (not \"int\") to str"
     ]
    }
   ],
   "source": [
    "print('안녕'+1+'하세요')"
   ]
  },
  {
   "cell_type": "code",
   "execution_count": 5,
   "id": "1d9c82e5",
   "metadata": {},
   "outputs": [
    {
     "name": "stdout",
     "output_type": "stream",
     "text": [
      "안녕1하세요\n"
     ]
    }
   ],
   "source": [
    "print('안녕' + str(1) + '하세요')"
   ]
  },
  {
   "cell_type": "code",
   "execution_count": 6,
   "id": "38f82ab4",
   "metadata": {},
   "outputs": [
    {
     "ename": "SyntaxError",
     "evalue": "unterminated string literal (detected at line 1) (90260704.py, line 1)",
     "output_type": "error",
     "traceback": [
      "\u001b[1;36m  Cell \u001b[1;32mIn[6], line 1\u001b[1;36m\u001b[0m\n\u001b[1;33m    tmp='프로그래밍'파이썬'\u001b[0m\n\u001b[1;37m                  ^\u001b[0m\n\u001b[1;31mSyntaxError\u001b[0m\u001b[1;31m:\u001b[0m unterminated string literal (detected at line 1)\n"
     ]
    }
   ],
   "source": [
    "tmp='프로그래밍'파이썬'"
   ]
  },
  {
   "cell_type": "code",
   "execution_count": 10,
   "id": "8e6532d9",
   "metadata": {},
   "outputs": [
    {
     "data": {
      "text/plain": [
       "\"프로그래밍'파이썬\""
      ]
     },
     "execution_count": 10,
     "metadata": {},
     "output_type": "execute_result"
    }
   ],
   "source": [
    "tmp='''프로그래밍'파이썬'''\n",
    "tmp"
   ]
  },
  {
   "cell_type": "code",
   "execution_count": null,
   "id": "b43c3d76",
   "metadata": {},
   "outputs": [],
   "source": [
    "# 한줄에 2개이상의 변수를 할당할떄는 ; 으로 작업함\n",
    "tmp1='파이썬' ; tmp2=2 ; tmp3=3.57\n",
    "\n",
    "# 아래와 같이 각각의 변수에 값을 할당할수도 있음\n",
    "tmp1,tmp2,tmp3='파이썬',2,3.57\n",
    "print('%s과정 %d일차 자료 %f개'%(tmp1,tmp2,tmp3))"
   ]
  },
  {
   "cell_type": "markdown",
   "id": "3794bc53",
   "metadata": {},
   "source": [
    "### [2]  print문 문법확인\n",
    "- help(print)\n",
    "    - sep=' ' 는 한개의 print문에서 2개이상의 출력물 사이를 ' '로 띄어서 출력함을 의미\n",
    "    - end='\\n'  은 print문이 2개이상일때 엔터(\\n)으로 나누어 출력됨을 의미"
   ]
  },
  {
   "cell_type": "code",
   "execution_count": 15,
   "id": "ad9d30ac",
   "metadata": {},
   "outputs": [
    {
     "name": "stdout",
     "output_type": "stream",
     "text": [
      "Help on built-in function print in module builtins:\n",
      "\n",
      "print(*args, sep=' ', end='\\n', file=None, flush=False)\n",
      "    Prints the values to a stream, or to sys.stdout by default.\n",
      "    \n",
      "    sep\n",
      "      string inserted between values, default a space.\n",
      "    end\n",
      "      string appended after the last value, default a newline.\n",
      "    file\n",
      "      a file-like object (stream); defaults to the current sys.stdout.\n",
      "    flush\n",
      "      whether to forcibly flush the stream.\n",
      "\n"
     ]
    }
   ],
   "source": [
    "help(print)"
   ]
  },
  {
   "cell_type": "code",
   "execution_count": 18,
   "id": "cb418d9c",
   "metadata": {},
   "outputs": [
    {
     "name": "stdout",
     "output_type": "stream",
     "text": [
      "a b\n",
      "a-b\n"
     ]
    }
   ],
   "source": [
    "print('a','b')\n",
    "print('a','b', sep='-')"
   ]
  },
  {
   "cell_type": "code",
   "execution_count": 19,
   "id": "cacc279e",
   "metadata": {},
   "outputs": [
    {
     "name": "stdout",
     "output_type": "stream",
     "text": [
      "a\n",
      "b\n"
     ]
    }
   ],
   "source": [
    "print('a')\n",
    "print('b')"
   ]
  },
  {
   "cell_type": "code",
   "execution_count": 20,
   "id": "e9dcdfaf",
   "metadata": {},
   "outputs": [
    {
     "name": "stdout",
     "output_type": "stream",
     "text": [
      "a*b\n"
     ]
    }
   ],
   "source": [
    "print('a', end='*')\n",
    "print('b')"
   ]
  },
  {
   "cell_type": "markdown",
   "id": "6b74eecc",
   "metadata": {},
   "source": [
    "### [3]  chatGPT에게 물어보고 출력하는 시스템정보\n",
    "- '파이썬 시스템정보 출력'"
   ]
  },
  {
   "cell_type": "code",
   "execution_count": 23,
   "id": "9739a9c5",
   "metadata": {},
   "outputs": [
    {
     "name": "stdout",
     "output_type": "stream",
     "text": [
      "시스템 정보: uname_result(system='Windows', node='DESKTOP-G4U9APQ', release='10', version='10.0.22621', machine='AMD64')\n"
     ]
    }
   ],
   "source": [
    "import platform\n",
    "\n",
    "system_info = platform.uname()\n",
    "print(\"시스템 정보:\", system_info)"
   ]
  },
  {
   "cell_type": "code",
   "execution_count": 24,
   "id": "df8fadba",
   "metadata": {},
   "outputs": [
    {
     "name": "stdout",
     "output_type": "stream",
     "text": [
      "CPU 코어 수: 20\n",
      "현재 디렉토리: C:\\Users\\user\\Desktop\\부성순\\유혜경\n",
      "사용자 홈 디렉토리: C:\\Users\\user\n"
     ]
    }
   ],
   "source": [
    "import os\n",
    "\n",
    "cpu_count = os.cpu_count()\n",
    "current_directory = os.getcwd()\n",
    "user_home = os.path.expanduser(\"~\")\n",
    "\n",
    "print(\"CPU 코어 수:\", cpu_count)\n",
    "print(\"현재 디렉토리:\", current_directory)\n",
    "print(\"사용자 홈 디렉토리:\", user_home)\n",
    "\n"
   ]
  },
  {
   "cell_type": "code",
   "execution_count": 25,
   "id": "ea4ebf92",
   "metadata": {},
   "outputs": [
    {
     "name": "stdout",
     "output_type": "stream",
     "text": [
      "운영 체제: Windows\n",
      "운영 체제 버전: 10.0.22621\n",
      "프로세서 타입: Intel64 Family 6 Model 154 Stepping 3, GenuineIntel\n",
      "파이썬 버전: 3.11.4\n"
     ]
    }
   ],
   "source": [
    "import platform\n",
    "\n",
    "print(\"운영 체제:\", platform.system())\n",
    "print(\"운영 체제 버전:\", platform.version())\n",
    "print(\"프로세서 타입:\", platform.processor())\n",
    "print(\"파이썬 버전:\", platform.python_version())\n",
    "\n",
    "\n",
    "print()"
   ]
  },
  {
   "cell_type": "code",
   "execution_count": 26,
   "id": "729bd210",
   "metadata": {},
   "outputs": [
    {
     "name": "stdout",
     "output_type": "stream",
     "text": [
      "운영 체제: Windows\n",
      "운영 체제 버전: 10.0.22621\n",
      "프로세서 타입: Intel64 Family 6 Model 154 Stepping 3, GenuineIntel\n",
      "파이썬 버전: 3.11.4\n"
     ]
    }
   ],
   "source": [
    "\n",
    "import platform\n",
    "\n",
    "output = \"운영 체제: {0}\\n운영 체제 버전: {1}\\n프로세서 타입: {2}\\n파이썬 버전: {3}\".format(\n",
    "    platform.system(), platform.version(), platform.processor(), platform.python_version()\n",
    ")\n",
    "\n",
    "print(output)"
   ]
  }
 ],
 "metadata": {
  "kernelspec": {
   "display_name": "Python 3 (ipykernel)",
   "language": "python",
   "name": "python3"
  },
  "language_info": {
   "codemirror_mode": {
    "name": "ipython",
    "version": 3
   },
   "file_extension": ".py",
   "mimetype": "text/x-python",
   "name": "python",
   "nbconvert_exporter": "python",
   "pygments_lexer": "ipython3",
   "version": "3.11.4"
  }
 },
 "nbformat": 4,
 "nbformat_minor": 5
}
