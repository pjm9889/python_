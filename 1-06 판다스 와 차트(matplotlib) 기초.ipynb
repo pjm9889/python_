{
 "cells": [
  {
   "cell_type": "markdown",
   "id": "65bb9133",
   "metadata": {},
   "source": [
    "## [판다스 기본]\n"
   ]
  },
  {
   "cell_type": "markdown",
   "id": "9dec882f",
   "metadata": {},
   "source": [
    "### 1. 데이터프레임제작\n",
    "- 외부자료 csv 또는 엑셀자료를 불러 사용할수 있음."
   ]
  },
  {
   "cell_type": "code",
   "execution_count": 91,
   "id": "9072ec9f",
   "metadata": {},
   "outputs": [
    {
     "data": {
      "text/html": [
       "<div>\n",
       "<style scoped>\n",
       "    .dataframe tbody tr th:only-of-type {\n",
       "        vertical-align: middle;\n",
       "    }\n",
       "\n",
       "    .dataframe tbody tr th {\n",
       "        vertical-align: top;\n",
       "    }\n",
       "\n",
       "    .dataframe thead th {\n",
       "        text-align: right;\n",
       "    }\n",
       "</style>\n",
       "<table border=\"1\" class=\"dataframe\">\n",
       "  <thead>\n",
       "    <tr style=\"text-align: right;\">\n",
       "      <th></th>\n",
       "      <th>지역</th>\n",
       "      <th>강수량</th>\n",
       "      <th>온도</th>\n",
       "    </tr>\n",
       "  </thead>\n",
       "  <tbody>\n",
       "    <tr>\n",
       "      <th>0</th>\n",
       "      <td>지역1</td>\n",
       "      <td>5</td>\n",
       "      <td>4</td>\n",
       "    </tr>\n",
       "    <tr>\n",
       "      <th>1</th>\n",
       "      <td>지역2</td>\n",
       "      <td>5</td>\n",
       "      <td>4</td>\n",
       "    </tr>\n",
       "    <tr>\n",
       "      <th>2</th>\n",
       "      <td>지역3</td>\n",
       "      <td>5</td>\n",
       "      <td>10</td>\n",
       "    </tr>\n",
       "    <tr>\n",
       "      <th>3</th>\n",
       "      <td>지역4</td>\n",
       "      <td>4</td>\n",
       "      <td>5</td>\n",
       "    </tr>\n",
       "    <tr>\n",
       "      <th>4</th>\n",
       "      <td>지역5</td>\n",
       "      <td>6</td>\n",
       "      <td>2</td>\n",
       "    </tr>\n",
       "  </tbody>\n",
       "</table>\n",
       "</div>"
      ],
      "text/plain": [
       "    지역  강수량  온도\n",
       "0  지역1    5   4\n",
       "1  지역2    5   4\n",
       "2  지역3    5  10\n",
       "3  지역4    4   5\n",
       "4  지역5    6   2"
      ]
     },
     "execution_count": 91,
     "metadata": {},
     "output_type": "execute_result"
    }
   ],
   "source": [
    "import pandas as pd\n",
    "\n",
    "data=dict({\n",
    "           '지역': ['지역1','지역2','지역3','지역4','지역5'],\n",
    "           '강수량': [5,5,5,4,6],\n",
    "           '온도': [4,4,10,5,2]\n",
    "         } )\n",
    "\n",
    "\n",
    "df = pd.DataFrame(data)\n",
    "df"
   ]
  },
  {
   "cell_type": "code",
   "execution_count": 92,
   "id": "54eba98b",
   "metadata": {},
   "outputs": [
    {
     "data": {
      "text/html": [
       "<div>\n",
       "<style scoped>\n",
       "    .dataframe tbody tr th:only-of-type {\n",
       "        vertical-align: middle;\n",
       "    }\n",
       "\n",
       "    .dataframe tbody tr th {\n",
       "        vertical-align: top;\n",
       "    }\n",
       "\n",
       "    .dataframe thead th {\n",
       "        text-align: right;\n",
       "    }\n",
       "</style>\n",
       "<table border=\"1\" class=\"dataframe\">\n",
       "  <thead>\n",
       "    <tr style=\"text-align: right;\">\n",
       "      <th></th>\n",
       "      <th>지역</th>\n",
       "      <th>강수량</th>\n",
       "      <th>온도</th>\n",
       "    </tr>\n",
       "  </thead>\n",
       "  <tbody>\n",
       "    <tr>\n",
       "      <th>0</th>\n",
       "      <td>지역1</td>\n",
       "      <td>5</td>\n",
       "      <td>4</td>\n",
       "    </tr>\n",
       "    <tr>\n",
       "      <th>1</th>\n",
       "      <td>지역2</td>\n",
       "      <td>5</td>\n",
       "      <td>4</td>\n",
       "    </tr>\n",
       "    <tr>\n",
       "      <th>2</th>\n",
       "      <td>지역3</td>\n",
       "      <td>5</td>\n",
       "      <td>10</td>\n",
       "    </tr>\n",
       "    <tr>\n",
       "      <th>3</th>\n",
       "      <td>지역4</td>\n",
       "      <td>4</td>\n",
       "      <td>5</td>\n",
       "    </tr>\n",
       "    <tr>\n",
       "      <th>4</th>\n",
       "      <td>지역5</td>\n",
       "      <td>6</td>\n",
       "      <td>2</td>\n",
       "    </tr>\n",
       "  </tbody>\n",
       "</table>\n",
       "</div>"
      ],
      "text/plain": [
       "    지역  강수량  온도\n",
       "0  지역1    5   4\n",
       "1  지역2    5   4\n",
       "2  지역3    5  10\n",
       "3  지역4    4   5\n",
       "4  지역5    6   2"
      ]
     },
     "execution_count": 92,
     "metadata": {},
     "output_type": "execute_result"
    }
   ],
   "source": [
    "df.head()  #기본5개, df.head(7) 숫자를 넣어갯수지정가능"
   ]
  },
  {
   "cell_type": "code",
   "execution_count": 93,
   "id": "4db0a679",
   "metadata": {},
   "outputs": [
    {
     "name": "stdout",
     "output_type": "stream",
     "text": [
      "<class 'pandas.core.frame.DataFrame'>\n",
      "RangeIndex: 5 entries, 0 to 4\n",
      "Data columns (total 3 columns):\n",
      " #   Column  Non-Null Count  Dtype \n",
      "---  ------  --------------  ----- \n",
      " 0   지역      5 non-null      object\n",
      " 1   강수량     5 non-null      int64 \n",
      " 2   온도      5 non-null      int64 \n",
      "dtypes: int64(2), object(1)\n",
      "memory usage: 252.0+ bytes\n"
     ]
    }
   ],
   "source": [
    "df.info()"
   ]
  },
  {
   "cell_type": "code",
   "execution_count": 94,
   "id": "84ded225",
   "metadata": {},
   "outputs": [
    {
     "data": {
      "text/html": [
       "<div>\n",
       "<style scoped>\n",
       "    .dataframe tbody tr th:only-of-type {\n",
       "        vertical-align: middle;\n",
       "    }\n",
       "\n",
       "    .dataframe tbody tr th {\n",
       "        vertical-align: top;\n",
       "    }\n",
       "\n",
       "    .dataframe thead th {\n",
       "        text-align: right;\n",
       "    }\n",
       "</style>\n",
       "<table border=\"1\" class=\"dataframe\">\n",
       "  <thead>\n",
       "    <tr style=\"text-align: right;\">\n",
       "      <th></th>\n",
       "      <th>강수량</th>\n",
       "      <th>온도</th>\n",
       "    </tr>\n",
       "  </thead>\n",
       "  <tbody>\n",
       "    <tr>\n",
       "      <th>count</th>\n",
       "      <td>5.000000</td>\n",
       "      <td>5.0</td>\n",
       "    </tr>\n",
       "    <tr>\n",
       "      <th>mean</th>\n",
       "      <td>5.000000</td>\n",
       "      <td>5.0</td>\n",
       "    </tr>\n",
       "    <tr>\n",
       "      <th>std</th>\n",
       "      <td>0.707107</td>\n",
       "      <td>3.0</td>\n",
       "    </tr>\n",
       "    <tr>\n",
       "      <th>min</th>\n",
       "      <td>4.000000</td>\n",
       "      <td>2.0</td>\n",
       "    </tr>\n",
       "    <tr>\n",
       "      <th>25%</th>\n",
       "      <td>5.000000</td>\n",
       "      <td>4.0</td>\n",
       "    </tr>\n",
       "    <tr>\n",
       "      <th>50%</th>\n",
       "      <td>5.000000</td>\n",
       "      <td>4.0</td>\n",
       "    </tr>\n",
       "    <tr>\n",
       "      <th>75%</th>\n",
       "      <td>5.000000</td>\n",
       "      <td>5.0</td>\n",
       "    </tr>\n",
       "    <tr>\n",
       "      <th>max</th>\n",
       "      <td>6.000000</td>\n",
       "      <td>10.0</td>\n",
       "    </tr>\n",
       "  </tbody>\n",
       "</table>\n",
       "</div>"
      ],
      "text/plain": [
       "            강수량    온도\n",
       "count  5.000000   5.0\n",
       "mean   5.000000   5.0\n",
       "std    0.707107   3.0\n",
       "min    4.000000   2.0\n",
       "25%    5.000000   4.0\n",
       "50%    5.000000   4.0\n",
       "75%    5.000000   5.0\n",
       "max    6.000000  10.0"
      ]
     },
     "execution_count": 94,
     "metadata": {},
     "output_type": "execute_result"
    }
   ],
   "source": [
    "df.describe()"
   ]
  },
  {
   "cell_type": "code",
   "execution_count": 95,
   "id": "914e9b5e",
   "metadata": {},
   "outputs": [
    {
     "data": {
      "text/plain": [
       "[<matplotlib.lines.Line2D at 0x167b4ed4c50>]"
      ]
     },
     "execution_count": 95,
     "metadata": {},
     "output_type": "execute_result"
    },
    {
     "data": {
      "image/png": "[encoded data removed]",
      "text/plain": [
       "<Figure size 1000x300 with 2 Axes>"
      ]
     },
     "metadata": {},
     "output_type": "display_data"
    }
   ],
   "source": [
    "## 참고: 시각화를 통한 값의 분포도\n",
    "import matplotlib.pyplot as plt\n",
    "\n",
    "plt.figure(figsize=(10,3))  # 너비10, 높이3\n",
    "plt.subplot(1,2,1)  # 1행2열의 크기를 정하고 그중 첫번째 위치\n",
    "\n",
    "plt.ylim([0, 15])  # y값을 0~15 로 정함\n",
    "plt.plot(df['강수량'], 'ro')  # 강수량 값을 출력하는데 'red, 원모양으로출력'\n",
    "\n",
    "\n",
    "plt.subplot(1,2,2)  # 1행2열의 크기를 정하고 그중 두번째위치\n",
    "\n",
    "plt.ylim([0, 15])\n",
    "plt.plot(df['온도'], 'ro')"
   ]
  },
  {
   "cell_type": "markdown",
   "id": "b032b781",
   "metadata": {},
   "source": [
    "### 2. 컬럼(필드)별 계산\n",
    "- 각 컬럼(필드)명을 이용한 기술통계가 가능합니다.\n",
    "- df.columns로 컬럼명 확인가능합니다."
   ]
  },
  {
   "cell_type": "code",
   "execution_count": 96,
   "id": "d0269147",
   "metadata": {},
   "outputs": [
    {
     "data": {
      "text/plain": [
       "Index(['지역', '강수량', '온도'], dtype='object')"
      ]
     },
     "execution_count": 96,
     "metadata": {},
     "output_type": "execute_result"
    }
   ],
   "source": [
    "df.columns"
   ]
  },
  {
   "cell_type": "code",
   "execution_count": 97,
   "id": "a24e491e",
   "metadata": {},
   "outputs": [
    {
     "name": "stdout",
     "output_type": "stream",
     "text": [
      "25\n",
      "25\n"
     ]
    }
   ],
   "source": [
    "print(df['강수량'].sum())\n",
    "print(df['온도'].sum())"
   ]
  },
  {
   "cell_type": "code",
   "execution_count": 98,
   "id": "34492f8b",
   "metadata": {},
   "outputs": [
    {
     "data": {
      "text/plain": [
       "5.0"
      ]
     },
     "execution_count": 98,
     "metadata": {},
     "output_type": "execute_result"
    }
   ],
   "source": [
    "컬럼='강수량'\n",
    "df[컬럼].mean() #평균"
   ]
  },
  {
   "cell_type": "code",
   "execution_count": 99,
   "id": "7eac23f1",
   "metadata": {},
   "outputs": [
    {
     "name": "stdout",
     "output_type": "stream",
     "text": [
      "강수량의 평균은==> 5.0\n"
     ]
    }
   ],
   "source": [
    "def 평균구하기(컬럼명):\n",
    "    print(컬럼명 + '의 평균은==>', df[컬럼명].mean())\n",
    "    \n",
    "평균구하기('강수량')"
   ]
  },
  {
   "cell_type": "code",
   "execution_count": 100,
   "id": "f955cace",
   "metadata": {},
   "outputs": [
    {
     "name": "stdout",
     "output_type": "stream",
     "text": [
      "온도의 평균은==> 5.0\n"
     ]
    }
   ],
   "source": [
    "평균구하기('온도')"
   ]
  },
  {
   "cell_type": "code",
   "execution_count": 101,
   "id": "4f99c901",
   "metadata": {},
   "outputs": [
    {
     "name": "stdout",
     "output_type": "stream",
     "text": [
      "강수량의 평균은==> 5.0\n",
      "온도의 평균은==> 5.0\n"
     ]
    }
   ],
   "source": [
    "컬럼명=['강수량','온도']\n",
    "for x in 컬럼명:\n",
    "    평균구하기(x)"
   ]
  },
  {
   "cell_type": "code",
   "execution_count": 102,
   "id": "5a9a7862",
   "metadata": {},
   "outputs": [
    {
     "data": {
      "text/plain": [
       "(Index(['지역', '강수량', '온도'], dtype='object'),\n",
       " Index(['강수량', '온도'], dtype='object'))"
      ]
     },
     "execution_count": 102,
     "metadata": {},
     "output_type": "execute_result"
    }
   ],
   "source": [
    "컬럼명=df.columns\n",
    "컬럼명, 컬럼명[1:]"
   ]
  },
  {
   "cell_type": "code",
   "execution_count": 103,
   "id": "4d4cbbfa",
   "metadata": {},
   "outputs": [
    {
     "name": "stdout",
     "output_type": "stream",
     "text": [
      "강수량의 평균은==> 5.0\n",
      "온도의 평균은==> 5.0\n"
     ]
    }
   ],
   "source": [
    "컬럼명=df.columns[1:]\n",
    "for x in 컬럼명:\n",
    "    평균구하기(x)"
   ]
  },
  {
   "cell_type": "markdown",
   "id": "ae46ba1e",
   "metadata": {},
   "source": [
    "### 3. 조건문 \n"
   ]
  },
  {
   "cell_type": "code",
   "execution_count": 104,
   "id": "b2d5845e",
   "metadata": {},
   "outputs": [
    {
     "data": {
      "text/plain": [
       "0    False\n",
       "1    False\n",
       "2     True\n",
       "3     True\n",
       "4    False\n",
       "Name: 온도, dtype: bool"
      ]
     },
     "execution_count": 104,
     "metadata": {},
     "output_type": "execute_result"
    }
   ],
   "source": [
    "df['온도']>=5"
   ]
  },
  {
   "cell_type": "code",
   "execution_count": 105,
   "id": "f16ffe0e",
   "metadata": {},
   "outputs": [
    {
     "data": {
      "text/html": [
       "<div>\n",
       "<style scoped>\n",
       "    .dataframe tbody tr th:only-of-type {\n",
       "        vertical-align: middle;\n",
       "    }\n",
       "\n",
       "    .dataframe tbody tr th {\n",
       "        vertical-align: top;\n",
       "    }\n",
       "\n",
       "    .dataframe thead th {\n",
       "        text-align: right;\n",
       "    }\n",
       "</style>\n",
       "<table border=\"1\" class=\"dataframe\">\n",
       "  <thead>\n",
       "    <tr style=\"text-align: right;\">\n",
       "      <th></th>\n",
       "      <th>지역</th>\n",
       "      <th>강수량</th>\n",
       "      <th>온도</th>\n",
       "    </tr>\n",
       "  </thead>\n",
       "  <tbody>\n",
       "    <tr>\n",
       "      <th>2</th>\n",
       "      <td>지역3</td>\n",
       "      <td>5</td>\n",
       "      <td>10</td>\n",
       "    </tr>\n",
       "    <tr>\n",
       "      <th>3</th>\n",
       "      <td>지역4</td>\n",
       "      <td>4</td>\n",
       "      <td>5</td>\n",
       "    </tr>\n",
       "  </tbody>\n",
       "</table>\n",
       "</div>"
      ],
      "text/plain": [
       "    지역  강수량  온도\n",
       "2  지역3    5  10\n",
       "3  지역4    4   5"
      ]
     },
     "execution_count": 105,
     "metadata": {},
     "output_type": "execute_result"
    }
   ],
   "source": [
    "df[df['온도']>=5]"
   ]
  },
  {
   "cell_type": "code",
   "execution_count": 106,
   "id": "03d77697",
   "metadata": {},
   "outputs": [
    {
     "data": {
      "text/plain": [
       "0    False\n",
       "1    False\n",
       "2     True\n",
       "3    False\n",
       "4    False\n",
       "dtype: bool"
      ]
     },
     "execution_count": 106,
     "metadata": {},
     "output_type": "execute_result"
    }
   ],
   "source": [
    "(df['강수량']>=5)& (df['온도']>=5)  "
   ]
  },
  {
   "cell_type": "code",
   "execution_count": 107,
   "id": "eb2a652e",
   "metadata": {},
   "outputs": [
    {
     "data": {
      "text/html": [
       "<div>\n",
       "<style scoped>\n",
       "    .dataframe tbody tr th:only-of-type {\n",
       "        vertical-align: middle;\n",
       "    }\n",
       "\n",
       "    .dataframe tbody tr th {\n",
       "        vertical-align: top;\n",
       "    }\n",
       "\n",
       "    .dataframe thead th {\n",
       "        text-align: right;\n",
       "    }\n",
       "</style>\n",
       "<table border=\"1\" class=\"dataframe\">\n",
       "  <thead>\n",
       "    <tr style=\"text-align: right;\">\n",
       "      <th></th>\n",
       "      <th>지역</th>\n",
       "      <th>강수량</th>\n",
       "      <th>온도</th>\n",
       "    </tr>\n",
       "  </thead>\n",
       "  <tbody>\n",
       "    <tr>\n",
       "      <th>2</th>\n",
       "      <td>지역3</td>\n",
       "      <td>5</td>\n",
       "      <td>10</td>\n",
       "    </tr>\n",
       "  </tbody>\n",
       "</table>\n",
       "</div>"
      ],
      "text/plain": [
       "    지역  강수량  온도\n",
       "2  지역3    5  10"
      ]
     },
     "execution_count": 107,
     "metadata": {},
     "output_type": "execute_result"
    }
   ],
   "source": [
    "df[(df['강수량']>=5)& (df['온도']>=5)]"
   ]
  },
  {
   "cell_type": "markdown",
   "id": "251640b1",
   "metadata": {},
   "source": [
    "### 4. 필드계산"
   ]
  },
  {
   "cell_type": "code",
   "execution_count": 108,
   "id": "bb3503b1",
   "metadata": {},
   "outputs": [
    {
     "data": {
      "text/html": [
       "<div>\n",
       "<style scoped>\n",
       "    .dataframe tbody tr th:only-of-type {\n",
       "        vertical-align: middle;\n",
       "    }\n",
       "\n",
       "    .dataframe tbody tr th {\n",
       "        vertical-align: top;\n",
       "    }\n",
       "\n",
       "    .dataframe thead th {\n",
       "        text-align: right;\n",
       "    }\n",
       "</style>\n",
       "<table border=\"1\" class=\"dataframe\">\n",
       "  <thead>\n",
       "    <tr style=\"text-align: right;\">\n",
       "      <th></th>\n",
       "      <th>지역</th>\n",
       "      <th>강수량</th>\n",
       "      <th>온도</th>\n",
       "      <th>비고</th>\n",
       "      <th>강수량계산</th>\n",
       "    </tr>\n",
       "  </thead>\n",
       "  <tbody>\n",
       "    <tr>\n",
       "      <th>0</th>\n",
       "      <td>지역1</td>\n",
       "      <td>5</td>\n",
       "      <td>4</td>\n",
       "      <td>판다스_기초자료</td>\n",
       "      <td>0.5</td>\n",
       "    </tr>\n",
       "    <tr>\n",
       "      <th>1</th>\n",
       "      <td>지역2</td>\n",
       "      <td>5</td>\n",
       "      <td>4</td>\n",
       "      <td>판다스_기초자료</td>\n",
       "      <td>0.5</td>\n",
       "    </tr>\n",
       "    <tr>\n",
       "      <th>2</th>\n",
       "      <td>지역3</td>\n",
       "      <td>5</td>\n",
       "      <td>10</td>\n",
       "      <td>판다스_기초자료</td>\n",
       "      <td>0.5</td>\n",
       "    </tr>\n",
       "    <tr>\n",
       "      <th>3</th>\n",
       "      <td>지역4</td>\n",
       "      <td>4</td>\n",
       "      <td>5</td>\n",
       "      <td>판다스_기초자료</td>\n",
       "      <td>0.4</td>\n",
       "    </tr>\n",
       "    <tr>\n",
       "      <th>4</th>\n",
       "      <td>지역5</td>\n",
       "      <td>6</td>\n",
       "      <td>2</td>\n",
       "      <td>판다스_기초자료</td>\n",
       "      <td>0.6</td>\n",
       "    </tr>\n",
       "  </tbody>\n",
       "</table>\n",
       "</div>"
      ],
      "text/plain": [
       "    지역  강수량  온도        비고  강수량계산\n",
       "0  지역1    5   4  판다스_기초자료    0.5\n",
       "1  지역2    5   4  판다스_기초자료    0.5\n",
       "2  지역3    5  10  판다스_기초자료    0.5\n",
       "3  지역4    4   5  판다스_기초자료    0.4\n",
       "4  지역5    6   2  판다스_기초자료    0.6"
      ]
     },
     "execution_count": 108,
     "metadata": {},
     "output_type": "execute_result"
    }
   ],
   "source": [
    "df['비고']='판다스_기초자료'\n",
    "df['강수량계산']=df['강수량']*0.1\n",
    "df\n"
   ]
  },
  {
   "cell_type": "code",
   "execution_count": 109,
   "id": "4b5863fe",
   "metadata": {},
   "outputs": [
    {
     "data": {
      "text/plain": [
       "0    [판다스, 기초자료]\n",
       "1    [판다스, 기초자료]\n",
       "2    [판다스, 기초자료]\n",
       "3    [판다스, 기초자료]\n",
       "4    [판다스, 기초자료]\n",
       "Name: 비고, dtype: object"
      ]
     },
     "execution_count": 109,
     "metadata": {},
     "output_type": "execute_result"
    }
   ],
   "source": [
    "df['비고'].str.split('_')"
   ]
  },
  {
   "cell_type": "code",
   "execution_count": 110,
   "id": "ebb62bb6",
   "metadata": {},
   "outputs": [
    {
     "data": {
      "text/plain": [
       "0    판다스\n",
       "1    판다스\n",
       "2    판다스\n",
       "3    판다스\n",
       "4    판다스\n",
       "Name: 비고, dtype: object"
      ]
     },
     "execution_count": 110,
     "metadata": {},
     "output_type": "execute_result"
    }
   ],
   "source": [
    "df['비고'].str.split('_').str[0]"
   ]
  },
  {
   "cell_type": "code",
   "execution_count": 111,
   "id": "6f8518fa",
   "metadata": {},
   "outputs": [
    {
     "data": {
      "text/html": [
       "<div>\n",
       "<style scoped>\n",
       "    .dataframe tbody tr th:only-of-type {\n",
       "        vertical-align: middle;\n",
       "    }\n",
       "\n",
       "    .dataframe tbody tr th {\n",
       "        vertical-align: top;\n",
       "    }\n",
       "\n",
       "    .dataframe thead th {\n",
       "        text-align: right;\n",
       "    }\n",
       "</style>\n",
       "<table border=\"1\" class=\"dataframe\">\n",
       "  <thead>\n",
       "    <tr style=\"text-align: right;\">\n",
       "      <th></th>\n",
       "      <th>지역</th>\n",
       "      <th>강수량</th>\n",
       "      <th>온도</th>\n",
       "      <th>비고</th>\n",
       "      <th>강수량계산</th>\n",
       "      <th>과정명</th>\n",
       "    </tr>\n",
       "  </thead>\n",
       "  <tbody>\n",
       "    <tr>\n",
       "      <th>0</th>\n",
       "      <td>지역1</td>\n",
       "      <td>5</td>\n",
       "      <td>4</td>\n",
       "      <td>판다스_기초자료</td>\n",
       "      <td>0.5</td>\n",
       "      <td>판다스</td>\n",
       "    </tr>\n",
       "    <tr>\n",
       "      <th>1</th>\n",
       "      <td>지역2</td>\n",
       "      <td>5</td>\n",
       "      <td>4</td>\n",
       "      <td>판다스_기초자료</td>\n",
       "      <td>0.5</td>\n",
       "      <td>판다스</td>\n",
       "    </tr>\n",
       "    <tr>\n",
       "      <th>2</th>\n",
       "      <td>지역3</td>\n",
       "      <td>5</td>\n",
       "      <td>10</td>\n",
       "      <td>판다스_기초자료</td>\n",
       "      <td>0.5</td>\n",
       "      <td>판다스</td>\n",
       "    </tr>\n",
       "    <tr>\n",
       "      <th>3</th>\n",
       "      <td>지역4</td>\n",
       "      <td>4</td>\n",
       "      <td>5</td>\n",
       "      <td>판다스_기초자료</td>\n",
       "      <td>0.4</td>\n",
       "      <td>판다스</td>\n",
       "    </tr>\n",
       "    <tr>\n",
       "      <th>4</th>\n",
       "      <td>지역5</td>\n",
       "      <td>6</td>\n",
       "      <td>2</td>\n",
       "      <td>판다스_기초자료</td>\n",
       "      <td>0.6</td>\n",
       "      <td>판다스</td>\n",
       "    </tr>\n",
       "  </tbody>\n",
       "</table>\n",
       "</div>"
      ],
      "text/plain": [
       "    지역  강수량  온도        비고  강수량계산  과정명\n",
       "0  지역1    5   4  판다스_기초자료    0.5  판다스\n",
       "1  지역2    5   4  판다스_기초자료    0.5  판다스\n",
       "2  지역3    5  10  판다스_기초자료    0.5  판다스\n",
       "3  지역4    4   5  판다스_기초자료    0.4  판다스\n",
       "4  지역5    6   2  판다스_기초자료    0.6  판다스"
      ]
     },
     "execution_count": 111,
     "metadata": {},
     "output_type": "execute_result"
    }
   ],
   "source": [
    "df['과정명']=df['비고'].str.split('_').str[0]\n",
    "df"
   ]
  },
  {
   "cell_type": "markdown",
   "id": "657b28a2",
   "metadata": {},
   "source": [
    "### 5. 필드 인덱싱"
   ]
  },
  {
   "cell_type": "code",
   "execution_count": 112,
   "id": "01f0e56b",
   "metadata": {},
   "outputs": [
    {
     "data": {
      "text/plain": [
       "지역            지역1\n",
       "강수량             5\n",
       "온도              4\n",
       "비고       판다스_기초자료\n",
       "강수량계산         0.5\n",
       "과정명           판다스\n",
       "Name: 0, dtype: object"
      ]
     },
     "execution_count": 112,
     "metadata": {},
     "output_type": "execute_result"
    }
   ],
   "source": [
    "df.loc[0]"
   ]
  },
  {
   "cell_type": "code",
   "execution_count": 117,
   "id": "ace8d370",
   "metadata": {},
   "outputs": [
    {
     "data": {
      "text/html": [
       "<div>\n",
       "<style scoped>\n",
       "    .dataframe tbody tr th:only-of-type {\n",
       "        vertical-align: middle;\n",
       "    }\n",
       "\n",
       "    .dataframe tbody tr th {\n",
       "        vertical-align: top;\n",
       "    }\n",
       "\n",
       "    .dataframe thead th {\n",
       "        text-align: right;\n",
       "    }\n",
       "</style>\n",
       "<table border=\"1\" class=\"dataframe\">\n",
       "  <thead>\n",
       "    <tr style=\"text-align: right;\">\n",
       "      <th></th>\n",
       "      <th>지역</th>\n",
       "      <th>강수량</th>\n",
       "      <th>온도</th>\n",
       "      <th>비고</th>\n",
       "      <th>강수량계산</th>\n",
       "      <th>과정명</th>\n",
       "    </tr>\n",
       "  </thead>\n",
       "  <tbody>\n",
       "    <tr>\n",
       "      <th>2</th>\n",
       "      <td>지역3</td>\n",
       "      <td>5</td>\n",
       "      <td>10</td>\n",
       "      <td>판다스_기초자료</td>\n",
       "      <td>0.5</td>\n",
       "      <td>판다스</td>\n",
       "    </tr>\n",
       "    <tr>\n",
       "      <th>3</th>\n",
       "      <td>지역4</td>\n",
       "      <td>4</td>\n",
       "      <td>5</td>\n",
       "      <td>판다스_기초자료</td>\n",
       "      <td>0.4</td>\n",
       "      <td>판다스</td>\n",
       "    </tr>\n",
       "    <tr>\n",
       "      <th>4</th>\n",
       "      <td>지역5</td>\n",
       "      <td>6</td>\n",
       "      <td>2</td>\n",
       "      <td>판다스_기초자료</td>\n",
       "      <td>0.6</td>\n",
       "      <td>판다스</td>\n",
       "    </tr>\n",
       "  </tbody>\n",
       "</table>\n",
       "</div>"
      ],
      "text/plain": [
       "    지역  강수량  온도        비고  강수량계산  과정명\n",
       "2  지역3    5  10  판다스_기초자료    0.5  판다스\n",
       "3  지역4    4   5  판다스_기초자료    0.4  판다스\n",
       "4  지역5    6   2  판다스_기초자료    0.6  판다스"
      ]
     },
     "execution_count": 117,
     "metadata": {},
     "output_type": "execute_result"
    }
   ],
   "source": [
    "df.loc[2:4]"
   ]
  },
  {
   "cell_type": "code",
   "execution_count": 120,
   "id": "d43280a5",
   "metadata": {},
   "outputs": [
    {
     "data": {
      "text/html": [
       "<div>\n",
       "<style scoped>\n",
       "    .dataframe tbody tr th:only-of-type {\n",
       "        vertical-align: middle;\n",
       "    }\n",
       "\n",
       "    .dataframe tbody tr th {\n",
       "        vertical-align: top;\n",
       "    }\n",
       "\n",
       "    .dataframe thead th {\n",
       "        text-align: right;\n",
       "    }\n",
       "</style>\n",
       "<table border=\"1\" class=\"dataframe\">\n",
       "  <thead>\n",
       "    <tr style=\"text-align: right;\">\n",
       "      <th></th>\n",
       "      <th>지역</th>\n",
       "      <th>강수량</th>\n",
       "      <th>온도</th>\n",
       "      <th>비고</th>\n",
       "      <th>강수량계산</th>\n",
       "      <th>과정명</th>\n",
       "    </tr>\n",
       "  </thead>\n",
       "  <tbody>\n",
       "    <tr>\n",
       "      <th>0</th>\n",
       "      <td>지역1</td>\n",
       "      <td>5</td>\n",
       "      <td>4</td>\n",
       "      <td>판다스_기초자료</td>\n",
       "      <td>0.5</td>\n",
       "      <td>판다스</td>\n",
       "    </tr>\n",
       "    <tr>\n",
       "      <th>1</th>\n",
       "      <td>지역2</td>\n",
       "      <td>5</td>\n",
       "      <td>4</td>\n",
       "      <td>판다스_기초자료</td>\n",
       "      <td>0.5</td>\n",
       "      <td>판다스</td>\n",
       "    </tr>\n",
       "    <tr>\n",
       "      <th>2</th>\n",
       "      <td>지역3</td>\n",
       "      <td>5</td>\n",
       "      <td>10</td>\n",
       "      <td>판다스_기초자료</td>\n",
       "      <td>0.5</td>\n",
       "      <td>판다스</td>\n",
       "    </tr>\n",
       "    <tr>\n",
       "      <th>3</th>\n",
       "      <td>지역4</td>\n",
       "      <td>4</td>\n",
       "      <td>5</td>\n",
       "      <td>판다스_기초자료</td>\n",
       "      <td>0.4</td>\n",
       "      <td>판다스</td>\n",
       "    </tr>\n",
       "    <tr>\n",
       "      <th>4</th>\n",
       "      <td>지역5</td>\n",
       "      <td>6</td>\n",
       "      <td>2</td>\n",
       "      <td>판다스_기초자료</td>\n",
       "      <td>0.6</td>\n",
       "      <td>판다스</td>\n",
       "    </tr>\n",
       "  </tbody>\n",
       "</table>\n",
       "</div>"
      ],
      "text/plain": [
       "    지역  강수량  온도        비고  강수량계산  과정명\n",
       "0  지역1    5   4  판다스_기초자료    0.5  판다스\n",
       "1  지역2    5   4  판다스_기초자료    0.5  판다스\n",
       "2  지역3    5  10  판다스_기초자료    0.5  판다스\n",
       "3  지역4    4   5  판다스_기초자료    0.4  판다스\n",
       "4  지역5    6   2  판다스_기초자료    0.6  판다스"
      ]
     },
     "execution_count": 120,
     "metadata": {},
     "output_type": "execute_result"
    }
   ],
   "source": [
    "df"
   ]
  },
  {
   "cell_type": "code",
   "execution_count": 119,
   "id": "93854fa0",
   "metadata": {},
   "outputs": [
    {
     "data": {
      "text/plain": [
       "0     4\n",
       "1     4\n",
       "2    10\n",
       "3     5\n",
       "4     2\n",
       "Name: 온도, dtype: int64"
      ]
     },
     "execution_count": 119,
     "metadata": {},
     "output_type": "execute_result"
    }
   ],
   "source": [
    "df.iloc[:,2]  # df['온도']와 같음"
   ]
  },
  {
   "cell_type": "markdown",
   "id": "43656491",
   "metadata": {},
   "source": [
    "## [차트기초]"
   ]
  },
  {
   "cell_type": "code",
   "execution_count": 136,
   "id": "cfca6fce",
   "metadata": {},
   "outputs": [
    {
     "data": {
      "image/png": "[encoded data removed]",
      "text/plain": [
       "<Figure size 500x300 with 1 Axes>"
      ]
     },
     "metadata": {},
     "output_type": "display_data"
    }
   ],
   "source": [
    "import matplotlib.pyplot as plt\n",
    "a=[5,3,2,8]\n",
    "\n",
    "plt.figure(figsize=(5,3))\n",
    "plt.plot(a)\n",
    "plt.show()"
   ]
  },
  {
   "cell_type": "code",
   "execution_count": 137,
   "id": "e530a2d8",
   "metadata": {},
   "outputs": [
    {
     "data": {
      "image/png": "[encoded data removed]",
      "text/plain": [
       "<Figure size 600x400 with 1 Axes>"
      ]
     },
     "metadata": {},
     "output_type": "display_data"
    },
    {
     "data": {
      "image/png": "[encoded data removed]",
      "text/plain": [
       "<Figure size 600x400 with 1 Axes>"
      ]
     },
     "metadata": {},
     "output_type": "display_data"
    },
    {
     "data": {
      "image/png": "[encoded data removed]",
      "text/plain": [
       "<Figure size 600x400 with 1 Axes>"
      ]
     },
     "metadata": {},
     "output_type": "display_data"
    },
    {
     "data": {
      "image/png": "[encoded data removed]",
      "text/plain": [
       "<Figure size 600x400 with 1 Axes>"
      ]
     },
     "metadata": {},
     "output_type": "display_data"
    }
   ],
   "source": [
    "# chatgpt 명령 'a=[5,3,2,8] 값으로 그릴수 있는 차트 모두'\n",
    "import matplotlib.pyplot as plt\n",
    "\n",
    "a = [5, 3, 2, 8]\n",
    "\n",
    "# 선 그래프\n",
    "plt.figure(figsize=(6, 4))\n",
    "plt.plot(a)\n",
    "plt.title('선 그래프')\n",
    "plt.show()\n",
    "\n",
    "# 막대 그래프\n",
    "plt.figure(figsize=(6, 4))\n",
    "plt.bar(range(len(a)), a)\n",
    "plt.title('막대 그래프')\n",
    "plt.show()\n",
    "\n",
    "# 산점도\n",
    "plt.figure(figsize=(6, 4))\n",
    "plt.scatter(range(len(a)), a)\n",
    "plt.title('산점도')\n",
    "plt.show()\n",
    "\n",
    "# 원 그래프\n",
    "plt.figure(figsize=(6, 4))\n",
    "plt.pie(a, labels=[f'Data {i}' for i in range(len(a))], autopct='%1.1f%%')\n",
    "plt.title('원 그래프')\n",
    "plt.show()\n"
   ]
  },
  {
   "cell_type": "code",
   "execution_count": 139,
   "id": "5f6a57a8",
   "metadata": {},
   "outputs": [
    {
     "data": {
      "image/png": "[encoded data removed]",
      "text/plain": [
       "<Figure size 1000x800 with 4 Axes>"
      ]
     },
     "metadata": {},
     "output_type": "display_data"
    }
   ],
   "source": [
    "# chatGPT 'a=[5,3,2,8] 값으로 그릴수 있는 차트 모두 한글깨짐, 2줄에 모두\n",
    "'\n",
    "import matplotlib.pyplot as plt\n",
    "from matplotlib import font_manager, rc\n",
    "\n",
    "# 폰트 설정 (예시: 나눔고딕)\n",
    "font_path = \"C:/Windows/Fonts/malgun.ttf\"  # 나눔고딕 폰트의 경로\n",
    "font_name = font_manager.FontProperties(fname=font_path).get_name()\n",
    "rc('font', family=font_name)\n",
    "\n",
    "a = [5, 3, 2, 8]\n",
    "\n",
    "# 차트 모두 한글로 표시\n",
    "plt.figure(figsize=(10, 8))\n",
    "\n",
    "# 선 그래프\n",
    "plt.subplot(221)\n",
    "plt.plot(a)\n",
    "plt.title('선 그래프')\n",
    "\n",
    "# 막대 그래프\n",
    "plt.subplot(222)\n",
    "plt.bar(range(len(a)), a)\n",
    "plt.title('막대 그래프')\n",
    "\n",
    "# 산점도\n",
    "plt.subplot(223)\n",
    "plt.scatter(range(len(a)), a)\n",
    "plt.title('산점도')\n",
    "\n",
    "# 원 그래프\n",
    "plt.subplot(224)\n",
    "plt.pie(a, labels=[f'데이터 {i}' for i in range(len(a))], autopct='%1.1f%%')\n",
    "plt.title('원 그래프')\n",
    "\n",
    "plt.tight_layout()\n",
    "plt.show()\n"
   ]
  },
  {
   "cell_type": "markdown",
   "id": "4f5e15a3",
   "metadata": {},
   "source": [
    "## [판다스 자료와 차트]"
   ]
  },
  {
   "cell_type": "code",
   "execution_count": 140,
   "id": "b998d9d0",
   "metadata": {},
   "outputs": [
    {
     "data": {
      "text/html": [
       "<div>\n",
       "<style scoped>\n",
       "    .dataframe tbody tr th:only-of-type {\n",
       "        vertical-align: middle;\n",
       "    }\n",
       "\n",
       "    .dataframe tbody tr th {\n",
       "        vertical-align: top;\n",
       "    }\n",
       "\n",
       "    .dataframe thead th {\n",
       "        text-align: right;\n",
       "    }\n",
       "</style>\n",
       "<table border=\"1\" class=\"dataframe\">\n",
       "  <thead>\n",
       "    <tr style=\"text-align: right;\">\n",
       "      <th></th>\n",
       "      <th>지역</th>\n",
       "      <th>강수량</th>\n",
       "      <th>온도</th>\n",
       "      <th>비고</th>\n",
       "      <th>강수량계산</th>\n",
       "      <th>과정명</th>\n",
       "    </tr>\n",
       "  </thead>\n",
       "  <tbody>\n",
       "    <tr>\n",
       "      <th>0</th>\n",
       "      <td>지역1</td>\n",
       "      <td>5</td>\n",
       "      <td>4</td>\n",
       "      <td>판다스_기초자료</td>\n",
       "      <td>0.5</td>\n",
       "      <td>판다스</td>\n",
       "    </tr>\n",
       "    <tr>\n",
       "      <th>1</th>\n",
       "      <td>지역2</td>\n",
       "      <td>5</td>\n",
       "      <td>4</td>\n",
       "      <td>판다스_기초자료</td>\n",
       "      <td>0.5</td>\n",
       "      <td>판다스</td>\n",
       "    </tr>\n",
       "    <tr>\n",
       "      <th>2</th>\n",
       "      <td>지역3</td>\n",
       "      <td>5</td>\n",
       "      <td>10</td>\n",
       "      <td>판다스_기초자료</td>\n",
       "      <td>0.5</td>\n",
       "      <td>판다스</td>\n",
       "    </tr>\n",
       "    <tr>\n",
       "      <th>3</th>\n",
       "      <td>지역4</td>\n",
       "      <td>4</td>\n",
       "      <td>5</td>\n",
       "      <td>판다스_기초자료</td>\n",
       "      <td>0.4</td>\n",
       "      <td>판다스</td>\n",
       "    </tr>\n",
       "    <tr>\n",
       "      <th>4</th>\n",
       "      <td>지역5</td>\n",
       "      <td>6</td>\n",
       "      <td>2</td>\n",
       "      <td>판다스_기초자료</td>\n",
       "      <td>0.6</td>\n",
       "      <td>판다스</td>\n",
       "    </tr>\n",
       "  </tbody>\n",
       "</table>\n",
       "</div>"
      ],
      "text/plain": [
       "    지역  강수량  온도        비고  강수량계산  과정명\n",
       "0  지역1    5   4  판다스_기초자료    0.5  판다스\n",
       "1  지역2    5   4  판다스_기초자료    0.5  판다스\n",
       "2  지역3    5  10  판다스_기초자료    0.5  판다스\n",
       "3  지역4    4   5  판다스_기초자료    0.4  판다스\n",
       "4  지역5    6   2  판다스_기초자료    0.6  판다스"
      ]
     },
     "execution_count": 140,
     "metadata": {},
     "output_type": "execute_result"
    }
   ],
   "source": [
    "df"
   ]
  },
  {
   "cell_type": "code",
   "execution_count": 148,
   "id": "fedb2b98",
   "metadata": {},
   "outputs": [
    {
     "data": {
      "text/plain": [
       "Text(0.5, 1.0, '지역별 온도')"
      ]
     },
     "execution_count": 148,
     "metadata": {},
     "output_type": "execute_result"
    },
    {
     "data": {
      "image/png": "[encoded data removed]",
      "text/plain": [
       "<Figure size 1000x300 with 2 Axes>"
      ]
     },
     "metadata": {},
     "output_type": "display_data"
    }
   ],
   "source": [
    "plt.figure(figsize=(10,3))\n",
    "plt.subplot(121)\n",
    "plt.bar(df['지역'],df['강수량'])\n",
    "plt.title('지역별 강수량')\n",
    "\n",
    "plt.subplot(122)\n",
    "plt.bar(df['지역'],df['온도'])\n",
    "plt.title('지역별 온도')\n"
   ]
  },
  {
   "cell_type": "code",
   "execution_count": 151,
   "id": "c264dacb",
   "metadata": {},
   "outputs": [
    {
     "data": {
      "text/plain": [
       "Text(0.5, 1.0, '온도 원차트')"
      ]
     },
     "execution_count": 151,
     "metadata": {},
     "output_type": "execute_result"
    },
    {
     "data": {
      "image/png": "[encoded data removed]",
      "text/plain": [
       "<Figure size 1000x300 with 2 Axes>"
      ]
     },
     "metadata": {},
     "output_type": "display_data"
    }
   ],
   "source": [
    "plt.figure(figsize=(10,3))\n",
    "plt.subplot(121)\n",
    "plt.pie(df['강수량'],autopct='%1.1f%%')\n",
    "plt.title('강수량 원차트')\n",
    "\n",
    "plt.subplot(122)\n",
    "plt.pie(df['온도'],autopct='%1.1f%%')\n",
    "plt.title('온도 원차트')"
   ]
  },
  {
   "cell_type": "code",
   "execution_count": 153,
   "id": "92190c26",
   "metadata": {},
   "outputs": [
    {
     "data": {
      "text/plain": [
       "Text(0.5, 1.0, '온도 산점도')"
      ]
     },
     "execution_count": 153,
     "metadata": {},
     "output_type": "execute_result"
    },
    {
     "data": {
      "image/png": "[encoded data removed]",
      "text/plain": [
       "<Figure size 1000x300 with 2 Axes>"
      ]
     },
     "metadata": {},
     "output_type": "display_data"
    }
   ],
   "source": [
    "plt.figure(figsize=(10,3))\n",
    "plt.subplot(121)\n",
    "plt.plot(df['강수량'],'ro')\n",
    "plt.title('강수량 산점도')\n",
    "\n",
    "plt.subplot(122)\n",
    "plt.plot(df['온도'],'ro')\n",
    "plt.title('온도 산점도')"
   ]
  },
  {
   "cell_type": "code",
   "execution_count": null,
   "id": "bbe0aa70",
   "metadata": {},
   "outputs": [],
   "source": []
  }
 ],
 "metadata": {
  "kernelspec": {
   "display_name": "Python 3 (ipykernel)",
   "language": "python",
   "name": "python3"
  },
  "language_info": {
   "codemirror_mode": {
    "name": "ipython",
    "version": 3
   },
   "file_extension": ".py",
   "mimetype": "text/x-python",
   "name": "python",
   "nbconvert_exporter": "python",
   "pygments_lexer": "ipython3",
   "version": "3.11.4"
  }
 },
 "nbformat": 4,
 "nbformat_minor": 5
}
