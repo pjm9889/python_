{
 "cells": [
  {
   "cell_type": "code",
   "execution_count": null,
   "id": "1bbb11d9-d88a-41d1-a196-fa4123a7c9bf",
   "metadata": {},
   "outputs": [],
   "source": []
  }
 ],
 "metadata": {
  "kernelspec": {
   "display_name": "",
   "name": ""
  },
  "language_info": {
   "name": ""
  }
 },
 "nbformat": 4,
 "nbformat_minor": 5
}
