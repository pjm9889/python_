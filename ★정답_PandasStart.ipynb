{
 "cells": [
  {
   "cell_type": "markdown",
   "metadata": {},
   "source": [
    "## GPT와 함께하는 판다스 기본\n",
    "- 작업의 편의성을 위해 데이터셋을 외부에서 읽어오지 않고 생성하였습니다.\n",
    "- 숫자데이터와 문자데이터에 대한 이해가 필요함\n",
    "- 숫자데이터는 계산에 필요하며\n",
    "- 문자데이터(범주형,명목형)은 빈도수 계산에 필요함\n",
    "- 엑셀에서 쉼표표시가 있는 숫자(1,000)은 파이썬에서 자료를 불러오면 문자자료로 불러옴으로 일반 숫자서식으로 자료를 만들어서 갖고와야함.\n",
    "- 날짜자료(datetime)형식으로 변환하면 년,월,일,요일에 대한 처리가 가능함으로\n",
    "- 어떤 작업이 필요한가에 따라 숫자(int, float), 문자(object), 날짜(dateitme)으로 형을 변경해야함."
   ]
  },
  {
   "cell_type": "code",
   "execution_count": 17,
   "metadata": {},
   "outputs": [
    {
     "name": "stdout",
     "output_type": "stream",
     "text": [
      "경고메세지 숨기기를 실행하였습니다\n",
      "         생년월일   이름  성별  지역   구매금액\n",
      "0  1990-05-15  홍길동  남성  서울  10000\n",
      "1  1985-02-20  김철수  남성  부산  20000\n",
      "2  1993-11-10  이영희  여성  대구   None\n",
      "3  1988-07-25  박영수  여성  서울   3000\n",
      "4  1980-09-05  최지영  여성  서울   2000\n",
      "5    1990-3-5  김영희  여성  부산   5000\n"
     ]
    }
   ],
   "source": [
    "# 이 창에서 Ctrl+Enter를 눌러 실행합니다.\n",
    "#############################\n",
    "### [작업1-1] ctrl+enter를 눌러\n",
    "### ### 작업1: 경고메세지 숨기기 \n",
    "###\n",
    "################################\n",
    "import warnings\n",
    "warnings.filterwarnings(\"ignore\")\n",
    "print('경고메세지 숨기기를 실행하였습니다')\n",
    "\n",
    "\n",
    "import pandas as pd\n",
    "data = {\n",
    "    '생년월일': ['1990-05-15', '1985-02-20', '1993-11-10', '1988-07-25', '1980-09-05','1990-3-5'],\n",
    "    '이름': ['홍길동', '김철수', '이영희', '박영수', '최지영','김영희'],\n",
    "    '성별': ['남성', '남성', '여성', '여성', '여성','여성'],\n",
    "    '지역': ['서울', '부산', '대구', '서울', '서울','부산'],\n",
    "    '구매금액': ['10000', '20000', None, '3000', '2000','5000']\n",
    "}\n",
    "\n",
    "#############################\n",
    "### [작업1-2] ctrl+enter를 눌러\n",
    "### ### 작업1: 경고메세지 숨기기 \n",
    "###\n",
    "################################\n",
    "\n",
    "# DataFrame 생성\n",
    "df = pd.DataFrame(data)\n",
    "\n",
    "# DataFrame 출력\n",
    "print(df)\n"
   ]
  },
  {
   "cell_type": "code",
   "execution_count": 18,
   "metadata": {},
   "outputs": [
    {
     "data": {
      "text/plain": [
       "((6, 5), 6, 5)"
      ]
     },
     "execution_count": 18,
     "metadata": {},
     "output_type": "execute_result"
    }
   ],
   "source": [
    "###########################################\n",
    "### [문제1] 데이터의  전체크기를 확인합니다. \n",
    "### 'gpt'--> 판다스 데이터 행,열 갯수확인코드\n",
    "###########################################\n",
    "df.shape, df.shape[0], df.shape[1]"
   ]
  },
  {
   "cell_type": "code",
   "execution_count": 15,
   "metadata": {},
   "outputs": [
    {
     "data": {
      "text/html": [
       "<div>\n",
       "<style scoped>\n",
       "    .dataframe tbody tr th:only-of-type {\n",
       "        vertical-align: middle;\n",
       "    }\n",
       "\n",
       "    .dataframe tbody tr th {\n",
       "        vertical-align: top;\n",
       "    }\n",
       "\n",
       "    .dataframe thead th {\n",
       "        text-align: right;\n",
       "    }\n",
       "</style>\n",
       "<table border=\"1\" class=\"dataframe\">\n",
       "  <thead>\n",
       "    <tr style=\"text-align: right;\">\n",
       "      <th></th>\n",
       "      <th>생년월일</th>\n",
       "      <th>이름</th>\n",
       "      <th>성별</th>\n",
       "      <th>지역</th>\n",
       "      <th>구매금액</th>\n",
       "    </tr>\n",
       "  </thead>\n",
       "  <tbody>\n",
       "    <tr>\n",
       "      <th>0</th>\n",
       "      <td>1990-05-15</td>\n",
       "      <td>홍길동</td>\n",
       "      <td>남성</td>\n",
       "      <td>서울</td>\n",
       "      <td>10000</td>\n",
       "    </tr>\n",
       "    <tr>\n",
       "      <th>1</th>\n",
       "      <td>1985-02-20</td>\n",
       "      <td>김철수</td>\n",
       "      <td>남성</td>\n",
       "      <td>부산</td>\n",
       "      <td>20000</td>\n",
       "    </tr>\n",
       "  </tbody>\n",
       "</table>\n",
       "</div>"
      ],
      "text/plain": [
       "         생년월일   이름  성별  지역   구매금액\n",
       "0  1990-05-15  홍길동  남성  서울  10000\n",
       "1  1985-02-20  김철수  남성  부산  20000"
      ]
     },
     "execution_count": 15,
     "metadata": {},
     "output_type": "execute_result"
    }
   ],
   "source": [
    "df.head(2)  # 위로 2개자료만 보자\n",
    "df.head()  # 5개자료를 보자"
   ]
  },
  {
   "cell_type": "code",
   "execution_count": 9,
   "metadata": {},
   "outputs": [],
   "source": [
    "# 튜플은 2개이상의 자료를 갖고 있는 세트인데, () 로 표시됨\n",
    "# 인덱스값을 변경하지 못하는 특징이 리스트와 다름\n",
    "type(df.shape)\n",
    "list(df.shape)[0]=30"
   ]
  },
  {
   "cell_type": "code",
   "execution_count": 19,
   "metadata": {},
   "outputs": [
    {
     "name": "stdout",
     "output_type": "stream",
     "text": [
      "<class 'pandas.core.frame.DataFrame'>\n",
      "RangeIndex: 6 entries, 0 to 5\n",
      "Data columns (total 5 columns):\n",
      " #   Column  Non-Null Count  Dtype \n",
      "---  ------  --------------  ----- \n",
      " 0   생년월일    6 non-null      object\n",
      " 1   이름      6 non-null      object\n",
      " 2   성별      6 non-null      object\n",
      " 3   지역      6 non-null      object\n",
      " 4   구매금액    5 non-null      object\n",
      "dtypes: object(5)\n",
      "memory usage: 372.0+ bytes\n"
     ]
    }
   ],
   "source": [
    "###########################################\n",
    "### [문제2] 데이터의  전체 전체적인 구조를 확인합니다. \n",
    "### 데이터의 type은 사용하고자 하는 작업에 따라 변경 또는 유지해야함\n",
    "### 현재 생년월일은 object 임으로 year,month등의 날짜관련 작업이 불가능함\n",
    "### 현재 구매금액도 object임으로 일반적인 연산작업이 불가능함\n",
    "### 'gpt'--> 판다스의 데이터정보 확인 코드\n",
    "###########################################\n",
    "df.info()\n"
   ]
  },
  {
   "cell_type": "code",
   "execution_count": 20,
   "metadata": {},
   "outputs": [
    {
     "name": "stdout",
     "output_type": "stream",
     "text": [
      "              생년월일   이름  성별  지역   구매금액\n",
      "count            6    6   6   6      5\n",
      "unique           6    6   2   3      5\n",
      "top     1990-05-15  홍길동  여성  서울  10000\n",
      "freq             1    1   4   3      1\n"
     ]
    }
   ],
   "source": [
    "###########################################\n",
    "### [문제3] 데이터 통계 \n",
    "### 'gpt'-->  판다스 데이터통계 코드\n",
    "### 구매금액도 object 임으로 min,max등의 숫자관련 통계가 출력되지 않음\n",
    "### 현재 자료는 모두다 object 임으로 \n",
    "##  describe 했을때 갯수, unique갯수 및 count수에 대한 최대 갯수등에 대한 요약 통계만 보임\n",
    "### \n",
    "###########################################\n",
    "print(df.describe())  "
   ]
  },
  {
   "cell_type": "code",
   "execution_count": 41,
   "metadata": {},
   "outputs": [
    {
     "name": "stdout",
     "output_type": "stream",
     "text": [
      "성별 열의 비어 있지 않은 값의 개수: 성별\n",
      "여성    4\n",
      "남성    2\n",
      "Name: count, dtype: int64\n",
      "\n",
      "\n",
      "\n",
      "지역 열의 비어 있지 않은 값의 개수: 지역\n",
      "서울    3\n",
      "부산    2\n",
      "대구    1\n",
      "Name: count, dtype: int64\n"
     ]
    }
   ],
   "source": [
    "###########################################\n",
    "### [문제4] 데이터의 빈도분석 확인.\n",
    "### 'gpt'--> 성별별 count, 지역별 count\n",
    "### 성별Count=성별빈도수계산\n",
    "### 지역Count=지역빈도수계산\n",
    "##############################################\n",
    "\n",
    "# 성별 열의 비어 있지 않은 값의 개수(count)\n",
    "성별count = df['성별'].value_counts()\n",
    "print(\"성별 열의 비어 있지 않은 값의 개수:\", 성별count)\n",
    "print('\\n\\n')  # \\n은 엔터한번\n",
    "# 지역 열의 비어 있지 않은 값의 개수(count)\n",
    "지역count = df['지역'].value_counts()\n",
    "print(\"지역 열의 비어 있지 않은 값의 개수:\", 지역count)"
   ]
  },
  {
   "cell_type": "code",
   "execution_count": 33,
   "metadata": {},
   "outputs": [
    {
     "name": "stdout",
     "output_type": "stream",
     "text": [
      "--------------------------------------------------\n",
      "지역 열의 비어 있지 않은 값의 개수: 지역\n",
      "서울    3\n",
      "부산    2\n",
      "대구    1\n",
      "Name: count, dtype: int64\n",
      "지역 열의 비어 있지 않은 값의 개수: 지역\n",
      "서울    50.000000\n",
      "부산    33.333333\n",
      "대구    16.666667\n",
      "Name: count, dtype: float64 %\n",
      "--------------------------------------------------\n",
      "성별 열의 비어 있지 않은 값의 개수: 성별\n",
      "여성    4\n",
      "남성    2\n",
      "Name: count, dtype: int64\n",
      "성별 열의 비어 있지 않은 값의 개수: 성별\n",
      "여성    66.666667\n",
      "남성    33.333333\n",
      "Name: count, dtype: float64 %\n"
     ]
    }
   ],
   "source": [
    "### 함수\n",
    "def uniqueCount(x):\n",
    "    print('-'*50)\n",
    "    tmp = df[x].value_counts()\n",
    "    print(x +' 열의 비어 있지 않은 값의 개수:', tmp)\n",
    "    print(x +' 열의 비어 있지 않은 값의 개수:', tmp / len(df[x]) * 100, '%')\n",
    "\n",
    "field=['지역','성별']\n",
    "for i in field:\n",
    "    uniqueCount(i)    "
   ]
  },
  {
   "cell_type": "code",
   "execution_count": 36,
   "metadata": {},
   "outputs": [
    {
     "data": {
      "text/plain": [
       "[    지역 열의 비어 있지 않은 값의 개수  지역 열의 비어 있지 않은 값의 비율 (%)\n",
       " 지역                                                \n",
       " 서울                     3                     50.00\n",
       " 부산                     2                     33.33\n",
       " 대구                     1                     16.67,\n",
       "     성별 열의 비어 있지 않은 값의 개수  성별 열의 비어 있지 않은 값의 비율 (%)\n",
       " 성별                                                \n",
       " 여성                     4                     66.67\n",
       " 남성                     2                     33.33]"
      ]
     },
     "execution_count": 36,
     "metadata": {},
     "output_type": "execute_result"
    }
   ],
   "source": [
    "### 데이터프레임으로 제작\n",
    "# 함수 정의\n",
    "def uniqueCount(x):\n",
    "    tmp = df[x].value_counts()\n",
    "    count = tmp.values\n",
    "    percentage = (tmp / len(df[x]) * 100).round(2)\n",
    "    result_df = pd.DataFrame({f'{x} 열의 비어 있지 않은 값의 개수': count, f'{x} 열의 비어 있지 않은 값의 비율 (%)': percentage})\n",
    "    return result_df\n",
    "\n",
    "# 필드 리스트\n",
    "fields = ['지역', '성별']\n",
    "\n",
    "# 데이터프레임 제작\n",
    "result_dfs = []\n",
    "for i in fields:\n",
    "    result_dfs.append(uniqueCount(i))\n",
    "result_dfs"
   ]
  },
  {
   "cell_type": "code",
   "execution_count": 39,
   "metadata": {},
   "outputs": [],
   "source": [
    "#!pip --trusted-host pypi.org --trusted-host file.pythonhosted.org install matplotlib"
   ]
  },
  {
   "cell_type": "code",
   "execution_count": 44,
   "metadata": {},
   "outputs": [
    {
     "data": {
      "text/plain": [
       "Text(0.5, 1.0, '지역빈도수')"
      ]
     },
     "execution_count": 44,
     "metadata": {},
     "output_type": "execute_result"
    },
    {
     "data": {
      "image/png": "[encoded data removed]",
      "text/plain": [
       "<Figure size 1000x300 with 2 Axes>"
      ]
     },
     "metadata": {},
     "output_type": "display_data"
    }
   ],
   "source": [
    "##############################3\n",
    "## 참고 성별Count와 \n",
    "## 지역Count변수가 작성되었다면 \n",
    "### 시각화를 다음코드로 작성하여 봅니다.\n",
    "###  단, 빈도수 계산과, 차트를 동시에 진행할수 있는 seaborn의 countplot를 이용하면 쉽게 시각화 가능합니다.\n",
    "###########################\n",
    "import matplotlib.pyplot as plt\n",
    "\n",
    "plt.rcParams['font.family'] ='Malgun Gothic'\n",
    "plt.rcParams['axes.unicode_minus'] =False\n",
    "\n",
    "plt.figure(figsize=(10,3))   #가로10, 세로3의 크기를 작성하고\n",
    "plt.subplot(1,2,1)   #1행2열중 첫번쨰 위치에 작성\n",
    "plt.bar(성별count.index, 성별count)\n",
    "plt.title('성별빈도수')\n",
    "\n",
    "plt.subplot(1,2,2)\n",
    "plt.bar(지역count.index, 지역count)   # 1행2열중 2번째 위치에 작성\n",
    "plt.title('지역빈도수')"
   ]
  },
  {
   "cell_type": "code",
   "execution_count": null,
   "metadata": {},
   "outputs": [],
   "source": [
    "###########################################\n",
    "### [문제6] 열 선택하기\n",
    "### 생년월일과 구매금액만 출력합니다.\n",
    "### 'gpt'--> \n",
    "########################################\n"
   ]
  },
  {
   "cell_type": "code",
   "execution_count": 46,
   "metadata": {},
   "outputs": [
    {
     "data": {
      "text/html": [
       "<div>\n",
       "<style scoped>\n",
       "    .dataframe tbody tr th:only-of-type {\n",
       "        vertical-align: middle;\n",
       "    }\n",
       "\n",
       "    .dataframe tbody tr th {\n",
       "        vertical-align: top;\n",
       "    }\n",
       "\n",
       "    .dataframe thead th {\n",
       "        text-align: right;\n",
       "    }\n",
       "</style>\n",
       "<table border=\"1\" class=\"dataframe\">\n",
       "  <thead>\n",
       "    <tr style=\"text-align: right;\">\n",
       "      <th></th>\n",
       "      <th>생년월일</th>\n",
       "      <th>이름</th>\n",
       "      <th>성별</th>\n",
       "      <th>지역</th>\n",
       "      <th>구매금액</th>\n",
       "    </tr>\n",
       "  </thead>\n",
       "  <tbody>\n",
       "    <tr>\n",
       "      <th>0</th>\n",
       "      <td>1990-05-15</td>\n",
       "      <td>홍길동</td>\n",
       "      <td>남성</td>\n",
       "      <td>서울</td>\n",
       "      <td>10000</td>\n",
       "    </tr>\n",
       "    <tr>\n",
       "      <th>3</th>\n",
       "      <td>1988-07-25</td>\n",
       "      <td>박영수</td>\n",
       "      <td>여성</td>\n",
       "      <td>서울</td>\n",
       "      <td>3000</td>\n",
       "    </tr>\n",
       "    <tr>\n",
       "      <th>4</th>\n",
       "      <td>1980-09-05</td>\n",
       "      <td>최지영</td>\n",
       "      <td>여성</td>\n",
       "      <td>서울</td>\n",
       "      <td>2000</td>\n",
       "    </tr>\n",
       "  </tbody>\n",
       "</table>\n",
       "</div>"
      ],
      "text/plain": [
       "         생년월일   이름  성별  지역   구매금액\n",
       "0  1990-05-15  홍길동  남성  서울  10000\n",
       "3  1988-07-25  박영수  여성  서울   3000\n",
       "4  1980-09-05  최지영  여성  서울   2000"
      ]
     },
     "execution_count": 46,
     "metadata": {},
     "output_type": "execute_result"
    }
   ],
   "source": [
    "###########################################\n",
    "### [문제7] 조건에 맞는 자료 선택하기\n",
    "### 지역이 서울인 자료만 필터\n",
    "###  'gpt'--> \n",
    "########################################\n",
    "\n",
    "df[df['지역']=='서울']"
   ]
  },
  {
   "cell_type": "code",
   "execution_count": 53,
   "metadata": {},
   "outputs": [
    {
     "data": {
      "text/html": [
       "<div>\n",
       "<style scoped>\n",
       "    .dataframe tbody tr th:only-of-type {\n",
       "        vertical-align: middle;\n",
       "    }\n",
       "\n",
       "    .dataframe tbody tr th {\n",
       "        vertical-align: top;\n",
       "    }\n",
       "\n",
       "    .dataframe thead th {\n",
       "        text-align: right;\n",
       "    }\n",
       "</style>\n",
       "<table border=\"1\" class=\"dataframe\">\n",
       "  <thead>\n",
       "    <tr style=\"text-align: right;\">\n",
       "      <th></th>\n",
       "      <th>생년월일</th>\n",
       "      <th>이름</th>\n",
       "      <th>성별</th>\n",
       "      <th>지역</th>\n",
       "      <th>구매금액</th>\n",
       "    </tr>\n",
       "  </thead>\n",
       "  <tbody>\n",
       "    <tr>\n",
       "      <th>0</th>\n",
       "      <td>1990-05-15</td>\n",
       "      <td>홍길동</td>\n",
       "      <td>남성</td>\n",
       "      <td>서울</td>\n",
       "      <td>10000</td>\n",
       "    </tr>\n",
       "    <tr>\n",
       "      <th>1</th>\n",
       "      <td>1985-02-20</td>\n",
       "      <td>김철수</td>\n",
       "      <td>남성</td>\n",
       "      <td>부산</td>\n",
       "      <td>20000</td>\n",
       "    </tr>\n",
       "    <tr>\n",
       "      <th>3</th>\n",
       "      <td>1988-07-25</td>\n",
       "      <td>박영수</td>\n",
       "      <td>여성</td>\n",
       "      <td>서울</td>\n",
       "      <td>3000</td>\n",
       "    </tr>\n",
       "    <tr>\n",
       "      <th>4</th>\n",
       "      <td>1980-09-05</td>\n",
       "      <td>최지영</td>\n",
       "      <td>여성</td>\n",
       "      <td>서울</td>\n",
       "      <td>2000</td>\n",
       "    </tr>\n",
       "    <tr>\n",
       "      <th>5</th>\n",
       "      <td>1990-3-5</td>\n",
       "      <td>김영희</td>\n",
       "      <td>여성</td>\n",
       "      <td>부산</td>\n",
       "      <td>5000</td>\n",
       "    </tr>\n",
       "  </tbody>\n",
       "</table>\n",
       "</div>"
      ],
      "text/plain": [
       "         생년월일   이름  성별  지역   구매금액\n",
       "0  1990-05-15  홍길동  남성  서울  10000\n",
       "1  1985-02-20  김철수  남성  부산  20000\n",
       "3  1988-07-25  박영수  여성  서울   3000\n",
       "4  1980-09-05  최지영  여성  서울   2000\n",
       "5    1990-3-5  김영희  여성  부산   5000"
      ]
     },
     "execution_count": 53,
     "metadata": {},
     "output_type": "execute_result"
    }
   ],
   "source": [
    "###########################################\n",
    "### [문제8] 조건에 맞는 자료 선택하기 \n",
    "### 구글검색   판다스 조건 or\n",
    "### https://velog.io/@goyoon5526/pandas-dataframe%EC%97%90%EC%84%9C-%EC%A1%B0%EA%B1%B4%EC%9D%84-%EC%97%AC%EB%9F%AC-%EA%B0%9C-%EA%B1%B0%EB%8A%94-%EB%B0%A9%EB%B2%95\n",
    "### 지역이 서울 또는 부산인 자료 필터\n",
    "########################################\n",
    "\n",
    "df[(df['지역']=='부산') | (df['지역']=='서울')]"
   ]
  },
  {
   "cell_type": "code",
   "execution_count": 54,
   "metadata": {},
   "outputs": [
    {
     "data": {
      "text/html": [
       "<div>\n",
       "<style scoped>\n",
       "    .dataframe tbody tr th:only-of-type {\n",
       "        vertical-align: middle;\n",
       "    }\n",
       "\n",
       "    .dataframe tbody tr th {\n",
       "        vertical-align: top;\n",
       "    }\n",
       "\n",
       "    .dataframe thead th {\n",
       "        text-align: right;\n",
       "    }\n",
       "</style>\n",
       "<table border=\"1\" class=\"dataframe\">\n",
       "  <thead>\n",
       "    <tr style=\"text-align: right;\">\n",
       "      <th></th>\n",
       "      <th>생년월일</th>\n",
       "      <th>이름</th>\n",
       "      <th>성별</th>\n",
       "      <th>지역</th>\n",
       "      <th>구매금액</th>\n",
       "    </tr>\n",
       "  </thead>\n",
       "  <tbody>\n",
       "    <tr>\n",
       "      <th>0</th>\n",
       "      <td>1990-05-15</td>\n",
       "      <td>홍길동</td>\n",
       "      <td>남성</td>\n",
       "      <td>서울</td>\n",
       "      <td>10000</td>\n",
       "    </tr>\n",
       "    <tr>\n",
       "      <th>1</th>\n",
       "      <td>1985-02-20</td>\n",
       "      <td>김철수</td>\n",
       "      <td>남성</td>\n",
       "      <td>부산</td>\n",
       "      <td>20000</td>\n",
       "    </tr>\n",
       "    <tr>\n",
       "      <th>2</th>\n",
       "      <td>1993-11-10</td>\n",
       "      <td>이영희</td>\n",
       "      <td>여성</td>\n",
       "      <td>대구</td>\n",
       "      <td>None</td>\n",
       "    </tr>\n",
       "    <tr>\n",
       "      <th>3</th>\n",
       "      <td>1988-07-25</td>\n",
       "      <td>박영수</td>\n",
       "      <td>여성</td>\n",
       "      <td>서울</td>\n",
       "      <td>3000</td>\n",
       "    </tr>\n",
       "    <tr>\n",
       "      <th>4</th>\n",
       "      <td>1980-09-05</td>\n",
       "      <td>최지영</td>\n",
       "      <td>여성</td>\n",
       "      <td>서울</td>\n",
       "      <td>2000</td>\n",
       "    </tr>\n",
       "    <tr>\n",
       "      <th>5</th>\n",
       "      <td>1990-3-5</td>\n",
       "      <td>김영희</td>\n",
       "      <td>여성</td>\n",
       "      <td>부산</td>\n",
       "      <td>5000</td>\n",
       "    </tr>\n",
       "  </tbody>\n",
       "</table>\n",
       "</div>"
      ],
      "text/plain": [
       "         생년월일   이름  성별  지역   구매금액\n",
       "0  1990-05-15  홍길동  남성  서울  10000\n",
       "1  1985-02-20  김철수  남성  부산  20000\n",
       "2  1993-11-10  이영희  여성  대구   None\n",
       "3  1988-07-25  박영수  여성  서울   3000\n",
       "4  1980-09-05  최지영  여성  서울   2000\n",
       "5    1990-3-5  김영희  여성  부산   5000"
      ]
     },
     "execution_count": 54,
     "metadata": {},
     "output_type": "execute_result"
    }
   ],
   "source": [
    "df"
   ]
  },
  {
   "cell_type": "code",
   "execution_count": 55,
   "metadata": {},
   "outputs": [
    {
     "data": {
      "text/plain": [
       "생년월일    0\n",
       "이름      0\n",
       "성별      0\n",
       "지역      0\n",
       "구매금액    1\n",
       "dtype: int64"
      ]
     },
     "execution_count": 55,
     "metadata": {},
     "output_type": "execute_result"
    }
   ],
   "source": [
    "###########################################\n",
    "### [문제9] 결측치 처리 \n",
    "### 결측데이터 있는 자료를 확인합니다.\n",
    "########################################\n",
    "df.isnull().sum()"
   ]
  },
  {
   "cell_type": "code",
   "execution_count": 56,
   "metadata": {},
   "outputs": [
    {
     "data": {
      "text/html": [
       "<div>\n",
       "<style scoped>\n",
       "    .dataframe tbody tr th:only-of-type {\n",
       "        vertical-align: middle;\n",
       "    }\n",
       "\n",
       "    .dataframe tbody tr th {\n",
       "        vertical-align: top;\n",
       "    }\n",
       "\n",
       "    .dataframe thead th {\n",
       "        text-align: right;\n",
       "    }\n",
       "</style>\n",
       "<table border=\"1\" class=\"dataframe\">\n",
       "  <thead>\n",
       "    <tr style=\"text-align: right;\">\n",
       "      <th></th>\n",
       "      <th>생년월일</th>\n",
       "      <th>이름</th>\n",
       "      <th>성별</th>\n",
       "      <th>지역</th>\n",
       "      <th>구매금액</th>\n",
       "    </tr>\n",
       "  </thead>\n",
       "  <tbody>\n",
       "    <tr>\n",
       "      <th>0</th>\n",
       "      <td>1990-05-15</td>\n",
       "      <td>홍길동</td>\n",
       "      <td>남성</td>\n",
       "      <td>서울</td>\n",
       "      <td>10000</td>\n",
       "    </tr>\n",
       "    <tr>\n",
       "      <th>1</th>\n",
       "      <td>1985-02-20</td>\n",
       "      <td>김철수</td>\n",
       "      <td>남성</td>\n",
       "      <td>부산</td>\n",
       "      <td>20000</td>\n",
       "    </tr>\n",
       "    <tr>\n",
       "      <th>3</th>\n",
       "      <td>1988-07-25</td>\n",
       "      <td>박영수</td>\n",
       "      <td>여성</td>\n",
       "      <td>서울</td>\n",
       "      <td>3000</td>\n",
       "    </tr>\n",
       "    <tr>\n",
       "      <th>4</th>\n",
       "      <td>1980-09-05</td>\n",
       "      <td>최지영</td>\n",
       "      <td>여성</td>\n",
       "      <td>서울</td>\n",
       "      <td>2000</td>\n",
       "    </tr>\n",
       "    <tr>\n",
       "      <th>5</th>\n",
       "      <td>1990-3-5</td>\n",
       "      <td>김영희</td>\n",
       "      <td>여성</td>\n",
       "      <td>부산</td>\n",
       "      <td>5000</td>\n",
       "    </tr>\n",
       "  </tbody>\n",
       "</table>\n",
       "</div>"
      ],
      "text/plain": [
       "         생년월일   이름  성별  지역   구매금액\n",
       "0  1990-05-15  홍길동  남성  서울  10000\n",
       "1  1985-02-20  김철수  남성  부산  20000\n",
       "3  1988-07-25  박영수  여성  서울   3000\n",
       "4  1980-09-05  최지영  여성  서울   2000\n",
       "5    1990-3-5  김영희  여성  부산   5000"
      ]
     },
     "execution_count": 56,
     "metadata": {},
     "output_type": "execute_result"
    }
   ],
   "source": [
    "###########################################\n",
    "### [문제10] 결측데이터 삭제후 df2데이터프레임에 할당한후 확인 합니다.\n",
    "###   \n",
    "### \n",
    "########################################\n",
    "df2=df.dropna()\n",
    "df2"
   ]
  },
  {
   "cell_type": "code",
   "execution_count": 57,
   "metadata": {},
   "outputs": [
    {
     "name": "stdout",
     "output_type": "stream",
     "text": [
      "<class 'pandas.core.frame.DataFrame'>\n",
      "Index: 5 entries, 0 to 5\n",
      "Data columns (total 5 columns):\n",
      " #   Column  Non-Null Count  Dtype \n",
      "---  ------  --------------  ----- \n",
      " 0   생년월일    5 non-null      object\n",
      " 1   이름      5 non-null      object\n",
      " 2   성별      5 non-null      object\n",
      " 3   지역      5 non-null      object\n",
      " 4   구매금액    5 non-null      object\n",
      "dtypes: object(5)\n",
      "memory usage: 240.0+ bytes\n"
     ]
    },
    {
     "data": {
      "text/plain": [
       "(None,\n",
       " 생년월일    0\n",
       " 이름      0\n",
       " 성별      0\n",
       " 지역      0\n",
       " 구매금액    0\n",
       " dtype: int64)"
      ]
     },
     "execution_count": 57,
     "metadata": {},
     "output_type": "execute_result"
    }
   ],
   "source": [
    "###########################################\n",
    "### [문제11] df2의 정보를 확인합니다.\n",
    "### \n",
    "########################################\n",
    "df2.info(), df2.isna().sum()"
   ]
  },
  {
   "cell_type": "code",
   "execution_count": 58,
   "metadata": {},
   "outputs": [
    {
     "name": "stdout",
     "output_type": "stream",
     "text": [
      "<class 'pandas.core.frame.DataFrame'>\n",
      "RangeIndex: 6 entries, 0 to 5\n",
      "Data columns (total 5 columns):\n",
      " #   Column  Non-Null Count  Dtype \n",
      "---  ------  --------------  ----- \n",
      " 0   생년월일    6 non-null      object\n",
      " 1   이름      6 non-null      object\n",
      " 2   성별      6 non-null      object\n",
      " 3   지역      6 non-null      object\n",
      " 4   구매금액    5 non-null      object\n",
      "dtypes: object(5)\n",
      "memory usage: 372.0+ bytes\n"
     ]
    }
   ],
   "source": [
    "df.info()"
   ]
  },
  {
   "cell_type": "code",
   "execution_count": 59,
   "metadata": {},
   "outputs": [],
   "source": [
    "###########################################\n",
    "### [문제12]  df2데이터의 구매금액의 object를 int형으로 변경합니다.\n",
    "### 다음의 명령을 실행하고, df.info() 로 구메금액의 int형으로 변경되었는지를 확인합니다.\n",
    "### \n",
    "##################################\n",
    "df2['구매금액']=df2['구매금액'].astype('int32')\n"
   ]
  },
  {
   "cell_type": "code",
   "execution_count": 60,
   "metadata": {},
   "outputs": [
    {
     "name": "stdout",
     "output_type": "stream",
     "text": [
      "<class 'pandas.core.frame.DataFrame'>\n",
      "Index: 5 entries, 0 to 5\n",
      "Data columns (total 5 columns):\n",
      " #   Column  Non-Null Count  Dtype \n",
      "---  ------  --------------  ----- \n",
      " 0   생년월일    5 non-null      object\n",
      " 1   이름      5 non-null      object\n",
      " 2   성별      5 non-null      object\n",
      " 3   지역      5 non-null      object\n",
      " 4   구매금액    5 non-null      int32 \n",
      "dtypes: int32(1), object(4)\n",
      "memory usage: 220.0+ bytes\n"
     ]
    }
   ],
   "source": [
    "###########################################\n",
    "### [문제13]  df2데이터의 생년월일 object를 datetime형으로 변경한뒤\n",
    "### df2.info()로 정보를 출력합니다.\n",
    "### \n",
    "#####################################\n",
    "df2.info()"
   ]
  },
  {
   "cell_type": "code",
   "execution_count": 63,
   "metadata": {},
   "outputs": [
    {
     "data": {
      "text/html": [
       "<div>\n",
       "<style scoped>\n",
       "    .dataframe tbody tr th:only-of-type {\n",
       "        vertical-align: middle;\n",
       "    }\n",
       "\n",
       "    .dataframe tbody tr th {\n",
       "        vertical-align: top;\n",
       "    }\n",
       "\n",
       "    .dataframe thead th {\n",
       "        text-align: right;\n",
       "    }\n",
       "</style>\n",
       "<table border=\"1\" class=\"dataframe\">\n",
       "  <thead>\n",
       "    <tr style=\"text-align: right;\">\n",
       "      <th></th>\n",
       "      <th>구매금액</th>\n",
       "    </tr>\n",
       "  </thead>\n",
       "  <tbody>\n",
       "    <tr>\n",
       "      <th>count</th>\n",
       "      <td>5.00000</td>\n",
       "    </tr>\n",
       "    <tr>\n",
       "      <th>mean</th>\n",
       "      <td>8000.00000</td>\n",
       "    </tr>\n",
       "    <tr>\n",
       "      <th>std</th>\n",
       "      <td>7382.41153</td>\n",
       "    </tr>\n",
       "    <tr>\n",
       "      <th>min</th>\n",
       "      <td>2000.00000</td>\n",
       "    </tr>\n",
       "    <tr>\n",
       "      <th>25%</th>\n",
       "      <td>3000.00000</td>\n",
       "    </tr>\n",
       "    <tr>\n",
       "      <th>50%</th>\n",
       "      <td>5000.00000</td>\n",
       "    </tr>\n",
       "    <tr>\n",
       "      <th>75%</th>\n",
       "      <td>10000.00000</td>\n",
       "    </tr>\n",
       "    <tr>\n",
       "      <th>max</th>\n",
       "      <td>20000.00000</td>\n",
       "    </tr>\n",
       "  </tbody>\n",
       "</table>\n",
       "</div>"
      ],
      "text/plain": [
       "              구매금액\n",
       "count      5.00000\n",
       "mean    8000.00000\n",
       "std     7382.41153\n",
       "min     2000.00000\n",
       "25%     3000.00000\n",
       "50%     5000.00000\n",
       "75%    10000.00000\n",
       "max    20000.00000"
      ]
     },
     "execution_count": 63,
     "metadata": {},
     "output_type": "execute_result"
    }
   ],
   "source": [
    "df2.describe() # 숫자, 문자가 있는 경우에는 숫자자료만 통계"
   ]
  },
  {
   "cell_type": "code",
   "execution_count": 64,
   "metadata": {},
   "outputs": [
    {
     "name": "stdout",
     "output_type": "stream",
     "text": [
      "<class 'pandas.core.frame.DataFrame'>\n",
      "Index: 5 entries, 0 to 5\n",
      "Data columns (total 5 columns):\n",
      " #   Column  Non-Null Count  Dtype \n",
      "---  ------  --------------  ----- \n",
      " 0   생년월일    5 non-null      object\n",
      " 1   이름      5 non-null      object\n",
      " 2   성별      5 non-null      object\n",
      " 3   지역      5 non-null      object\n",
      " 4   구매금액    5 non-null      int32 \n",
      "dtypes: int32(1), object(4)\n",
      "memory usage: 220.0+ bytes\n"
     ]
    }
   ],
   "source": [
    "df2.info()"
   ]
  },
  {
   "cell_type": "code",
   "execution_count": 65,
   "metadata": {},
   "outputs": [
    {
     "name": "stdout",
     "output_type": "stream",
     "text": [
      "<class 'pandas.core.frame.DataFrame'>\n",
      "Index: 5 entries, 0 to 5\n",
      "Data columns (total 5 columns):\n",
      " #   Column  Non-Null Count  Dtype         \n",
      "---  ------  --------------  -----         \n",
      " 0   생년월일    5 non-null      datetime64[ns]\n",
      " 1   이름      5 non-null      object        \n",
      " 2   성별      5 non-null      object        \n",
      " 3   지역      5 non-null      object        \n",
      " 4   구매금액    5 non-null      int32         \n",
      "dtypes: datetime64[ns](1), int32(1), object(3)\n",
      "memory usage: 220.0+ bytes\n"
     ]
    }
   ],
   "source": [
    "df2['생년월일']=df2['생년월일'].astype('datetime64[ns]')\n",
    "df2.info()"
   ]
  },
  {
   "cell_type": "code",
   "execution_count": 70,
   "metadata": {},
   "outputs": [
    {
     "data": {
      "text/html": [
       "<div>\n",
       "<style scoped>\n",
       "    .dataframe tbody tr th:only-of-type {\n",
       "        vertical-align: middle;\n",
       "    }\n",
       "\n",
       "    .dataframe tbody tr th {\n",
       "        vertical-align: top;\n",
       "    }\n",
       "\n",
       "    .dataframe thead th {\n",
       "        text-align: right;\n",
       "    }\n",
       "</style>\n",
       "<table border=\"1\" class=\"dataframe\">\n",
       "  <thead>\n",
       "    <tr style=\"text-align: right;\">\n",
       "      <th></th>\n",
       "      <th>생년월일</th>\n",
       "      <th>이름</th>\n",
       "      <th>성별</th>\n",
       "      <th>지역</th>\n",
       "      <th>구매금액</th>\n",
       "      <th>년</th>\n",
       "      <th>월</th>\n",
       "    </tr>\n",
       "  </thead>\n",
       "  <tbody>\n",
       "    <tr>\n",
       "      <th>0</th>\n",
       "      <td>1990-05-15</td>\n",
       "      <td>홍길동</td>\n",
       "      <td>남성</td>\n",
       "      <td>서울</td>\n",
       "      <td>10000</td>\n",
       "      <td>1990</td>\n",
       "      <td>5</td>\n",
       "    </tr>\n",
       "    <tr>\n",
       "      <th>1</th>\n",
       "      <td>1985-02-20</td>\n",
       "      <td>김철수</td>\n",
       "      <td>남성</td>\n",
       "      <td>부산</td>\n",
       "      <td>20000</td>\n",
       "      <td>1985</td>\n",
       "      <td>2</td>\n",
       "    </tr>\n",
       "    <tr>\n",
       "      <th>3</th>\n",
       "      <td>1988-07-25</td>\n",
       "      <td>박영수</td>\n",
       "      <td>여성</td>\n",
       "      <td>서울</td>\n",
       "      <td>3000</td>\n",
       "      <td>1988</td>\n",
       "      <td>7</td>\n",
       "    </tr>\n",
       "    <tr>\n",
       "      <th>4</th>\n",
       "      <td>1980-09-05</td>\n",
       "      <td>최지영</td>\n",
       "      <td>여성</td>\n",
       "      <td>서울</td>\n",
       "      <td>2000</td>\n",
       "      <td>1980</td>\n",
       "      <td>9</td>\n",
       "    </tr>\n",
       "    <tr>\n",
       "      <th>5</th>\n",
       "      <td>1990-03-05</td>\n",
       "      <td>김영희</td>\n",
       "      <td>여성</td>\n",
       "      <td>부산</td>\n",
       "      <td>5000</td>\n",
       "      <td>1990</td>\n",
       "      <td>3</td>\n",
       "    </tr>\n",
       "  </tbody>\n",
       "</table>\n",
       "</div>"
      ],
      "text/plain": [
       "        생년월일   이름  성별  지역   구매금액     년  월\n",
       "0 1990-05-15  홍길동  남성  서울  10000  1990  5\n",
       "1 1985-02-20  김철수  남성  부산  20000  1985  2\n",
       "3 1988-07-25  박영수  여성  서울   3000  1988  7\n",
       "4 1980-09-05  최지영  여성  서울   2000  1980  9\n",
       "5 1990-03-05  김영희  여성  부산   5000  1990  3"
      ]
     },
     "execution_count": 70,
     "metadata": {},
     "output_type": "execute_result"
    }
   ],
   "source": [
    "###########################################\n",
    "### [문제14] 타입변경이 완료된 자료를 이용하여 날짜필드를 생성합니다.\n",
    "### \n",
    "### 년,월,일 변수 생성\n",
    "### df2['생년월일'].year\n",
    "#####################################\n",
    "df2['년']=pd.DatetimeIndex(df2['생년월일']).year\n",
    "df2['월']=pd.DatetimeIndex(df2['생년월일']).month\n"
   ]
  },
  {
   "cell_type": "code",
   "execution_count": 71,
   "metadata": {},
   "outputs": [
    {
     "data": {
      "text/html": [
       "<div>\n",
       "<style scoped>\n",
       "    .dataframe tbody tr th:only-of-type {\n",
       "        vertical-align: middle;\n",
       "    }\n",
       "\n",
       "    .dataframe tbody tr th {\n",
       "        vertical-align: top;\n",
       "    }\n",
       "\n",
       "    .dataframe thead th {\n",
       "        text-align: right;\n",
       "    }\n",
       "</style>\n",
       "<table border=\"1\" class=\"dataframe\">\n",
       "  <thead>\n",
       "    <tr style=\"text-align: right;\">\n",
       "      <th></th>\n",
       "      <th>생년월일</th>\n",
       "      <th>이름</th>\n",
       "      <th>성별</th>\n",
       "      <th>지역</th>\n",
       "      <th>구매금액</th>\n",
       "      <th>년</th>\n",
       "      <th>월</th>\n",
       "      <th>요일</th>\n",
       "    </tr>\n",
       "  </thead>\n",
       "  <tbody>\n",
       "    <tr>\n",
       "      <th>0</th>\n",
       "      <td>1990-05-15</td>\n",
       "      <td>홍길동</td>\n",
       "      <td>남성</td>\n",
       "      <td>서울</td>\n",
       "      <td>10000</td>\n",
       "      <td>1990</td>\n",
       "      <td>5</td>\n",
       "      <td>Tuesday</td>\n",
       "    </tr>\n",
       "    <tr>\n",
       "      <th>1</th>\n",
       "      <td>1985-02-20</td>\n",
       "      <td>김철수</td>\n",
       "      <td>남성</td>\n",
       "      <td>부산</td>\n",
       "      <td>20000</td>\n",
       "      <td>1985</td>\n",
       "      <td>2</td>\n",
       "      <td>Wednesday</td>\n",
       "    </tr>\n",
       "    <tr>\n",
       "      <th>3</th>\n",
       "      <td>1988-07-25</td>\n",
       "      <td>박영수</td>\n",
       "      <td>여성</td>\n",
       "      <td>서울</td>\n",
       "      <td>3000</td>\n",
       "      <td>1988</td>\n",
       "      <td>7</td>\n",
       "      <td>Monday</td>\n",
       "    </tr>\n",
       "    <tr>\n",
       "      <th>4</th>\n",
       "      <td>1980-09-05</td>\n",
       "      <td>최지영</td>\n",
       "      <td>여성</td>\n",
       "      <td>서울</td>\n",
       "      <td>2000</td>\n",
       "      <td>1980</td>\n",
       "      <td>9</td>\n",
       "      <td>Friday</td>\n",
       "    </tr>\n",
       "    <tr>\n",
       "      <th>5</th>\n",
       "      <td>1990-03-05</td>\n",
       "      <td>김영희</td>\n",
       "      <td>여성</td>\n",
       "      <td>부산</td>\n",
       "      <td>5000</td>\n",
       "      <td>1990</td>\n",
       "      <td>3</td>\n",
       "      <td>Monday</td>\n",
       "    </tr>\n",
       "  </tbody>\n",
       "</table>\n",
       "</div>"
      ],
      "text/plain": [
       "        생년월일   이름  성별  지역   구매금액     년  월         요일\n",
       "0 1990-05-15  홍길동  남성  서울  10000  1990  5    Tuesday\n",
       "1 1985-02-20  김철수  남성  부산  20000  1985  2  Wednesday\n",
       "3 1988-07-25  박영수  여성  서울   3000  1988  7     Monday\n",
       "4 1980-09-05  최지영  여성  서울   2000  1980  9     Friday\n",
       "5 1990-03-05  김영희  여성  부산   5000  1990  3     Monday"
      ]
     },
     "execution_count": 71,
     "metadata": {},
     "output_type": "execute_result"
    }
   ],
   "source": [
    "###########################################\n",
    "### [문제15] 다음명령어 실행\n",
    "#####################################\n",
    "\n",
    "df2['요일'] = df2['생년월일'].dt.day_name()\n",
    "df2.head()"
   ]
  },
  {
   "cell_type": "code",
   "execution_count": 72,
   "metadata": {},
   "outputs": [
    {
     "data": {
      "text/html": [
       "<div>\n",
       "<style scoped>\n",
       "    .dataframe tbody tr th:only-of-type {\n",
       "        vertical-align: middle;\n",
       "    }\n",
       "\n",
       "    .dataframe tbody tr th {\n",
       "        vertical-align: top;\n",
       "    }\n",
       "\n",
       "    .dataframe thead th {\n",
       "        text-align: right;\n",
       "    }\n",
       "</style>\n",
       "<table border=\"1\" class=\"dataframe\">\n",
       "  <thead>\n",
       "    <tr style=\"text-align: right;\">\n",
       "      <th></th>\n",
       "      <th>month</th>\n",
       "      <th>분기</th>\n",
       "    </tr>\n",
       "  </thead>\n",
       "  <tbody>\n",
       "    <tr>\n",
       "      <th>0</th>\n",
       "      <td>1</td>\n",
       "      <td>Q1</td>\n",
       "    </tr>\n",
       "    <tr>\n",
       "      <th>1</th>\n",
       "      <td>2</td>\n",
       "      <td>Q1</td>\n",
       "    </tr>\n",
       "    <tr>\n",
       "      <th>2</th>\n",
       "      <td>3</td>\n",
       "      <td>Q1</td>\n",
       "    </tr>\n",
       "    <tr>\n",
       "      <th>3</th>\n",
       "      <td>4</td>\n",
       "      <td>Q2</td>\n",
       "    </tr>\n",
       "    <tr>\n",
       "      <th>4</th>\n",
       "      <td>5</td>\n",
       "      <td>Q2</td>\n",
       "    </tr>\n",
       "    <tr>\n",
       "      <th>5</th>\n",
       "      <td>6</td>\n",
       "      <td>Q2</td>\n",
       "    </tr>\n",
       "    <tr>\n",
       "      <th>6</th>\n",
       "      <td>7</td>\n",
       "      <td>Q3</td>\n",
       "    </tr>\n",
       "    <tr>\n",
       "      <th>7</th>\n",
       "      <td>8</td>\n",
       "      <td>Q3</td>\n",
       "    </tr>\n",
       "    <tr>\n",
       "      <th>8</th>\n",
       "      <td>9</td>\n",
       "      <td>Q3</td>\n",
       "    </tr>\n",
       "    <tr>\n",
       "      <th>9</th>\n",
       "      <td>10</td>\n",
       "      <td>Q4</td>\n",
       "    </tr>\n",
       "    <tr>\n",
       "      <th>10</th>\n",
       "      <td>11</td>\n",
       "      <td>Q4</td>\n",
       "    </tr>\n",
       "    <tr>\n",
       "      <th>11</th>\n",
       "      <td>12</td>\n",
       "      <td>Q4</td>\n",
       "    </tr>\n",
       "  </tbody>\n",
       "</table>\n",
       "</div>"
      ],
      "text/plain": [
       "    month  분기\n",
       "0       1  Q1\n",
       "1       2  Q1\n",
       "2       3  Q1\n",
       "3       4  Q2\n",
       "4       5  Q2\n",
       "5       6  Q2\n",
       "6       7  Q3\n",
       "7       8  Q3\n",
       "8       9  Q3\n",
       "9      10  Q4\n",
       "10     11  Q4\n",
       "11     12  Q4"
      ]
     },
     "execution_count": 72,
     "metadata": {},
     "output_type": "execute_result"
    }
   ],
   "source": [
    "###########################################\n",
    "### 문제16을 위한 준비사항  (ctrl+enter로 아래내용을 실행합니다.)\n",
    "### 아래 내용을 실행합니다. \n",
    "### 데이터병합을 위한 준비사항\n",
    "### 1~3월을 1사분기, 4,5,6을 Q2, 7,8,9를 Q3, 10,11,12를 Q4로 명명하고자 할때\n",
    "### merge기능을 이용하여 작업할수 있음\n",
    "### 데이테셋 준비\n",
    "#####################################\n",
    "\n",
    "Quarter={'month':[1,2,3,4,5,6,7,8,9,10,11,12],\n",
    "  '분기':['Q1','Q1','Q1','Q2','Q2','Q2','Q3','Q3','Q3','Q4','Q4','Q4']}\n",
    "\n",
    "dfQ=pd.DataFrame(Quarter)\n",
    "dfQ"
   ]
  },
  {
   "cell_type": "code",
   "execution_count": 73,
   "metadata": {},
   "outputs": [
    {
     "data": {
      "text/html": [
       "<div>\n",
       "<style scoped>\n",
       "    .dataframe tbody tr th:only-of-type {\n",
       "        vertical-align: middle;\n",
       "    }\n",
       "\n",
       "    .dataframe tbody tr th {\n",
       "        vertical-align: top;\n",
       "    }\n",
       "\n",
       "    .dataframe thead th {\n",
       "        text-align: right;\n",
       "    }\n",
       "</style>\n",
       "<table border=\"1\" class=\"dataframe\">\n",
       "  <thead>\n",
       "    <tr style=\"text-align: right;\">\n",
       "      <th></th>\n",
       "      <th>생년월일</th>\n",
       "      <th>이름</th>\n",
       "      <th>성별</th>\n",
       "      <th>지역</th>\n",
       "      <th>구매금액</th>\n",
       "      <th>년</th>\n",
       "      <th>월</th>\n",
       "      <th>요일</th>\n",
       "      <th>분기</th>\n",
       "    </tr>\n",
       "  </thead>\n",
       "  <tbody>\n",
       "    <tr>\n",
       "      <th>0</th>\n",
       "      <td>1990-05-15</td>\n",
       "      <td>홍길동</td>\n",
       "      <td>남성</td>\n",
       "      <td>서울</td>\n",
       "      <td>10000</td>\n",
       "      <td>1990</td>\n",
       "      <td>5</td>\n",
       "      <td>Tuesday</td>\n",
       "      <td>Q2</td>\n",
       "    </tr>\n",
       "    <tr>\n",
       "      <th>1</th>\n",
       "      <td>1985-02-20</td>\n",
       "      <td>김철수</td>\n",
       "      <td>남성</td>\n",
       "      <td>부산</td>\n",
       "      <td>20000</td>\n",
       "      <td>1985</td>\n",
       "      <td>2</td>\n",
       "      <td>Wednesday</td>\n",
       "      <td>Q1</td>\n",
       "    </tr>\n",
       "    <tr>\n",
       "      <th>2</th>\n",
       "      <td>1988-07-25</td>\n",
       "      <td>박영수</td>\n",
       "      <td>여성</td>\n",
       "      <td>서울</td>\n",
       "      <td>3000</td>\n",
       "      <td>1988</td>\n",
       "      <td>7</td>\n",
       "      <td>Monday</td>\n",
       "      <td>Q3</td>\n",
       "    </tr>\n",
       "    <tr>\n",
       "      <th>3</th>\n",
       "      <td>1980-09-05</td>\n",
       "      <td>최지영</td>\n",
       "      <td>여성</td>\n",
       "      <td>서울</td>\n",
       "      <td>2000</td>\n",
       "      <td>1980</td>\n",
       "      <td>9</td>\n",
       "      <td>Friday</td>\n",
       "      <td>Q3</td>\n",
       "    </tr>\n",
       "    <tr>\n",
       "      <th>4</th>\n",
       "      <td>1990-03-05</td>\n",
       "      <td>김영희</td>\n",
       "      <td>여성</td>\n",
       "      <td>부산</td>\n",
       "      <td>5000</td>\n",
       "      <td>1990</td>\n",
       "      <td>3</td>\n",
       "      <td>Monday</td>\n",
       "      <td>Q1</td>\n",
       "    </tr>\n",
       "  </tbody>\n",
       "</table>\n",
       "</div>"
      ],
      "text/plain": [
       "        생년월일   이름  성별  지역   구매금액     년  월         요일  분기\n",
       "0 1990-05-15  홍길동  남성  서울  10000  1990  5    Tuesday  Q2\n",
       "1 1985-02-20  김철수  남성  부산  20000  1985  2  Wednesday  Q1\n",
       "2 1988-07-25  박영수  여성  서울   3000  1988  7     Monday  Q3\n",
       "3 1980-09-05  최지영  여성  서울   2000  1980  9     Friday  Q3\n",
       "4 1990-03-05  김영희  여성  부산   5000  1990  3     Monday  Q1"
      ]
     },
     "execution_count": 73,
     "metadata": {},
     "output_type": "execute_result"
    }
   ],
   "source": [
    "###########################################\n",
    "### [문제16] 데이터변합 \n",
    "### df2 와 dfQ의 month를 이용하여 결과물을 result 값에작성합니다.\n",
    "### result 출력\n",
    "#####################################\n",
    "Quarter={'month':[1,2,3,4,5,6,7,8,9,10,11,12],\n",
    "  '분기':['Q1','Q1','Q1','Q2','Q2','Q2','Q3','Q3','Q3','Q4','Q4','Q4']}\n",
    "\n",
    "dfQ=pd.DataFrame(Quarter)\n",
    "\n",
    "dfQ.rename(columns={'month':'월'},inplace=True)\n",
    "result = pd.merge(df2,dfQ,on='월')\n",
    "result"
   ]
  }
 ],
 "metadata": {
  "kernelspec": {
   "display_name": "Python 3 (ipykernel)",
   "language": "python",
   "name": "python3"
  },
  "language_info": {
   "codemirror_mode": {
    "name": "ipython",
    "version": 3
   },
   "file_extension": ".py",
   "mimetype": "text/x-python",
   "name": "python",
   "nbconvert_exporter": "python",
   "pygments_lexer": "ipython3",
   "version": "3.11.5"
  }
 },
 "nbformat": 4,
 "nbformat_minor": 4
}
