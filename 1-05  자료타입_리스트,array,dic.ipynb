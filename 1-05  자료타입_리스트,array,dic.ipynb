{
 "cells": [
  {
   "cell_type": "markdown",
   "id": "7c54f80b",
   "metadata": {},
   "source": [
    "## 파이썬 리스트"
   ]
  },
  {
   "cell_type": "code",
   "execution_count": 23,
   "id": "ab4e6d25",
   "metadata": {},
   "outputs": [
    {
     "data": {
      "text/plain": [
       "list"
      ]
     },
     "execution_count": 23,
     "metadata": {},
     "output_type": "execute_result"
    }
   ],
   "source": [
    "a=[7,2,3]\n",
    "type(a)"
   ]
  },
  {
   "cell_type": "code",
   "execution_count": 19,
   "id": "4f9c9b5c",
   "metadata": {},
   "outputs": [
    {
     "ename": "TypeError",
     "evalue": "can only concatenate list (not \"int\") to list",
     "output_type": "error",
     "traceback": [
      "\u001b[1;31m---------------------------------------------------------------------------\u001b[0m",
      "\u001b[1;31mTypeError\u001b[0m                                 Traceback (most recent call last)",
      "Cell \u001b[1;32mIn[19], line 2\u001b[0m\n\u001b[0;32m      1\u001b[0m a\u001b[38;5;241m=\u001b[39m[\u001b[38;5;241m7\u001b[39m,\u001b[38;5;241m2\u001b[39m,\u001b[38;5;241m3\u001b[39m]\n\u001b[1;32m----> 2\u001b[0m a\u001b[38;5;241m+\u001b[39m\u001b[38;5;241m3\u001b[39m\n",
      "\u001b[1;31mTypeError\u001b[0m: can only concatenate list (not \"int\") to list"
     ]
    }
   ],
   "source": [
    "a=[7,2,3]\n",
    "a+3\n"
   ]
  },
  {
   "cell_type": "code",
   "execution_count": 20,
   "id": "0ea2a8d3",
   "metadata": {},
   "outputs": [
    {
     "data": {
      "text/plain": [
       "[7, 2, 3, 30]"
      ]
     },
     "execution_count": 20,
     "metadata": {},
     "output_type": "execute_result"
    }
   ],
   "source": [
    "a=[7,2,3]\n",
    "a+[30]\n"
   ]
  },
  {
   "cell_type": "code",
   "execution_count": 22,
   "id": "fa162215",
   "metadata": {},
   "outputs": [
    {
     "data": {
      "text/plain": [
       "[7, 2, 3, 7, 2, 3, 7, 2, 3, 7, 2, 3, 7, 2, 3]"
      ]
     },
     "execution_count": 22,
     "metadata": {},
     "output_type": "execute_result"
    }
   ],
   "source": [
    "a=[7,2,3]\n",
    "a*5"
   ]
  },
  {
   "cell_type": "code",
   "execution_count": 25,
   "id": "c7c7f80e",
   "metadata": {},
   "outputs": [
    {
     "data": {
      "text/plain": [
       "[35, 10, 15]"
      ]
     },
     "execution_count": 25,
     "metadata": {},
     "output_type": "execute_result"
    }
   ],
   "source": [
    "b=[]\n",
    "b.append(a[0]*5)\n",
    "b.append(a[1]*5)\n",
    "b.append(a[2]*5)\n",
    "b"
   ]
  },
  {
   "cell_type": "markdown",
   "id": "99754f44",
   "metadata": {},
   "source": [
    "## 파이썬 리스트와 for"
   ]
  },
  {
   "cell_type": "code",
   "execution_count": 2,
   "id": "d4746697",
   "metadata": {},
   "outputs": [
    {
     "data": {
      "text/plain": [
       "['서울', 977, '강남', '동대문', '강동']"
      ]
     },
     "execution_count": 2,
     "metadata": {},
     "output_type": "execute_result"
    }
   ],
   "source": [
    "sido=[ \n",
    "       ['서울', 977, '강남', '동대문','강동'],\n",
    "       ['제주',63,'서귀표','제주시'],\n",
    "       ['강원',156, '속초', '양양', '강릉','철원']\n",
    "     ]\n",
    "    \n",
    "sido[0]"
   ]
  },
  {
   "cell_type": "code",
   "execution_count": 3,
   "id": "b8c80195",
   "metadata": {},
   "outputs": [
    {
     "data": {
      "text/plain": [
       "977"
      ]
     },
     "execution_count": 3,
     "metadata": {},
     "output_type": "execute_result"
    }
   ],
   "source": [
    "sido[0][1]"
   ]
  },
  {
   "cell_type": "code",
   "execution_count": 7,
   "id": "b8e23b6d",
   "metadata": {},
   "outputs": [
    {
     "name": "stdout",
     "output_type": "stream",
     "text": [
      "--------------------------------------------------\n",
      "['서울', 977, '강남', '동대문', '강동']\n",
      "--------------------------------------------------\n",
      "['제주', 63, '서귀표', '제주시']\n",
      "--------------------------------------------------\n",
      "['강원', 156, '속초', '양양', '강릉', '철원']\n"
     ]
    }
   ],
   "source": [
    "for i in sido:\n",
    "    print('-'*50)\n",
    "    print(i)"
   ]
  },
  {
   "cell_type": "code",
   "execution_count": 8,
   "id": "b4fc64e0",
   "metadata": {},
   "outputs": [
    {
     "name": "stdout",
     "output_type": "stream",
     "text": [
      "--------------------------------------------------\n",
      "서울\n",
      "--------------------------------------------------\n",
      "제주\n",
      "--------------------------------------------------\n",
      "강원\n"
     ]
    }
   ],
   "source": [
    "\n",
    "for i in sido:\n",
    "    \n",
    "    print('-'*50)\n",
    "    print(i[0])"
   ]
  },
  {
   "cell_type": "code",
   "execution_count": 9,
   "id": "43b7eb31",
   "metadata": {},
   "outputs": [
    {
     "name": "stdout",
     "output_type": "stream",
     "text": [
      "--------------------------------------------------\n",
      "--------------------------------------------------\n",
      "제주\n",
      "--------------------------------------------------\n"
     ]
    }
   ],
   "source": [
    "for i in sido:\n",
    "    \n",
    "    print('-'*50)\n",
    "    if i[0]=='제주':\n",
    "        print(i[0])"
   ]
  },
  {
   "cell_type": "code",
   "execution_count": 11,
   "id": "b3cb104a",
   "metadata": {},
   "outputs": [
    {
     "name": "stdout",
     "output_type": "stream",
     "text": [
      "--------------------------------------------------\n",
      "xxx\n",
      "--------------------------------------------------\n",
      "제주\n",
      "--------------------------------------------------\n",
      "xxx\n"
     ]
    }
   ],
   "source": [
    "for i in sido:\n",
    "    \n",
    "    print('-'*50)\n",
    "    if i[0]=='제주':\n",
    "        print(i[0])\n",
    "    else:\n",
    "        print('xxx')\n",
    "        "
   ]
  },
  {
   "cell_type": "code",
   "execution_count": 12,
   "id": "6caf0728",
   "metadata": {},
   "outputs": [
    {
     "name": "stdout",
     "output_type": "stream",
     "text": [
      "--------------------------------------------------\n",
      "977\n",
      "--------------------------------------------------\n",
      "63\n",
      "--------------------------------------------------\n",
      "156\n"
     ]
    }
   ],
   "source": [
    "for i in sido:\n",
    "    \n",
    "    print('-'*50)\n",
    "    print(i[1])\n",
    "        "
   ]
  },
  {
   "cell_type": "code",
   "execution_count": 18,
   "id": "14524bf6",
   "metadata": {},
   "outputs": [
    {
     "name": "stdout",
     "output_type": "stream",
     "text": [
      "--------------------------------------------------\n",
      "977\n",
      "--------------------------------------------------\n",
      "63\n",
      "--------------------------------------------------\n",
      "156\n",
      "####################################################################################################\n",
      "\n",
      "총합 1196\n"
     ]
    }
   ],
   "source": [
    "sum=0\n",
    "for i in sido:\n",
    "    \n",
    "    print('-'*50)\n",
    "    print(i[1])\n",
    "    sum=sum+i[1]\n",
    "print('#'*100)\n",
    "print('\\n총합',sum)  #\\n은 한줄 띄고"
   ]
  },
  {
   "cell_type": "markdown",
   "id": "136fe1d4",
   "metadata": {},
   "source": [
    "## 파이썬 array\n",
    "- 리스트와 구조는 동일하지만 같은크기, 같은 성격을 갖고 있는 자료셋의 집합\n",
    "- list로 작성된 자료를 array로 변환해야 사용할수 있음.\n",
    "- 연산을 쉽고 빠르게 할수 있는 Numpy모듈과 사용하면 좋음"
   ]
  },
  {
   "cell_type": "code",
   "execution_count": 37,
   "id": "9e2624dc",
   "metadata": {},
   "outputs": [
    {
     "data": {
      "text/plain": [
       "(list, [1, '2', 3])"
      ]
     },
     "execution_count": 37,
     "metadata": {},
     "output_type": "execute_result"
    }
   ],
   "source": [
    "a=[1,\"2\",3]\n",
    "type(a),a"
   ]
  },
  {
   "cell_type": "code",
   "execution_count": 36,
   "id": "0c467f08",
   "metadata": {},
   "outputs": [
    {
     "data": {
      "text/plain": [
       "(array(['1', '2', '3'], dtype='<U11'), numpy.ndarray)"
      ]
     },
     "execution_count": 36,
     "metadata": {},
     "output_type": "execute_result"
    }
   ],
   "source": [
    "import numpy as np\n",
    "b=np.array(a)\n",
    "b, type(b)"
   ]
  },
  {
   "cell_type": "code",
   "execution_count": 38,
   "id": "724ad63c",
   "metadata": {},
   "outputs": [
    {
     "ename": "TypeError",
     "evalue": "can only concatenate list (not \"int\") to list",
     "output_type": "error",
     "traceback": [
      "\u001b[1;31m---------------------------------------------------------------------------\u001b[0m",
      "\u001b[1;31mTypeError\u001b[0m                                 Traceback (most recent call last)",
      "Cell \u001b[1;32mIn[38], line 1\u001b[0m\n\u001b[1;32m----> 1\u001b[0m a\u001b[38;5;241m+\u001b[39m\u001b[38;5;241m3\u001b[39m, b\u001b[38;5;241m+\u001b[39m\u001b[38;5;241m3\u001b[39m\n",
      "\u001b[1;31mTypeError\u001b[0m: can only concatenate list (not \"int\") to list"
     ]
    }
   ],
   "source": [
    "a+3, b+3"
   ]
  },
  {
   "cell_type": "code",
   "execution_count": 43,
   "id": "a7acd73a",
   "metadata": {},
   "outputs": [
    {
     "data": {
      "text/plain": [
       "(list, numpy.ndarray, [1, 3, 4, 30], array([31, 33, 34]))"
      ]
     },
     "execution_count": 43,
     "metadata": {},
     "output_type": "execute_result"
    }
   ],
   "source": [
    "a=[1,3,4]\n",
    "b=np.array(a)\n",
    "type(a),type(b), a+[30],b+30"
   ]
  },
  {
   "cell_type": "markdown",
   "id": "0b1b6107",
   "metadata": {},
   "source": [
    "## 파이썬 dic(딕셔너리)"
   ]
  },
  {
   "cell_type": "code",
   "execution_count": 53,
   "id": "2727de17",
   "metadata": {},
   "outputs": [
    {
     "name": "stdout",
     "output_type": "stream",
     "text": [
      "['홍길동', '박하나', '강서울']\n"
     ]
    }
   ],
   "source": [
    "\n",
    "\n",
    "my_dict = {'이름': ['홍길동','박하나','강서울'], \n",
    "           '나이': [25,30,20], \n",
    "           '직업': ['학생','회사원','교사']\n",
    "          }\n",
    "\n",
    "print(my_dict['이름'])  # '예시'를 출력\n",
    "\n",
    "\n"
   ]
  },
  {
   "cell_type": "code",
   "execution_count": 51,
   "id": "2ddd2c6c",
   "metadata": {},
   "outputs": [
    {
     "data": {
      "text/plain": [
       "{'이름': ['홍길동', '박하나', '강서울'], '나이': [25, 30, 20], '직업': ['학생', '회사원', '교사']}"
      ]
     },
     "execution_count": 51,
     "metadata": {},
     "output_type": "execute_result"
    }
   ],
   "source": [
    "my_dict"
   ]
  },
  {
   "cell_type": "code",
   "execution_count": 52,
   "id": "07b91196",
   "metadata": {},
   "outputs": [
    {
     "data": {
      "text/plain": [
       "'홍길동'"
      ]
     },
     "execution_count": 52,
     "metadata": {},
     "output_type": "execute_result"
    }
   ],
   "source": [
    "my_dict['이름'][0]"
   ]
  },
  {
   "cell_type": "code",
   "execution_count": 55,
   "id": "64e41d53",
   "metadata": {},
   "outputs": [
    {
     "data": {
      "text/plain": [
       "dict_keys(['이름', '나이', '직업'])"
      ]
     },
     "execution_count": 55,
     "metadata": {},
     "output_type": "execute_result"
    }
   ],
   "source": [
    "my_dict.keys()"
   ]
  },
  {
   "cell_type": "code",
   "execution_count": 56,
   "id": "f4ef2a88",
   "metadata": {},
   "outputs": [
    {
     "data": {
      "text/plain": [
       "dict_values([['홍길동', '박하나', '강서울'], [25, 30, 20], ['학생', '회사원', '교사']])"
      ]
     },
     "execution_count": 56,
     "metadata": {},
     "output_type": "execute_result"
    }
   ],
   "source": [
    "my_dict.values()"
   ]
  },
  {
   "cell_type": "markdown",
   "id": "7a8ad7ea",
   "metadata": {},
   "source": [
    "## 파이썬 튜플"
   ]
  },
  {
   "cell_type": "code",
   "execution_count": 61,
   "id": "05843c24",
   "metadata": {},
   "outputs": [
    {
     "name": "stdout",
     "output_type": "stream",
     "text": [
      "[30, 5, 9] <class 'list'>\n",
      "[100, 5, 9]\n"
     ]
    }
   ],
   "source": [
    "# 리스트 구조\n",
    "a=[30,5,9]\n",
    "print(a, type(a))\n",
    "\n",
    "a[0]=100  # a[0]번째 위치에 값을 100으로 변경\n",
    "print(a)"
   ]
  },
  {
   "cell_type": "code",
   "execution_count": 63,
   "id": "1cb48ad4",
   "metadata": {},
   "outputs": [
    {
     "name": "stdout",
     "output_type": "stream",
     "text": [
      "(30, 5, 9) <class 'tuple'>\n"
     ]
    },
    {
     "ename": "TypeError",
     "evalue": "'tuple' object does not support item assignment",
     "output_type": "error",
     "traceback": [
      "\u001b[1;31m---------------------------------------------------------------------------\u001b[0m",
      "\u001b[1;31mTypeError\u001b[0m                                 Traceback (most recent call last)",
      "Cell \u001b[1;32mIn[63], line 6\u001b[0m\n\u001b[0;32m      3\u001b[0m \u001b[38;5;28mprint\u001b[39m(a, \u001b[38;5;28mtype\u001b[39m(a))\n\u001b[0;32m      5\u001b[0m \u001b[38;5;66;03m# 튜플은 값을 변경할수 없음\u001b[39;00m\n\u001b[1;32m----> 6\u001b[0m a[\u001b[38;5;241m0\u001b[39m]\u001b[38;5;241m=\u001b[39m\u001b[38;5;241m100\u001b[39m  \n\u001b[0;32m      7\u001b[0m \u001b[38;5;28mprint\u001b[39m(a)\n",
      "\u001b[1;31mTypeError\u001b[0m: 'tuple' object does not support item assignment"
     ]
    }
   ],
   "source": [
    "# 튜플\n",
    "a=(30,5,9)\n",
    "print(a, type(a))\n",
    "\n",
    "# 튜플은 값을 변경할수 없음\n",
    "a[0]=100  \n",
    "print(a)"
   ]
  }
 ],
 "metadata": {
  "kernelspec": {
   "display_name": "Python 3 (ipykernel)",
   "language": "python",
   "name": "python3"
  },
  "language_info": {
   "codemirror_mode": {
    "name": "ipython",
    "version": 3
   },
   "file_extension": ".py",
   "mimetype": "text/x-python",
   "name": "python",
   "nbconvert_exporter": "python",
   "pygments_lexer": "ipython3",
   "version": "3.11.4"
  }
 },
 "nbformat": 4,
 "nbformat_minor": 5
}
